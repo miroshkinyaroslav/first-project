{
 "cells": [
  {
   "cell_type": "markdown",
   "metadata": {},
   "source": [
    "<div style=\"border:solid Chocolate 2px; padding: 40px\">\n",
    "    \n",
    " <b>Добрый день, Ярослав!</b>\n",
    "    \n",
    "Меня зовут Ксения Цыганова, и я буду комментировать твою работу и помогать тебе сделать ее сильнее. В Практикуме мы общаемся на «ты», но если тебе это будет некомфортно, пожалуйста, скажи, и мы будем обращаться друг к другу на «вы».\n",
    "    \n",
    "Все мои комментарии делятся на три вида:\n",
    "\n",
    "    \n",
    "👍 Здесь все отлично, идем дальше! - <font color='green'> зеленый цвет </font>\n",
    "    \n",
    "💡 Все хорошо, однако, можно оптимизировать или рассмотреть другие способы (необязательно для исполнения, чтобы пройти дальше) - <font color='gold'>желтый цвет</font>\n",
    "    \n",
    "🤔 Необходимо внести исправления, без которых я не смогу принять проект - <font color='red'>красный цвет</font>\n",
    "    \n",
    "    \n",
    "Свои комментарии я буду выделять заголовком «комментарий ревьюера». Пожалуйста, не удаляй их, это поможет сократить время проверки на повторных ревью.Ты также можешь писать свои комментарии к моим и выделять их любым понравившимся способом, отличным от моего. Если у тебя будут возникать вопросы в течение нашей работы, я с радостью на них отвечу.\n",
    "\n",
    "Цель моего ревью не критика и не возможность дать тебе готовые ответы, это способ привести тебя в нужное русло, чтобы ты смог развить собственные идеи и решения. Твой будущий работодатель будет поступать похожим образом. \n",
    "        \n",
    "   <b>У тебя все получится!</b>"
   ]
  },
  {
   "cell_type": "markdown",
   "metadata": {},
   "source": [
    "<div class=\"alert alert-info\">\n",
    "    <font size=\"4\", color = \"black\">✍Привет! Спасибо за ревью! Бегу смотреть и исправлять ошибки)Мои комментарии будут на синем фоне</font>\n",
    "    <br /> \n",
    "    <font size=\"3\", color = \"black\">\n",
    "<br /> \n",
    "        "
   ]
  },
  {
   "cell_type": "markdown",
   "metadata": {},
   "source": [
    "# Прогнозирование оттока клиентов в сети отелей «Как в гостях»"
   ]
  },
  {
   "cell_type": "markdown",
   "metadata": {},
   "source": [
    "## Описание проекта\n",
    "Заказчик исследования - сеть отелей \"Как в гостях\". Необходимо разработать модель машинного обучния, способную эффективно предсказывать отказ от брони. В случае, если модель предсказывает отказ, клиенту придется внести депозит 80% от стоимости за сутки и стоимость уборки. \n",
    "Ключевая метрика - прибыль компании.\n",
    "## Цели\n",
    "1. Разработать систему прогнозирования отказа от брони.\n",
    "2. Данная система должна окупиться за тестовый период.\n",
    "## Описание данных\n",
    "* id — номер записи;\n",
    "* adults — количество взрослых постояльцев;\n",
    "* arrival_date_year — год заезда;\n",
    "* arrival_date_month — месяц заезда;\n",
    "* arrival_date_week_number — неделя заезда;\n",
    "* arrival_date_day_of_month — день заезда;\n",
    "* babies — количество младенцев;\n",
    "* booking_changes — количество изменений параметров заказа;\n",
    "* children — количество детей от 3 до 14 лет;\n",
    "* country — гражданство постояльца;\n",
    "* customer_type — тип заказчика:\n",
    "* Contract — договор с юридическим лицом;\n",
    "* Group — групповой заезд;\n",
    "* Transient — не связано с договором или групповым заездом;\n",
    "* Transient-party — не связано с договором или групповым заездом, но связано с бронированием типа Transient.\n",
    "* days_in_waiting_list — сколько дней заказ ожидал подтверждения;\n",
    "* distribution_channel — канал дистрибуции заказа;\n",
    "* is_canceled — отмена заказа;\n",
    "* is_repeated_guest — признак того, что гость бронирует номер второй раз;\n",
    "* lead_time — количество дней между датой бронирования и датой прибытия;\n",
    "* meal — опции заказа:\n",
    "* SC — нет дополнительных опций;\n",
    "* BB — включён завтрак;\n",
    "* HB — включён завтрак и обед;\n",
    "* FB — включён завтрак, обед и ужин.\n",
    "* previous_bookings_not_canceled — количество подтверждённых заказов у клиента;\n",
    "* previous_cancellations — количество отменённых заказов у клиента;\n",
    "* required_car_parking_spaces — необходимость места для автомобиля;\n",
    "* reserved_room_type — тип забронированной комнаты;\n",
    "* stays_in_weekend_nights — количество ночей в выходные дни;\n",
    "* stays_in_week_nights — количество ночей в будние дни;\n",
    "* total_nights — общее количество ночей;\n",
    "* total_of_special_requests — количество специальных отметок."
   ]
  },
  {
   "cell_type": "markdown",
   "metadata": {},
   "source": [
    "<div class=\"alert alert-success\">\n",
    "<h2> Комментарий ревьюера <a class=\"tocSkip\"> </h2>\n",
    "\n",
    "<b>Все отлично!👍:</b> \n",
    "    \n",
    "Отлично, что есть вступительный комментарий."
   ]
  },
  {
   "cell_type": "markdown",
   "metadata": {},
   "source": [
    "## Шаг 1. Откройте файлы с данными"
   ]
  },
  {
   "cell_type": "markdown",
   "metadata": {},
   "source": [
    "### Импорт библиотек необходимых для анализа"
   ]
  },
  {
   "cell_type": "code",
   "execution_count": 1,
   "metadata": {},
   "outputs": [],
   "source": [
    "import pandas as pd\n",
    "import numpy as np\n",
    "import os\n",
    "import seaborn as sns\n",
    "from tqdm import tqdm\n",
    "import matplotlib.pyplot as plt\n",
    "from sklearn.model_selection import train_test_split\n",
    "from sklearn.linear_model import LogisticRegression\n",
    "from sklearn.ensemble import RandomForestClassifier\n",
    "from sklearn.preprocessing import StandardScaler\n",
    "from sklearn.metrics import (\n",
    "    accuracy_score,\n",
    "    recall_score, \n",
    "    precision_score,\n",
    "    f1_score,\n",
    "    classification_report,\n",
    "    roc_curve, \n",
    "    roc_auc_score,\n",
    "    confusion_matrix, \n",
    "    ConfusionMatrixDisplay\n",
    ") "
   ]
  },
  {
   "cell_type": "markdown",
   "metadata": {},
   "source": [
    "<div class=\"alert alert-info\">\n",
    "    <font size=\"4\", color = \"black\"> Немного не понял, что в импортах не соответствует PEP-8 (</font>\n",
    "    <br /> \n",
    "    <font size=\"3\", color = \"black\">\n",
    "<br /> \n",
    "        "
   ]
  },
  {
   "cell_type": "markdown",
   "metadata": {},
   "source": [
    "<div class=\"alert alert-success\">\n",
    "<h2> Комментарий ревьюера <a class=\"tocSkip\"> </h2>\n",
    "\n",
    "    \n",
    "<b>Все отлично!👍:</b> \n",
    "    \n",
    "Отлично, что все импорты собраны в одном месте в начале проекта. Это поможет в случае чего сразу увидеть, какие библиотеки следует доустановить."
   ]
  },
  {
   "cell_type": "markdown",
   "metadata": {},
   "source": [
    "### Пользовательские функции"
   ]
  },
  {
   "cell_type": "code",
   "execution_count": 2,
   "metadata": {},
   "outputs": [],
   "source": [
    "def seson_coef(row):\n",
    "    month = row['arrival_date_month']\n",
    "    if month in ['December', 'January', 'February']:\n",
    "        return 1\n",
    "    elif month in ['March', 'April', 'May','September', 'October', 'November']:\n",
    "        return 1.2\n",
    "    elif month in ['June','July', 'August' ]:\n",
    "        return 1.4\n",
    "\n",
    "def room_price(row):\n",
    "    if row['reserved_room_type'] == 'A':\n",
    "        return 1000\n",
    "    elif row['reserved_room_type'] == 'B':\n",
    "        return 800\n",
    "    elif row['reserved_room_type'] == 'C':\n",
    "        return 600\n",
    "    elif row['reserved_room_type'] == 'D':\n",
    "        return 550\n",
    "    elif row['reserved_room_type'] == 'E':\n",
    "        return 500\n",
    "    elif row['reserved_room_type'] == 'F':\n",
    "        return 450\n",
    "    elif row['reserved_room_type'] == 'G':\n",
    "        return 350\n",
    "\n",
    "def service_price(row):\n",
    "    service_price_list = {\n",
    "        'A': 400, \n",
    "        'B': 350,\n",
    "        'C': 350,\n",
    "        'D': 150,\n",
    "        'E': 150,\n",
    "        'F': 150,\n",
    "        'G': 150\n",
    "        \n",
    "    }\n",
    "    return service_price_list[row['reserved_room_type']]\n",
    "\n",
    "def features_scalling(features_train, features_valid, features_test):\n",
    "    scaler = StandardScaler()\n",
    "    numeric_columns = list(features_train.dtypes.loc[(features_train.dtypes == 'float64') | \\\n",
    "         (features_train.dtypes == 'int64') | (features_train.dtypes == 'int32') | \\\n",
    "                                                     (features_train.dtypes == 'uint8')].index)\n",
    "    scaler.fit(features_train.loc[:, numeric_columns])\n",
    "    features_train.loc[:, numeric_columns] = pd.DataFrame(scaler.transform(features_train.loc[:, numeric_columns]),\\\n",
    "                                    index=features_train.index, columns=numeric_columns)\n",
    "    features_valid.loc[:, numeric_columns] = pd.DataFrame(scaler.transform(features_valid.loc[:, numeric_columns]),\\\n",
    "                                     index=features_valid.index, columns=numeric_columns)\n",
    "    features_test.loc[:, numeric_columns] = pd.DataFrame(scaler.transform(features_test.loc[:, numeric_columns]), \\\n",
    "                                     index=features_test.index, columns=numeric_columns)\n",
    "    return features_train, features_valid, features_test"
   ]
  },
  {
   "cell_type": "markdown",
   "metadata": {},
   "source": [
    "<div class=\"alert alert-warning\">\n",
    "    <h2> Комментарий ревьюера <a class=\"tocSkip\"> </h2>\n",
    "    \n",
    "<b>Некоторые замечания и рекомендации💡:</b> \n",
    "        \n",
    "Стоит учитывать рекомендации PEP-8 при оформлении проекта, в том числе импортов. С ними можно познакомиться по ссылке: https://pythonworld.ru/osnovy/pep-8-rukovodstvo-po-napisaniyu-koda-na-python.html"
   ]
  },
  {
   "cell_type": "code",
   "execution_count": 3,
   "metadata": {},
   "outputs": [],
   "source": [
    "#Настройка pandas\n",
    "pd.set_option('display.max_columns', None)"
   ]
  },
  {
   "cell_type": "markdown",
   "metadata": {},
   "source": [
    "### Загрузка данных"
   ]
  },
  {
   "cell_type": "code",
   "execution_count": 4,
   "metadata": {},
   "outputs": [
    {
     "name": "stdout",
     "output_type": "stream",
     "text": [
      "Датасет успешно считан\n"
     ]
    }
   ],
   "source": [
    "#open dataset\n",
    "pth1 = '/datasets/'\n",
    "pth2 = 'datasets/'\n",
    "\n",
    "if os.path.exists(pth1):\n",
    "    try:\n",
    "        data_train = pd.read_csv('/datasets/hotel_train.csv')\n",
    "        data_test = pd.read_csv('/datasets/hotel_test.csv')\n",
    "        print('Датасет успешно считан')\n",
    "    except:\n",
    "        print('Возникли проблемы с чтением файлов 1')\n",
    "elif os.path.exists(pth2):\n",
    "    try:\n",
    "        data_train = pd.read_csv('datasets/hotel_train.csv')\n",
    "        data_test = pd.read_csv('datasets/hotel_test.csv')\n",
    "        print('Датасет успешно считан')\n",
    "    except:\n",
    "        print('Возникли проблемы с чтением файлов 2')\n",
    "else:\n",
    "    print('Не найдена необходимая директория')"
   ]
  },
  {
   "cell_type": "markdown",
   "metadata": {},
   "source": [
    "<div class=\"alert alert-success\">\n",
    "<h2> Комментарий ревьюера <a class=\"tocSkip\"> </h2>\n",
    "\n",
    "<b>Все отлично!👍:</b> \n",
    "    \n",
    "Отлично, что используешь конструкцию try/except для загрузки данных."
   ]
  },
  {
   "cell_type": "markdown",
   "metadata": {},
   "source": [
    "## Шаг 2. Предобработка и исследовательский анализ данных"
   ]
  },
  {
   "cell_type": "markdown",
   "metadata": {},
   "source": [
    "### Проверка утверждений"
   ]
  },
  {
   "cell_type": "markdown",
   "metadata": {},
   "source": [
    "Перед началом исследовательского анализа данных проверим следующие утверждения?\n",
    "1. Столбец id уникален для data_train, data_test\n",
    "2. Индексы id в data_train и data_test не имеют пересечений"
   ]
  },
  {
   "cell_type": "code",
   "execution_count": 5,
   "metadata": {},
   "outputs": [
    {
     "name": "stdout",
     "output_type": "stream",
     "text": [
      "Количество дубликатов в столбце id data_train: 0\n",
      "Количество дубликатов в столбце id data_test: 0\n",
      "id data_train и id data_test не имеют пересечений: True\n"
     ]
    }
   ],
   "source": [
    "print(f'Количество дубликатов в столбце id data_train: {data_train.duplicated().sum()}\\n\\\n",
    "Количество дубликатов в столбце id data_test: {data_test.duplicated().sum()}\\n\\\n",
    "id data_train и id data_test не имеют пересечений: {set(data_train.id).isdisjoint(set(data_test.id))}')"
   ]
  },
  {
   "cell_type": "markdown",
   "metadata": {},
   "source": [
    "<div class=\"alert alert-success\">\n",
    "<h2> Комментарий ревьюера <a class=\"tocSkip\"> </h2>\n",
    "\n",
    "<b>Все отлично!👍:</b> \n",
    "    \n",
    "Молодец, что проверяешь данные на дубликаты."
   ]
  },
  {
   "cell_type": "markdown",
   "metadata": {},
   "source": [
    "Действительно, id уникален для каждого из датасетов. и не имеет пересечений между собой.\n",
    "1. Запомним индексы (id) каждого из датасетов\n",
    "2. Объединим данные в один большой датасет, проведем исследовательский анализ данных и обработку.\n",
    "3. Затем снова разъединим их на обучающий и проверочный датасет перед началом машинного обучения"
   ]
  },
  {
   "cell_type": "code",
   "execution_count": 6,
   "metadata": {},
   "outputs": [],
   "source": [
    "data_train = data_train.set_index('id')\n",
    "data_test = data_test.set_index('id')"
   ]
  },
  {
   "cell_type": "code",
   "execution_count": 7,
   "metadata": {},
   "outputs": [],
   "source": [
    "train_indexes = data_train.index\n",
    "test_indexes = data_test.index"
   ]
  },
  {
   "cell_type": "code",
   "execution_count": 8,
   "metadata": {},
   "outputs": [],
   "source": [
    "data = pd.concat([data_train, data_test])"
   ]
  },
  {
   "cell_type": "markdown",
   "metadata": {},
   "source": [
    "###  Пропуски в датасетах"
   ]
  },
  {
   "cell_type": "markdown",
   "metadata": {},
   "source": [
    "Далее проверим данные на наличие пропусков"
   ]
  },
  {
   "cell_type": "code",
   "execution_count": 9,
   "metadata": {},
   "outputs": [
    {
     "name": "stdout",
     "output_type": "stream",
     "text": [
      "Суммарное количество пропусков во всем датасете: 0\n"
     ]
    }
   ],
   "source": [
    "print(f'Суммарное количество пропусков во всем датасете: {data.isna().sum().sum()}')"
   ]
  },
  {
   "cell_type": "markdown",
   "metadata": {},
   "source": [
    "Пропусков нет вовсе."
   ]
  },
  {
   "cell_type": "markdown",
   "metadata": {},
   "source": [
    "<div class=\"alert alert-success\">\n",
    "<h2> Комментарий ревьюера <a class=\"tocSkip\"> </h2>\n",
    "\n",
    "<b>Все отлично!👍:</b> \n",
    "    \n",
    "Молодец, что проверяешь данные на пропуски."
   ]
  },
  {
   "cell_type": "markdown",
   "metadata": {},
   "source": [
    "### Сезонные коэффициенты"
   ]
  },
  {
   "cell_type": "markdown",
   "metadata": {},
   "source": [
    "Добавим столбец season_coef со значениями:\n",
    "1.4 - лето\n",
    "1.2 - осень, весна\n",
    "1 - зима"
   ]
  },
  {
   "cell_type": "code",
   "execution_count": 10,
   "metadata": {},
   "outputs": [
    {
     "data": {
      "text/plain": [
       "array([1.4, 1.2, 1. ])"
      ]
     },
     "execution_count": 10,
     "metadata": {},
     "output_type": "execute_result"
    }
   ],
   "source": [
    "data['season_coef'] = data.apply(lambda row: seson_coef(row), axis=1)\n",
    "data.season_coef.unique()"
   ]
  },
  {
   "cell_type": "markdown",
   "metadata": {},
   "source": [
    "<div class=\"alert alert-warning\">\n",
    "    <h2> Комментарий ревьюера <a class=\"tocSkip\"> </h2>\n",
    "    \n",
    "<b>Некоторые замечания и рекомендации💡:</b> \n",
    "        \n",
    "Пользовательские функции можно перенести в начало проекта после импортов и констант."
   ]
  },
  {
   "cell_type": "markdown",
   "metadata": {},
   "source": [
    "<div class=\"alert alert-info\">\n",
    "    <font size=\"4\", color = \"black\"> Сделано</font>\n",
    "    <br /> \n",
    "    <font size=\"3\", color = \"black\">\n",
    "<br /> "
   ]
  },
  {
   "cell_type": "markdown",
   "metadata": {},
   "source": [
    "### Стоимость номера за ночь и обслуживания"
   ]
  },
  {
   "cell_type": "code",
   "execution_count": 11,
   "metadata": {},
   "outputs": [],
   "source": [
    "data.reserved_room_type = data.reserved_room_type.str.replace(' ', '')"
   ]
  },
  {
   "cell_type": "code",
   "execution_count": 12,
   "metadata": {},
   "outputs": [
    {
     "data": {
      "text/plain": [
       "array([1000,  600,  550,  500,  350,  450,  800])"
      ]
     },
     "execution_count": 12,
     "metadata": {},
     "output_type": "execute_result"
    }
   ],
   "source": [
    "data['room_price'] = data.apply(lambda row: room_price(row), axis=1)\n",
    "data.room_price.unique()"
   ]
  },
  {
   "cell_type": "markdown",
   "metadata": {},
   "source": [
    "В датасете есть три взаимосвязанных колонки:\n",
    "stays_in_weekend_nights, stays_in_week_nights, total_nights\n",
    "Логика подсказывает, что:\n",
    "$$\n",
    "stays\\_in\\_weekend\\_nights + stays\\_in\\_week\\_nights =total\\_nights\n",
    "$$\n",
    "Проверим, так ли это"
   ]
  },
  {
   "cell_type": "code",
   "execution_count": 13,
   "metadata": {},
   "outputs": [
    {
     "data": {
      "text/plain": [
       "array([ True])"
      ]
     },
     "execution_count": 13,
     "metadata": {},
     "output_type": "execute_result"
    }
   ],
   "source": [
    "(data.stays_in_week_nights + data.stays_in_weekend_nights == data.total_nights).unique()"
   ]
  },
  {
   "cell_type": "markdown",
   "metadata": {},
   "source": [
    "Чтобы не попасть в дамми ловушку, столбец total night необходимо удалить"
   ]
  },
  {
   "cell_type": "code",
   "execution_count": 14,
   "metadata": {},
   "outputs": [],
   "source": [
    "data = data.drop('total_nights', axis=1)"
   ]
  },
  {
   "cell_type": "markdown",
   "metadata": {},
   "source": [
    "<div class=\"alert alert-success\">\n",
    "<h2> Комментарий ревьюера <a class=\"tocSkip\"> </h2>\n",
    "\n",
    "<b>Все отлично!👍:</b> \n",
    "    \n",
    "Да, все верно.\n",
    "        "
   ]
  },
  {
   "cell_type": "markdown",
   "metadata": {},
   "source": [
    "Вычислим для каждого гостя стоимость обслуживания за все время пребывания"
   ]
  },
  {
   "cell_type": "code",
   "execution_count": 15,
   "metadata": {},
   "outputs": [],
   "source": [
    "data['service_price'] = data.apply(lambda row: service_price(row), axis=1)\n"
   ]
  },
  {
   "cell_type": "markdown",
   "metadata": {},
   "source": [
    "### Выручка компании и прибыль"
   ]
  },
  {
   "cell_type": "markdown",
   "metadata": {},
   "source": [
    "Создадим столбец revenue и profit. С полной выручкой и прибылью"
   ]
  },
  {
   "cell_type": "code",
   "execution_count": 16,
   "metadata": {},
   "outputs": [],
   "source": [
    "data['revenue'] = (data.stays_in_week_nights + data.stays_in_weekend_nights) *\\\n",
    "    data.room_price * data.season_coef * (1 - data.is_canceled)\n",
    "data['profit'] = (1 - data.is_canceled) * (data.revenue - data.service_price - \\\n",
    "    data.service_price * ((data.stays_in_week_nights + data.stays_in_weekend_nights) // 2)) \\\n",
    "    - data.is_canceled * (data.service_price + data.room_price * data.season_coef)"
   ]
  },
  {
   "cell_type": "markdown",
   "metadata": {},
   "source": [
    "<div class=\"alert alert-success\">\n",
    "<h2> Комментарий ревьюера <a class=\"tocSkip\"> </h2>\n",
    "\n",
    "<b>Все отлично!👍:</b> \n",
    "    \n",
    "Расчеты верные."
   ]
  },
  {
   "cell_type": "markdown",
   "metadata": {},
   "source": [
    "### Корреляция"
   ]
  },
  {
   "cell_type": "code",
   "execution_count": 17,
   "metadata": {},
   "outputs": [
    {
     "data": {
      "image/png": "[encoded data removed]",
      "text/plain": [
       "<Figure size 432x288 with 2 Axes>"
      ]
     },
     "metadata": {
      "needs_background": "light"
     },
     "output_type": "display_data"
    }
   ],
   "source": [
    "sns.heatmap(data.corr());"
   ]
  },
  {
   "cell_type": "markdown",
   "metadata": {},
   "source": [
    "<div class=\"alert alert-warning\">\n",
    "    <h2> Комментарий ревьюера <a class=\"tocSkip\"> </h2>\n",
    "    \n",
    "<b>Некоторые замечания и рекомендации💡:</b> \n",
    "\n",
    "1. Для расчета корреляций с учетом категориальных признаков стоит использовать инструменты, рассчитанные на это, например, https://phik.readthedocs.io/en/latest/\n",
    "    \n",
    "2. Коэффициент корреляции Пирсона (который по дефолту рассчитывается в методе corr), имеет определенные требования к данным:\n",
    "    \n",
    "- характер взаимосвязи двух переменных должен быть линейным и монотонным (коэффициент корреляции Пирсона не может уловить нелинейные зависимости). Поэтому, чтобы проконтроллировать корректность применения коэффициента корреляции Пирсона стоит сначала построить диаграммы рассеяния для переменных. \n",
    "    \n",
    "- распределения обоих переменных, для которых рассчитывается коэффициент должны быть распределены нормально. То есть стоит построить графики распределений для переменных прежде чем изучать корреляцию. Также выбросы, ассиметрия, бимодальность негативно сказываются на адекватности использования среднего значения в качестве некоторого показателя, характеризующего нашу выборку (а коэффициент коррелиции Пирсона основан на среднем значении). Формулу можно посмотреть здесь:\n",
    "    \n",
    "https://studfile.net/preview/2966946/page:34/\n",
    "    \n",
    "Чтобы уменьшить негативное влияние выбросов можно перейти от коэффициента корреляции Пирсона к непараметрическому критерию корреляции - коэффициенту корреляции Спирмена, который уходит от реальных значенийи переходит к рангам.\n",
    "    "
   ]
  },
  {
   "cell_type": "markdown",
   "metadata": {},
   "source": [
    "<div class=\"alert alert-info\">\n",
    "    <font size=\"4\", color = \"black\"> Попробую, код ниже. Добавлю импорт тут, надеюсь ничего страшного. Новые кусочки кода, между горизонтальными синими линиями</font>\n",
    "    <br /> \n",
    "    <font size=\"3\", color = \"black\">\n",
    "<br /> "
   ]
  },
  {
   "cell_type": "markdown",
   "metadata": {},
   "source": [
    "<hr style=\"border: 2px solid blue;\">"
   ]
  },
  {
   "cell_type": "code",
   "execution_count": 18,
   "metadata": {},
   "outputs": [
    {
     "name": "stdout",
     "output_type": "stream",
     "text": [
      "interval columns not set, guessing: ['is_canceled', 'lead_time', 'arrival_date_year', 'arrival_date_week_number', 'arrival_date_day_of_month', 'stays_in_weekend_nights', 'stays_in_week_nights', 'adults', 'children', 'babies', 'is_repeated_guest', 'previous_cancellations', 'previous_bookings_not_canceled', 'booking_changes', 'days_in_waiting_list', 'required_car_parking_spaces', 'total_of_special_requests', 'season_coef', 'room_price', 'service_price', 'revenue', 'profit']\n",
      "CPU times: user 8.55 s, sys: 86.1 ms, total: 8.64 s\n",
      "Wall time: 8.69 s\n"
     ]
    },
    {
     "data": {
      "text/html": [
       "<style  type=\"text/css\" >\n",
       "#T_e82e7_row0_col0,#T_e82e7_row0_col27,#T_e82e7_row1_col1,#T_e82e7_row2_col2,#T_e82e7_row3_col3,#T_e82e7_row3_col23,#T_e82e7_row4_col4,#T_e82e7_row5_col5,#T_e82e7_row6_col6,#T_e82e7_row7_col7,#T_e82e7_row8_col8,#T_e82e7_row9_col9,#T_e82e7_row10_col10,#T_e82e7_row11_col11,#T_e82e7_row12_col12,#T_e82e7_row13_col13,#T_e82e7_row14_col14,#T_e82e7_row15_col15,#T_e82e7_row16_col16,#T_e82e7_row17_col17,#T_e82e7_row17_col24,#T_e82e7_row17_col25,#T_e82e7_row18_col18,#T_e82e7_row19_col19,#T_e82e7_row20_col20,#T_e82e7_row21_col21,#T_e82e7_row22_col22,#T_e82e7_row23_col3,#T_e82e7_row23_col23,#T_e82e7_row24_col17,#T_e82e7_row24_col24,#T_e82e7_row24_col25,#T_e82e7_row25_col17,#T_e82e7_row25_col24,#T_e82e7_row25_col25,#T_e82e7_row26_col26,#T_e82e7_row27_col0,#T_e82e7_row27_col27{\n",
       "            background-color:  #b40426;\n",
       "            color:  #f1f1f1;\n",
       "        }#T_e82e7_row0_col1,#T_e82e7_row24_col9{\n",
       "            background-color:  #bcd2f7;\n",
       "            color:  #000000;\n",
       "        }#T_e82e7_row0_col2,#T_e82e7_row0_col9,#T_e82e7_row5_col20,#T_e82e7_row6_col20,#T_e82e7_row7_col16,#T_e82e7_row7_col25,#T_e82e7_row9_col19,#T_e82e7_row9_col27,#T_e82e7_row13_col26,#T_e82e7_row15_col4,#T_e82e7_row17_col14,#T_e82e7_row19_col9,#T_e82e7_row23_col16,#T_e82e7_row23_col24,#T_e82e7_row24_col2,#T_e82e7_row24_col23,#T_e82e7_row27_col15,#T_e82e7_row27_col25{\n",
       "            background-color:  #455cce;\n",
       "            color:  #f1f1f1;\n",
       "        }#T_e82e7_row0_col3,#T_e82e7_row4_col7,#T_e82e7_row6_col5,#T_e82e7_row6_col17,#T_e82e7_row7_col0,#T_e82e7_row7_col4,#T_e82e7_row11_col13,#T_e82e7_row14_col7,#T_e82e7_row17_col6,#T_e82e7_row22_col2,#T_e82e7_row23_col5,#T_e82e7_row26_col14{\n",
       "            background-color:  #536edd;\n",
       "            color:  #000000;\n",
       "        }#T_e82e7_row0_col4,#T_e82e7_row3_col15,#T_e82e7_row3_col17,#T_e82e7_row3_col24,#T_e82e7_row5_col6,#T_e82e7_row9_col13,#T_e82e7_row11_col22,#T_e82e7_row18_col26,#T_e82e7_row19_col21,#T_e82e7_row21_col19,#T_e82e7_row27_col9,#T_e82e7_row27_col16{\n",
       "            background-color:  #516ddb;\n",
       "            color:  #000000;\n",
       "        }#T_e82e7_row0_col5,#T_e82e7_row0_col25,#T_e82e7_row1_col25,#T_e82e7_row2_col0,#T_e82e7_row2_col5,#T_e82e7_row2_col24,#T_e82e7_row3_col21,#T_e82e7_row4_col18,#T_e82e7_row6_col16,#T_e82e7_row7_col9,#T_e82e7_row13_col10,#T_e82e7_row15_col8,#T_e82e7_row16_col4,#T_e82e7_row17_col18,#T_e82e7_row18_col1,#T_e82e7_row18_col24,#T_e82e7_row19_col13,#T_e82e7_row20_col25,#T_e82e7_row21_col22,#T_e82e7_row23_col14,#T_e82e7_row24_col5,#T_e82e7_row24_col14{\n",
       "            background-color:  #445acc;\n",
       "            color:  #f1f1f1;\n",
       "        }#T_e82e7_row0_col6,#T_e82e7_row2_col8,#T_e82e7_row2_col13,#T_e82e7_row5_col22,#T_e82e7_row6_col0,#T_e82e7_row8_col2,#T_e82e7_row9_col15,#T_e82e7_row9_col16,#T_e82e7_row10_col1,#T_e82e7_row10_col2,#T_e82e7_row10_col3,#T_e82e7_row10_col4,#T_e82e7_row10_col5,#T_e82e7_row10_col7,#T_e82e7_row10_col12,#T_e82e7_row10_col15,#T_e82e7_row10_col16,#T_e82e7_row10_col19,#T_e82e7_row10_col20,#T_e82e7_row10_col23,#T_e82e7_row11_col18,#T_e82e7_row12_col10,#T_e82e7_row12_col15,#T_e82e7_row12_col16,#T_e82e7_row14_col18,#T_e82e7_row15_col9,#T_e82e7_row15_col10,#T_e82e7_row15_col12,#T_e82e7_row15_col17,#T_e82e7_row15_col18,#T_e82e7_row15_col20,#T_e82e7_row15_col21,#T_e82e7_row15_col24,#T_e82e7_row15_col25,#T_e82e7_row15_col26,#T_e82e7_row15_col27,#T_e82e7_row16_col5,#T_e82e7_row16_col9,#T_e82e7_row16_col10,#T_e82e7_row16_col12,#T_e82e7_row16_col18,#T_e82e7_row16_col25,#T_e82e7_row18_col11,#T_e82e7_row18_col14,#T_e82e7_row18_col15,#T_e82e7_row18_col16,#T_e82e7_row18_col19,#T_e82e7_row18_col23,#T_e82e7_row19_col10,#T_e82e7_row19_col18,#T_e82e7_row21_col8,#T_e82e7_row21_col15,#T_e82e7_row25_col15,#T_e82e7_row25_col16,#T_e82e7_row25_col27{\n",
       "            background-color:  #3b4cc0;\n",
       "            color:  #f1f1f1;\n",
       "        }#T_e82e7_row0_col7,#T_e82e7_row2_col11,#T_e82e7_row3_col25,#T_e82e7_row4_col17,#T_e82e7_row4_col25,#T_e82e7_row6_col14,#T_e82e7_row8_col19,#T_e82e7_row11_col21,#T_e82e7_row13_col6,#T_e82e7_row13_col18,#T_e82e7_row14_col4,#T_e82e7_row15_col1,#T_e82e7_row19_col7,#T_e82e7_row21_col11,#T_e82e7_row21_col13,#T_e82e7_row22_col4,#T_e82e7_row23_col2,#T_e82e7_row24_col3{\n",
       "            background-color:  #4f69d9;\n",
       "            color:  #000000;\n",
       "        }#T_e82e7_row0_col8,#T_e82e7_row0_col16,#T_e82e7_row5_col8,#T_e82e7_row5_col15,#T_e82e7_row6_col13,#T_e82e7_row8_col0,#T_e82e7_row8_col18,#T_e82e7_row9_col11,#T_e82e7_row11_col9,#T_e82e7_row11_col14,#T_e82e7_row14_col11,#T_e82e7_row17_col4,#T_e82e7_row18_col21,#T_e82e7_row21_col18,#T_e82e7_row26_col5,#T_e82e7_row27_col10{\n",
       "            background-color:  #4a63d3;\n",
       "            color:  #f1f1f1;\n",
       "        }#T_e82e7_row0_col10,#T_e82e7_row2_col16,#T_e82e7_row2_col25,#T_e82e7_row3_col18,#T_e82e7_row5_col0,#T_e82e7_row5_col2,#T_e82e7_row5_col18,#T_e82e7_row6_col21,#T_e82e7_row6_col25,#T_e82e7_row7_col2,#T_e82e7_row7_col10,#T_e82e7_row9_col21,#T_e82e7_row10_col11,#T_e82e7_row11_col10,#T_e82e7_row11_col16,#T_e82e7_row14_col17,#T_e82e7_row14_col19,#T_e82e7_row15_col23,#T_e82e7_row16_col11,#T_e82e7_row19_col14,#T_e82e7_row19_col25,#T_e82e7_row21_col9,#T_e82e7_row21_col20,#T_e82e7_row23_col13,#T_e82e7_row25_col19,#T_e82e7_row25_col26{\n",
       "            background-color:  #4358cb;\n",
       "            color:  #f1f1f1;\n",
       "        }#T_e82e7_row0_col11,#T_e82e7_row1_col9,#T_e82e7_row3_col16,#T_e82e7_row4_col21,#T_e82e7_row5_col26,#T_e82e7_row6_col23,#T_e82e7_row7_col22,#T_e82e7_row10_col17,#T_e82e7_row16_col0,#T_e82e7_row16_col27,#T_e82e7_row18_col13,#T_e82e7_row18_col20,#T_e82e7_row18_col25,#T_e82e7_row20_col6,#T_e82e7_row22_col7,#T_e82e7_row22_col14,#T_e82e7_row22_col15,#T_e82e7_row23_col6,#T_e82e7_row24_col10,#T_e82e7_row25_col18,#T_e82e7_row26_col10{\n",
       "            background-color:  #465ecf;\n",
       "            color:  #f1f1f1;\n",
       "        }#T_e82e7_row0_col12{\n",
       "            background-color:  #d1dae9;\n",
       "            color:  #000000;\n",
       "        }#T_e82e7_row0_col13,#T_e82e7_row8_col12,#T_e82e7_row12_col4,#T_e82e7_row12_col24{\n",
       "            background-color:  #86a9fc;\n",
       "            color:  #000000;\n",
       "        }#T_e82e7_row0_col14,#T_e82e7_row8_col26,#T_e82e7_row13_col11,#T_e82e7_row17_col21,#T_e82e7_row20_col24,#T_e82e7_row22_col11,#T_e82e7_row22_col17,#T_e82e7_row23_col8,#T_e82e7_row23_col11,#T_e82e7_row24_col20{\n",
       "            background-color:  #5b7ae5;\n",
       "            color:  #000000;\n",
       "        }#T_e82e7_row0_col15,#T_e82e7_row0_col17,#T_e82e7_row4_col16,#T_e82e7_row8_col5,#T_e82e7_row8_col10,#T_e82e7_row10_col18,#T_e82e7_row11_col2,#T_e82e7_row14_col6,#T_e82e7_row15_col3,#T_e82e7_row16_col1,#T_e82e7_row16_col21,#T_e82e7_row17_col0,#T_e82e7_row18_col10,#T_e82e7_row18_col27,#T_e82e7_row20_col18,#T_e82e7_row21_col16,#T_e82e7_row23_col17{\n",
       "            background-color:  #4b64d5;\n",
       "            color:  #f1f1f1;\n",
       "        }#T_e82e7_row0_col18,#T_e82e7_row1_col17,#T_e82e7_row2_col1,#T_e82e7_row4_col6,#T_e82e7_row4_col24,#T_e82e7_row7_col19,#T_e82e7_row7_col23,#T_e82e7_row11_col7,#T_e82e7_row11_col23,#T_e82e7_row13_col21,#T_e82e7_row13_col22,#T_e82e7_row19_col26,#T_e82e7_row22_col1,#T_e82e7_row22_col13,#T_e82e7_row25_col13{\n",
       "            background-color:  #5875e1;\n",
       "            color:  #000000;\n",
       "        }#T_e82e7_row0_col19,#T_e82e7_row8_col3,#T_e82e7_row11_col19,#T_e82e7_row13_col15,#T_e82e7_row14_col20,#T_e82e7_row19_col11,#T_e82e7_row20_col22,#T_e82e7_row26_col3{\n",
       "            background-color:  #6788ee;\n",
       "            color:  #000000;\n",
       "        }#T_e82e7_row0_col20,#T_e82e7_row4_col20,#T_e82e7_row26_col22{\n",
       "            background-color:  #7396f5;\n",
       "            color:  #000000;\n",
       "        }#T_e82e7_row0_col21,#T_e82e7_row3_col8,#T_e82e7_row11_col8,#T_e82e7_row17_col26,#T_e82e7_row19_col5,#T_e82e7_row24_col21,#T_e82e7_row26_col11,#T_e82e7_row27_col19{\n",
       "            background-color:  #6a8bef;\n",
       "            color:  #000000;\n",
       "        }#T_e82e7_row0_col22,#T_e82e7_row12_col19,#T_e82e7_row19_col12{\n",
       "            background-color:  #b2ccfb;\n",
       "            color:  #000000;\n",
       "        }#T_e82e7_row0_col23,#T_e82e7_row2_col10,#T_e82e7_row2_col26,#T_e82e7_row5_col16,#T_e82e7_row14_col2,#T_e82e7_row15_col2,#T_e82e7_row15_col22,#T_e82e7_row16_col7,#T_e82e7_row16_col26,#T_e82e7_row17_col15,#T_e82e7_row18_col3,#T_e82e7_row18_col4,#T_e82e7_row18_col6,#T_e82e7_row21_col3,#T_e82e7_row21_col5,#T_e82e7_row21_col23,#T_e82e7_row25_col5,#T_e82e7_row25_col7,#T_e82e7_row25_col23{\n",
       "            background-color:  #3d50c3;\n",
       "            color:  #f1f1f1;\n",
       "        }#T_e82e7_row0_col24,#T_e82e7_row2_col17,#T_e82e7_row5_col7,#T_e82e7_row7_col21,#T_e82e7_row8_col15,#T_e82e7_row9_col14,#T_e82e7_row9_col23,#T_e82e7_row9_col26,#T_e82e7_row10_col8,#T_e82e7_row11_col25,#T_e82e7_row13_col5,#T_e82e7_row13_col23,#T_e82e7_row14_col9,#T_e82e7_row15_col0,#T_e82e7_row17_col2,#T_e82e7_row18_col8,#T_e82e7_row20_col21,#T_e82e7_row20_col23,#T_e82e7_row21_col25,#T_e82e7_row22_col6,#T_e82e7_row22_col16,#T_e82e7_row22_col18,#T_e82e7_row23_col15,#T_e82e7_row23_col20,#T_e82e7_row24_col18,#T_e82e7_row25_col3,#T_e82e7_row25_col11,#T_e82e7_row25_col21,#T_e82e7_row25_col22{\n",
       "            background-color:  #485fd1;\n",
       "            color:  #f1f1f1;\n",
       "        }#T_e82e7_row0_col26,#T_e82e7_row26_col0{\n",
       "            background-color:  #d95847;\n",
       "            color:  #000000;\n",
       "        }#T_e82e7_row1_col0,#T_e82e7_row8_col17,#T_e82e7_row17_col8{\n",
       "            background-color:  #bed2f6;\n",
       "            color:  #000000;\n",
       "        }#T_e82e7_row1_col2,#T_e82e7_row3_col7,#T_e82e7_row6_col19,#T_e82e7_row7_col20,#T_e82e7_row8_col7,#T_e82e7_row11_col6,#T_e82e7_row13_col24,#T_e82e7_row14_col0,#T_e82e7_row21_col17,#T_e82e7_row22_col19,#T_e82e7_row22_col23,#T_e82e7_row26_col21{\n",
       "            background-color:  #5977e3;\n",
       "            color:  #000000;\n",
       "        }#T_e82e7_row1_col3,#T_e82e7_row7_col12{\n",
       "            background-color:  #a5c3fe;\n",
       "            color:  #000000;\n",
       "        }#T_e82e7_row1_col4,#T_e82e7_row26_col12{\n",
       "            background-color:  #c9d7f0;\n",
       "            color:  #000000;\n",
       "        }#T_e82e7_row1_col5,#T_e82e7_row16_col8,#T_e82e7_row20_col9{\n",
       "            background-color:  #6282ea;\n",
       "            color:  #000000;\n",
       "        }#T_e82e7_row1_col6,#T_e82e7_row27_col20,#T_e82e7_row27_col24{\n",
       "            background-color:  #779af7;\n",
       "            color:  #000000;\n",
       "        }#T_e82e7_row1_col7,#T_e82e7_row24_col26{\n",
       "            background-color:  #82a6fb;\n",
       "            color:  #000000;\n",
       "        }#T_e82e7_row1_col8,#T_e82e7_row4_col12,#T_e82e7_row13_col1,#T_e82e7_row14_col15,#T_e82e7_row15_col14{\n",
       "            background-color:  #8db0fe;\n",
       "            color:  #000000;\n",
       "        }#T_e82e7_row1_col10,#T_e82e7_row2_col9,#T_e82e7_row5_col17,#T_e82e7_row5_col21,#T_e82e7_row5_col25,#T_e82e7_row5_col27,#T_e82e7_row13_col2,#T_e82e7_row14_col23,#T_e82e7_row14_col24,#T_e82e7_row16_col2,#T_e82e7_row20_col10,#T_e82e7_row20_col15,#T_e82e7_row21_col4,#T_e82e7_row21_col7,#T_e82e7_row23_col10,#T_e82e7_row23_col18,#T_e82e7_row25_col0,#T_e82e7_row25_col1,#T_e82e7_row25_col2,#T_e82e7_row25_col6,#T_e82e7_row25_col20,#T_e82e7_row26_col2,#T_e82e7_row26_col15{\n",
       "            background-color:  #3f53c6;\n",
       "            color:  #f1f1f1;\n",
       "        }#T_e82e7_row1_col11,#T_e82e7_row3_col20,#T_e82e7_row13_col16{\n",
       "            background-color:  #81a4fb;\n",
       "            color:  #000000;\n",
       "        }#T_e82e7_row1_col12,#T_e82e7_row12_col7,#T_e82e7_row22_col12{\n",
       "            background-color:  #9ebeff;\n",
       "            color:  #000000;\n",
       "        }#T_e82e7_row1_col13,#T_e82e7_row12_col6,#T_e82e7_row17_col12,#T_e82e7_row23_col12{\n",
       "            background-color:  #89acfd;\n",
       "            color:  #000000;\n",
       "        }#T_e82e7_row1_col14,#T_e82e7_row7_col1,#T_e82e7_row12_col17,#T_e82e7_row12_col23,#T_e82e7_row27_col8,#T_e82e7_row27_col14,#T_e82e7_row27_col21{\n",
       "            background-color:  #85a8fc;\n",
       "            color:  #000000;\n",
       "        }#T_e82e7_row1_col15,#T_e82e7_row1_col22,#T_e82e7_row3_col6,#T_e82e7_row4_col13,#T_e82e7_row12_col25,#T_e82e7_row18_col0,#T_e82e7_row21_col26,#T_e82e7_row23_col7,#T_e82e7_row25_col12{\n",
       "            background-color:  #5470de;\n",
       "            color:  #000000;\n",
       "        }#T_e82e7_row1_col16,#T_e82e7_row5_col23,#T_e82e7_row6_col3,#T_e82e7_row9_col4,#T_e82e7_row14_col3,#T_e82e7_row14_col21,#T_e82e7_row17_col19,#T_e82e7_row19_col22,#T_e82e7_row19_col23,#T_e82e7_row21_col14,#T_e82e7_row22_col25{\n",
       "            background-color:  #506bda;\n",
       "            color:  #000000;\n",
       "        }#T_e82e7_row1_col18,#T_e82e7_row7_col15,#T_e82e7_row7_col18,#T_e82e7_row9_col18,#T_e82e7_row10_col21,#T_e82e7_row15_col5,#T_e82e7_row17_col10,#T_e82e7_row17_col23,#T_e82e7_row18_col9,#T_e82e7_row20_col5,#T_e82e7_row21_col10,#T_e82e7_row24_col0,#T_e82e7_row25_col4,#T_e82e7_row26_col25,#T_e82e7_row27_col2,#T_e82e7_row27_col5{\n",
       "            background-color:  #4961d2;\n",
       "            color:  #f1f1f1;\n",
       "        }#T_e82e7_row1_col19{\n",
       "            background-color:  #aac7fd;\n",
       "            color:  #000000;\n",
       "        }#T_e82e7_row1_col20,#T_e82e7_row8_col13,#T_e82e7_row14_col27,#T_e82e7_row20_col1,#T_e82e7_row21_col27{\n",
       "            background-color:  #7a9df8;\n",
       "            color:  #000000;\n",
       "        }#T_e82e7_row1_col21,#T_e82e7_row3_col11,#T_e82e7_row3_col19,#T_e82e7_row19_col2,#T_e82e7_row22_col20{\n",
       "            background-color:  #6b8df0;\n",
       "            color:  #000000;\n",
       "        }#T_e82e7_row1_col23{\n",
       "            background-color:  #a9c6fd;\n",
       "            color:  #000000;\n",
       "        }#T_e82e7_row1_col24,#T_e82e7_row9_col12,#T_e82e7_row11_col3,#T_e82e7_row11_col26,#T_e82e7_row12_col9,#T_e82e7_row13_col17,#T_e82e7_row19_col3,#T_e82e7_row20_col17,#T_e82e7_row20_col19,#T_e82e7_row21_col24,#T_e82e7_row24_col1{\n",
       "            background-color:  #6485ec;\n",
       "            color:  #000000;\n",
       "        }#T_e82e7_row1_col26,#T_e82e7_row12_col20,#T_e82e7_row16_col13,#T_e82e7_row22_col27,#T_e82e7_row26_col1{\n",
       "            background-color:  #799cf8;\n",
       "            color:  #000000;\n",
       "        }#T_e82e7_row1_col27{\n",
       "            background-color:  #c3d5f4;\n",
       "            color:  #000000;\n",
       "        }#T_e82e7_row2_col3,#T_e82e7_row2_col4{\n",
       "            background-color:  #e6d7cf;\n",
       "            color:  #000000;\n",
       "        }#T_e82e7_row2_col6,#T_e82e7_row2_col7,#T_e82e7_row6_col2,#T_e82e7_row8_col21,#T_e82e7_row9_col5,#T_e82e7_row9_col6,#T_e82e7_row10_col0,#T_e82e7_row10_col6,#T_e82e7_row10_col27,#T_e82e7_row14_col5,#T_e82e7_row14_col22,#T_e82e7_row15_col6,#T_e82e7_row16_col19,#T_e82e7_row16_col22,#T_e82e7_row16_col24,#T_e82e7_row17_col16,#T_e82e7_row18_col2,#T_e82e7_row18_col22,#T_e82e7_row19_col16,#T_e82e7_row21_col2,#T_e82e7_row21_col6,#T_e82e7_row23_col0,#T_e82e7_row24_col15{\n",
       "            background-color:  #3e51c5;\n",
       "            color:  #f1f1f1;\n",
       "        }#T_e82e7_row2_col12,#T_e82e7_row6_col24,#T_e82e7_row8_col16,#T_e82e7_row21_col0,#T_e82e7_row21_col1,#T_e82e7_row24_col6,#T_e82e7_row27_col17{\n",
       "            background-color:  #6687ed;\n",
       "            color:  #000000;\n",
       "        }#T_e82e7_row2_col14,#T_e82e7_row2_col15,#T_e82e7_row2_col18,#T_e82e7_row2_col21,#T_e82e7_row2_col27,#T_e82e7_row3_col10,#T_e82e7_row5_col9,#T_e82e7_row5_col13,#T_e82e7_row5_col14,#T_e82e7_row6_col18,#T_e82e7_row10_col26,#T_e82e7_row14_col25,#T_e82e7_row15_col7,#T_e82e7_row16_col3,#T_e82e7_row16_col6,#T_e82e7_row16_col23,#T_e82e7_row17_col5,#T_e82e7_row18_col5,#T_e82e7_row20_col16,#T_e82e7_row22_col5,#T_e82e7_row25_col14{\n",
       "            background-color:  #4055c8;\n",
       "            color:  #f1f1f1;\n",
       "        }#T_e82e7_row2_col19,#T_e82e7_row6_col8{\n",
       "            background-color:  #6e90f2;\n",
       "            color:  #000000;\n",
       "        }#T_e82e7_row2_col20,#T_e82e7_row3_col13,#T_e82e7_row7_col13,#T_e82e7_row13_col7,#T_e82e7_row13_col25{\n",
       "            background-color:  #6180e9;\n",
       "            color:  #000000;\n",
       "        }#T_e82e7_row2_col22,#T_e82e7_row4_col22,#T_e82e7_row7_col5,#T_e82e7_row10_col22,#T_e82e7_row13_col19,#T_e82e7_row15_col19,#T_e82e7_row17_col3,#T_e82e7_row19_col15,#T_e82e7_row22_col21{\n",
       "            background-color:  #4e68d8;\n",
       "            color:  #000000;\n",
       "        }#T_e82e7_row2_col23,#T_e82e7_row4_col15,#T_e82e7_row10_col25,#T_e82e7_row14_col26,#T_e82e7_row19_col8,#T_e82e7_row19_col17,#T_e82e7_row23_col9,#T_e82e7_row25_col10,#T_e82e7_row26_col9{\n",
       "            background-color:  #4c66d6;\n",
       "            color:  #000000;\n",
       "        }#T_e82e7_row3_col0,#T_e82e7_row3_col22,#T_e82e7_row4_col0,#T_e82e7_row6_col4,#T_e82e7_row8_col20,#T_e82e7_row9_col22,#T_e82e7_row12_col18,#T_e82e7_row13_col4,#T_e82e7_row17_col1,#T_e82e7_row17_col22,#T_e82e7_row18_col12,#T_e82e7_row19_col6,#T_e82e7_row20_col7,#T_e82e7_row23_col19,#T_e82e7_row23_col22,#T_e82e7_row24_col4,#T_e82e7_row24_col13,#T_e82e7_row24_col22{\n",
       "            background-color:  #5572df;\n",
       "            color:  #000000;\n",
       "        }#T_e82e7_row3_col1,#T_e82e7_row19_col1{\n",
       "            background-color:  #a6c4fe;\n",
       "            color:  #000000;\n",
       "        }#T_e82e7_row3_col2{\n",
       "            background-color:  #e7d7ce;\n",
       "            color:  #000000;\n",
       "        }#T_e82e7_row3_col4,#T_e82e7_row4_col3{\n",
       "            background-color:  #c73635;\n",
       "            color:  #f1f1f1;\n",
       "        }#T_e82e7_row3_col5,#T_e82e7_row3_col9,#T_e82e7_row11_col27,#T_e82e7_row12_col2,#T_e82e7_row13_col3,#T_e82e7_row17_col20,#T_e82e7_row19_col0,#T_e82e7_row20_col2{\n",
       "            background-color:  #6384eb;\n",
       "            color:  #000000;\n",
       "        }#T_e82e7_row3_col12,#T_e82e7_row3_col27{\n",
       "            background-color:  #96b7ff;\n",
       "            color:  #000000;\n",
       "        }#T_e82e7_row3_col14,#T_e82e7_row4_col9,#T_e82e7_row4_col14,#T_e82e7_row12_col21,#T_e82e7_row19_col24,#T_e82e7_row20_col8,#T_e82e7_row21_col12,#T_e82e7_row22_col3,#T_e82e7_row22_col10,#T_e82e7_row26_col18,#T_e82e7_row27_col18{\n",
       "            background-color:  #5673e0;\n",
       "            color:  #000000;\n",
       "        }#T_e82e7_row3_col26,#T_e82e7_row11_col15,#T_e82e7_row11_col17,#T_e82e7_row14_col8,#T_e82e7_row15_col11{\n",
       "            background-color:  #688aef;\n",
       "            color:  #000000;\n",
       "        }#T_e82e7_row4_col1{\n",
       "            background-color:  #cad8ef;\n",
       "            color:  #000000;\n",
       "        }#T_e82e7_row4_col2{\n",
       "            background-color:  #e8d6cc;\n",
       "            color:  #000000;\n",
       "        }#T_e82e7_row4_col5,#T_e82e7_row8_col25{\n",
       "            background-color:  #9bbcff;\n",
       "            color:  #000000;\n",
       "        }#T_e82e7_row4_col8,#T_e82e7_row4_col11,#T_e82e7_row4_col26,#T_e82e7_row6_col1,#T_e82e7_row7_col17,#T_e82e7_row22_col26{\n",
       "            background-color:  #7699f6;\n",
       "            color:  #000000;\n",
       "        }#T_e82e7_row4_col10,#T_e82e7_row5_col24,#T_e82e7_row6_col9,#T_e82e7_row6_col10,#T_e82e7_row6_col15,#T_e82e7_row6_col22,#T_e82e7_row9_col0,#T_e82e7_row9_col1,#T_e82e7_row9_col10,#T_e82e7_row10_col9,#T_e82e7_row10_col24,#T_e82e7_row11_col0,#T_e82e7_row18_col7,#T_e82e7_row18_col17,#T_e82e7_row23_col21,#T_e82e7_row23_col25,#T_e82e7_row24_col16,#T_e82e7_row26_col13,#T_e82e7_row26_col16{\n",
       "            background-color:  #4257c9;\n",
       "            color:  #f1f1f1;\n",
       "        }#T_e82e7_row4_col19,#T_e82e7_row11_col1,#T_e82e7_row12_col14,#T_e82e7_row14_col12,#T_e82e7_row27_col22{\n",
       "            background-color:  #7b9ff9;\n",
       "            color:  #000000;\n",
       "        }#T_e82e7_row4_col23,#T_e82e7_row23_col4{\n",
       "            background-color:  #d44e41;\n",
       "            color:  #000000;\n",
       "        }#T_e82e7_row4_col27{\n",
       "            background-color:  #adc9fd;\n",
       "            color:  #000000;\n",
       "        }#T_e82e7_row5_col1,#T_e82e7_row7_col24,#T_e82e7_row11_col5,#T_e82e7_row15_col13,#T_e82e7_row17_col13,#T_e82e7_row19_col27,#T_e82e7_row22_col9,#T_e82e7_row26_col19{\n",
       "            background-color:  #5e7de7;\n",
       "            color:  #000000;\n",
       "        }#T_e82e7_row5_col3,#T_e82e7_row5_col11,#T_e82e7_row7_col11,#T_e82e7_row19_col20,#T_e82e7_row22_col8{\n",
       "            background-color:  #5f7fe8;\n",
       "            color:  #000000;\n",
       "        }#T_e82e7_row5_col4,#T_e82e7_row12_col22{\n",
       "            background-color:  #97b8ff;\n",
       "            color:  #000000;\n",
       "        }#T_e82e7_row5_col10,#T_e82e7_row9_col2,#T_e82e7_row9_col7,#T_e82e7_row10_col13,#T_e82e7_row10_col14,#T_e82e7_row14_col10,#T_e82e7_row16_col17,#T_e82e7_row16_col20{\n",
       "            background-color:  #3c4ec2;\n",
       "            color:  #f1f1f1;\n",
       "        }#T_e82e7_row5_col12,#T_e82e7_row8_col4,#T_e82e7_row17_col7,#T_e82e7_row20_col26,#T_e82e7_row26_col20{\n",
       "            background-color:  #7295f4;\n",
       "            color:  #000000;\n",
       "        }#T_e82e7_row5_col19,#T_e82e7_row8_col6,#T_e82e7_row8_col11,#T_e82e7_row8_col14,#T_e82e7_row17_col11,#T_e82e7_row20_col13,#T_e82e7_row20_col14,#T_e82e7_row26_col17{\n",
       "            background-color:  #6c8ff1;\n",
       "            color:  #000000;\n",
       "        }#T_e82e7_row6_col7{\n",
       "            background-color:  #d3dbe7;\n",
       "            color:  #000000;\n",
       "        }#T_e82e7_row6_col11,#T_e82e7_row7_col8,#T_e82e7_row9_col3,#T_e82e7_row9_col20,#T_e82e7_row17_col27,#T_e82e7_row26_col8{\n",
       "            background-color:  #5d7ce6;\n",
       "            color:  #000000;\n",
       "        }#T_e82e7_row6_col12,#T_e82e7_row8_col1{\n",
       "            background-color:  #8caffe;\n",
       "            color:  #000000;\n",
       "        }#T_e82e7_row6_col26{\n",
       "            background-color:  #f7b89c;\n",
       "            color:  #000000;\n",
       "        }#T_e82e7_row6_col27{\n",
       "            background-color:  #f6bea4;\n",
       "            color:  #000000;\n",
       "        }#T_e82e7_row7_col3,#T_e82e7_row7_col14,#T_e82e7_row8_col22,#T_e82e7_row8_col23,#T_e82e7_row13_col9,#T_e82e7_row22_col24,#T_e82e7_row24_col7,#T_e82e7_row24_col19{\n",
       "            background-color:  #5a78e4;\n",
       "            color:  #000000;\n",
       "        }#T_e82e7_row7_col6{\n",
       "            background-color:  #d5dbe5;\n",
       "            color:  #000000;\n",
       "        }#T_e82e7_row7_col26{\n",
       "            background-color:  #ead5c9;\n",
       "            color:  #000000;\n",
       "        }#T_e82e7_row7_col27{\n",
       "            background-color:  #f4c6af;\n",
       "            color:  #000000;\n",
       "        }#T_e82e7_row8_col9,#T_e82e7_row13_col12{\n",
       "            background-color:  #88abfd;\n",
       "            color:  #000000;\n",
       "        }#T_e82e7_row8_col24,#T_e82e7_row24_col8{\n",
       "            background-color:  #f2cbb7;\n",
       "            color:  #000000;\n",
       "        }#T_e82e7_row8_col27,#T_e82e7_row26_col23{\n",
       "            background-color:  #7ea1fa;\n",
       "            color:  #000000;\n",
       "        }#T_e82e7_row9_col8,#T_e82e7_row12_col8,#T_e82e7_row26_col24{\n",
       "            background-color:  #84a7fc;\n",
       "            color:  #000000;\n",
       "        }#T_e82e7_row9_col17{\n",
       "            background-color:  #dedcdb;\n",
       "            color:  #000000;\n",
       "        }#T_e82e7_row9_col24{\n",
       "            background-color:  #bad0f8;\n",
       "            color:  #000000;\n",
       "        }#T_e82e7_row9_col25,#T_e82e7_row25_col9{\n",
       "            background-color:  #f6a283;\n",
       "            color:  #000000;\n",
       "        }#T_e82e7_row11_col4,#T_e82e7_row12_col5,#T_e82e7_row27_col11{\n",
       "            background-color:  #6f92f3;\n",
       "            color:  #000000;\n",
       "        }#T_e82e7_row11_col12,#T_e82e7_row12_col11{\n",
       "            background-color:  #9fbfff;\n",
       "            color:  #000000;\n",
       "        }#T_e82e7_row11_col20,#T_e82e7_row13_col20,#T_e82e7_row20_col4,#T_e82e7_row20_col27,#T_e82e7_row24_col27{\n",
       "            background-color:  #7093f3;\n",
       "            color:  #000000;\n",
       "        }#T_e82e7_row11_col24,#T_e82e7_row13_col0,#T_e82e7_row24_col12{\n",
       "            background-color:  #8badfd;\n",
       "            color:  #000000;\n",
       "        }#T_e82e7_row12_col0{\n",
       "            background-color:  #cfdaea;\n",
       "            color:  #000000;\n",
       "        }#T_e82e7_row12_col1,#T_e82e7_row27_col3{\n",
       "            background-color:  #9abbff;\n",
       "            color:  #000000;\n",
       "        }#T_e82e7_row12_col3{\n",
       "            background-color:  #90b2fe;\n",
       "            color:  #000000;\n",
       "        }#T_e82e7_row12_col13,#T_e82e7_row13_col8,#T_e82e7_row14_col1,#T_e82e7_row20_col3,#T_e82e7_row27_col13{\n",
       "            background-color:  #80a3fa;\n",
       "            color:  #000000;\n",
       "        }#T_e82e7_row12_col26,#T_e82e7_row12_col27{\n",
       "            background-color:  #c5d6f2;\n",
       "            color:  #000000;\n",
       "        }#T_e82e7_row13_col14{\n",
       "            background-color:  #dadce0;\n",
       "            color:  #000000;\n",
       "        }#T_e82e7_row13_col27,#T_e82e7_row20_col12,#T_e82e7_row23_col26{\n",
       "            background-color:  #7da0f9;\n",
       "            color:  #000000;\n",
       "        }#T_e82e7_row14_col13{\n",
       "            background-color:  #d6dce4;\n",
       "            color:  #000000;\n",
       "        }#T_e82e7_row14_col16,#T_e82e7_row16_col14,#T_e82e7_row27_col12{\n",
       "            background-color:  #ccd9ed;\n",
       "            color:  #000000;\n",
       "        }#T_e82e7_row15_col16,#T_e82e7_row16_col15{\n",
       "            background-color:  #f7b396;\n",
       "            color:  #000000;\n",
       "        }#T_e82e7_row17_col9{\n",
       "            background-color:  #dfdbd9;\n",
       "            color:  #000000;\n",
       "        }#T_e82e7_row19_col4,#T_e82e7_row20_col0,#T_e82e7_row20_col11,#T_e82e7_row26_col4{\n",
       "            background-color:  #7597f6;\n",
       "            color:  #000000;\n",
       "        }#T_e82e7_row22_col0{\n",
       "            background-color:  #b6cefa;\n",
       "            color:  #000000;\n",
       "        }#T_e82e7_row23_col1{\n",
       "            background-color:  #a7c5fe;\n",
       "            color:  #000000;\n",
       "        }#T_e82e7_row23_col27{\n",
       "            background-color:  #bbd1f8;\n",
       "            color:  #000000;\n",
       "        }#T_e82e7_row24_col11{\n",
       "            background-color:  #8fb1fe;\n",
       "            color:  #000000;\n",
       "        }#T_e82e7_row25_col8{\n",
       "            background-color:  #98b9ff;\n",
       "            color:  #000000;\n",
       "        }#T_e82e7_row26_col6{\n",
       "            background-color:  #f7b79b;\n",
       "            color:  #000000;\n",
       "        }#T_e82e7_row26_col7{\n",
       "            background-color:  #e9d5cb;\n",
       "            color:  #000000;\n",
       "        }#T_e82e7_row26_col27,#T_e82e7_row27_col26{\n",
       "            background-color:  #b70d28;\n",
       "            color:  #f1f1f1;\n",
       "        }#T_e82e7_row27_col1{\n",
       "            background-color:  #c6d6f1;\n",
       "            color:  #000000;\n",
       "        }#T_e82e7_row27_col4{\n",
       "            background-color:  #afcafc;\n",
       "            color:  #000000;\n",
       "        }#T_e82e7_row27_col6{\n",
       "            background-color:  #f7bca1;\n",
       "            color:  #000000;\n",
       "        }#T_e82e7_row27_col7{\n",
       "            background-color:  #f4c5ad;\n",
       "            color:  #000000;\n",
       "        }#T_e82e7_row27_col23{\n",
       "            background-color:  #c0d4f5;\n",
       "            color:  #000000;\n",
       "        }</style><table id=\"T_e82e7_\" ><thead>    <tr>        <th class=\"blank level0\" ></th>        <th class=\"col_heading level0 col0\" >is_canceled</th>        <th class=\"col_heading level0 col1\" >lead_time</th>        <th class=\"col_heading level0 col2\" >arrival_date_year</th>        <th class=\"col_heading level0 col3\" >arrival_date_month</th>        <th class=\"col_heading level0 col4\" >arrival_date_week_number</th>        <th class=\"col_heading level0 col5\" >arrival_date_day_of_month</th>        <th class=\"col_heading level0 col6\" >stays_in_weekend_nights</th>        <th class=\"col_heading level0 col7\" >stays_in_week_nights</th>        <th class=\"col_heading level0 col8\" >adults</th>        <th class=\"col_heading level0 col9\" >children</th>        <th class=\"col_heading level0 col10\" >babies</th>        <th class=\"col_heading level0 col11\" >meal</th>        <th class=\"col_heading level0 col12\" >country</th>        <th class=\"col_heading level0 col13\" >distribution_channel</th>        <th class=\"col_heading level0 col14\" >is_repeated_guest</th>        <th class=\"col_heading level0 col15\" >previous_cancellations</th>        <th class=\"col_heading level0 col16\" >previous_bookings_not_canceled</th>        <th class=\"col_heading level0 col17\" >reserved_room_type</th>        <th class=\"col_heading level0 col18\" >booking_changes</th>        <th class=\"col_heading level0 col19\" >days_in_waiting_list</th>        <th class=\"col_heading level0 col20\" >customer_type</th>        <th class=\"col_heading level0 col21\" >required_car_parking_spaces</th>        <th class=\"col_heading level0 col22\" >total_of_special_requests</th>        <th class=\"col_heading level0 col23\" >season_coef</th>        <th class=\"col_heading level0 col24\" >room_price</th>        <th class=\"col_heading level0 col25\" >service_price</th>        <th class=\"col_heading level0 col26\" >revenue</th>        <th class=\"col_heading level0 col27\" >profit</th>    </tr></thead><tbody>\n",
       "                <tr>\n",
       "                        <th id=\"T_e82e7_level0_row0\" class=\"row_heading level0 row0\" >is_canceled</th>\n",
       "                        <td id=\"T_e82e7_row0_col0\" class=\"data row0 col0\" >1.000000</td>\n",
       "                        <td id=\"T_e82e7_row0_col1\" class=\"data row0 col1\" >0.399017</td>\n",
       "                        <td id=\"T_e82e7_row0_col2\" class=\"data row0 col2\" >0.046211</td>\n",
       "                        <td id=\"T_e82e7_row0_col3\" class=\"data row0 col3\" >0.101049</td>\n",
       "                        <td id=\"T_e82e7_row0_col4\" class=\"data row0 col4\" >0.098220</td>\n",
       "                        <td id=\"T_e82e7_row0_col5\" class=\"data row0 col5\" >0.041515</td>\n",
       "                        <td id=\"T_e82e7_row0_col6\" class=\"data row0 col6\" >0.012649</td>\n",
       "                        <td id=\"T_e82e7_row0_col7\" class=\"data row0 col7\" >0.093030</td>\n",
       "                        <td id=\"T_e82e7_row0_col8\" class=\"data row0 col8\" >0.064374</td>\n",
       "                        <td id=\"T_e82e7_row0_col9\" class=\"data row0 col9\" >0.036007</td>\n",
       "                        <td id=\"T_e82e7_row0_col10\" class=\"data row0 col10\" >0.027831</td>\n",
       "                        <td id=\"T_e82e7_row0_col11\" class=\"data row0 col11\" >0.039506</td>\n",
       "                        <td id=\"T_e82e7_row0_col12\" class=\"data row0 col12\" >0.456439</td>\n",
       "                        <td id=\"T_e82e7_row0_col13\" class=\"data row0 col13\" >0.255593</td>\n",
       "                        <td id=\"T_e82e7_row0_col14\" class=\"data row0 col14\" >0.109305</td>\n",
       "                        <td id=\"T_e82e7_row0_col15\" class=\"data row0 col15\" >0.055497</td>\n",
       "                        <td id=\"T_e82e7_row0_col16\" class=\"data row0 col16\" >0.051698</td>\n",
       "                        <td id=\"T_e82e7_row0_col17\" class=\"data row0 col17\" >0.067139</td>\n",
       "                        <td id=\"T_e82e7_row0_col18\" class=\"data row0 col18\" >0.094789</td>\n",
       "                        <td id=\"T_e82e7_row0_col19\" class=\"data row0 col19\" >0.141788</td>\n",
       "                        <td id=\"T_e82e7_row0_col20\" class=\"data row0 col20\" >0.191686</td>\n",
       "                        <td id=\"T_e82e7_row0_col21\" class=\"data row0 col21\" >0.149562</td>\n",
       "                        <td id=\"T_e82e7_row0_col22\" class=\"data row0 col22\" >0.378048</td>\n",
       "                        <td id=\"T_e82e7_row0_col23\" class=\"data row0 col23\" >0.026779</td>\n",
       "                        <td id=\"T_e82e7_row0_col24\" class=\"data row0 col24\" >0.058949</td>\n",
       "                        <td id=\"T_e82e7_row0_col25\" class=\"data row0 col25\" >0.031911</td>\n",
       "                        <td id=\"T_e82e7_row0_col26\" class=\"data row0 col26\" >0.890794</td>\n",
       "                        <td id=\"T_e82e7_row0_col27\" class=\"data row0 col27\" >1.000000</td>\n",
       "            </tr>\n",
       "            <tr>\n",
       "                        <th id=\"T_e82e7_level0_row1\" class=\"row_heading level0 row1\" >lead_time</th>\n",
       "                        <td id=\"T_e82e7_row1_col0\" class=\"data row1 col0\" >0.399017</td>\n",
       "                        <td id=\"T_e82e7_row1_col1\" class=\"data row1 col1\" >1.000000</td>\n",
       "                        <td id=\"T_e82e7_row1_col2\" class=\"data row1 col2\" >0.109029</td>\n",
       "                        <td id=\"T_e82e7_row1_col3\" class=\"data row1 col3\" >0.333658</td>\n",
       "                        <td id=\"T_e82e7_row1_col4\" class=\"data row1 col4\" >0.441189</td>\n",
       "                        <td id=\"T_e82e7_row1_col5\" class=\"data row1 col5\" >0.131782</td>\n",
       "                        <td id=\"T_e82e7_row1_col6\" class=\"data row1 col6\" >0.198839</td>\n",
       "                        <td id=\"T_e82e7_row1_col7\" class=\"data row1 col7\" >0.240323</td>\n",
       "                        <td id=\"T_e82e7_row1_col8\" class=\"data row1 col8\" >0.259485</td>\n",
       "                        <td id=\"T_e82e7_row1_col9\" class=\"data row1 col9\" >0.041533</td>\n",
       "                        <td id=\"T_e82e7_row1_col10\" class=\"data row1 col10\" >0.016639</td>\n",
       "                        <td id=\"T_e82e7_row1_col11\" class=\"data row1 col11\" >0.216042</td>\n",
       "                        <td id=\"T_e82e7_row1_col12\" class=\"data row1 col12\" >0.298300</td>\n",
       "                        <td id=\"T_e82e7_row1_col13\" class=\"data row1 col13\" >0.262549</td>\n",
       "                        <td id=\"T_e82e7_row1_col14\" class=\"data row1 col14\" >0.227617</td>\n",
       "                        <td id=\"T_e82e7_row1_col15\" class=\"data row1 col15\" >0.083018</td>\n",
       "                        <td id=\"T_e82e7_row1_col16\" class=\"data row1 col16\" >0.072300</td>\n",
       "                        <td id=\"T_e82e7_row1_col17\" class=\"data row1 col17\" >0.104042</td>\n",
       "                        <td id=\"T_e82e7_row1_col18\" class=\"data row1 col18\" >0.050610</td>\n",
       "                        <td id=\"T_e82e7_row1_col19\" class=\"data row1 col19\" >0.333350</td>\n",
       "                        <td id=\"T_e82e7_row1_col20\" class=\"data row1 col20\" >0.210551</td>\n",
       "                        <td id=\"T_e82e7_row1_col21\" class=\"data row1 col21\" >0.154367</td>\n",
       "                        <td id=\"T_e82e7_row1_col22\" class=\"data row1 col22\" >0.112132</td>\n",
       "                        <td id=\"T_e82e7_row1_col23\" class=\"data row1 col23\" >0.339079</td>\n",
       "                        <td id=\"T_e82e7_row1_col24\" class=\"data row1 col24\" >0.148129</td>\n",
       "                        <td id=\"T_e82e7_row1_col25\" class=\"data row1 col25\" >0.032034</td>\n",
       "                        <td id=\"T_e82e7_row1_col26\" class=\"data row1 col26\" >0.208344</td>\n",
       "                        <td id=\"T_e82e7_row1_col27\" class=\"data row1 col27\" >0.429991</td>\n",
       "            </tr>\n",
       "            <tr>\n",
       "                        <th id=\"T_e82e7_level0_row2\" class=\"row_heading level0 row2\" >arrival_date_year</th>\n",
       "                        <td id=\"T_e82e7_row2_col0\" class=\"data row2 col0\" >0.046211</td>\n",
       "                        <td id=\"T_e82e7_row2_col1\" class=\"data row2 col1\" >0.109029</td>\n",
       "                        <td id=\"T_e82e7_row2_col2\" class=\"data row2 col2\" >1.000000</td>\n",
       "                        <td id=\"T_e82e7_row2_col3\" class=\"data row2 col3\" >0.547219</td>\n",
       "                        <td id=\"T_e82e7_row2_col4\" class=\"data row2 col4\" >0.548534</td>\n",
       "                        <td id=\"T_e82e7_row2_col5\" class=\"data row2 col5\" >0.040384</td>\n",
       "                        <td id=\"T_e82e7_row2_col6\" class=\"data row2 col6\" >0.024355</td>\n",
       "                        <td id=\"T_e82e7_row2_col7\" class=\"data row2 col7\" >0.041273</td>\n",
       "                        <td id=\"T_e82e7_row2_col8\" class=\"data row2 col8\" >0.011625</td>\n",
       "                        <td id=\"T_e82e7_row2_col9\" class=\"data row2 col9\" >0.018205</td>\n",
       "                        <td id=\"T_e82e7_row2_col10\" class=\"data row2 col10\" >0.010761</td>\n",
       "                        <td id=\"T_e82e7_row2_col11\" class=\"data row2 col11\" >0.068035</td>\n",
       "                        <td id=\"T_e82e7_row2_col12\" class=\"data row2 col12\" >0.138954</td>\n",
       "                        <td id=\"T_e82e7_row2_col13\" class=\"data row2 col13\" >0.029235</td>\n",
       "                        <td id=\"T_e82e7_row2_col14\" class=\"data row2 col14\" >0.021585</td>\n",
       "                        <td id=\"T_e82e7_row2_col15\" class=\"data row2 col15\" >0.019715</td>\n",
       "                        <td id=\"T_e82e7_row2_col16\" class=\"data row2 col16\" >0.029793</td>\n",
       "                        <td id=\"T_e82e7_row2_col17\" class=\"data row2 col17\" >0.056606</td>\n",
       "                        <td id=\"T_e82e7_row2_col18\" class=\"data row2 col18\" >0.023071</td>\n",
       "                        <td id=\"T_e82e7_row2_col19\" class=\"data row2 col19\" >0.163797</td>\n",
       "                        <td id=\"T_e82e7_row2_col20\" class=\"data row2 col20\" >0.139025</td>\n",
       "                        <td id=\"T_e82e7_row2_col21\" class=\"data row2 col21\" >0.023230</td>\n",
       "                        <td id=\"T_e82e7_row2_col22\" class=\"data row2 col22\" >0.090733</td>\n",
       "                        <td id=\"T_e82e7_row2_col23\" class=\"data row2 col23\" >0.077120</td>\n",
       "                        <td id=\"T_e82e7_row2_col24\" class=\"data row2 col24\" >0.046624</td>\n",
       "                        <td id=\"T_e82e7_row2_col25\" class=\"data row2 col25\" >0.027946</td>\n",
       "                        <td id=\"T_e82e7_row2_col26\" class=\"data row2 col26\" >0.027739</td>\n",
       "                        <td id=\"T_e82e7_row2_col27\" class=\"data row2 col27\" >0.058213</td>\n",
       "            </tr>\n",
       "            <tr>\n",
       "                        <th id=\"T_e82e7_level0_row3\" class=\"row_heading level0 row3\" >arrival_date_month</th>\n",
       "                        <td id=\"T_e82e7_row3_col0\" class=\"data row3 col0\" >0.101049</td>\n",
       "                        <td id=\"T_e82e7_row3_col1\" class=\"data row3 col1\" >0.333658</td>\n",
       "                        <td id=\"T_e82e7_row3_col2\" class=\"data row3 col2\" >0.547219</td>\n",
       "                        <td id=\"T_e82e7_row3_col3\" class=\"data row3 col3\" >1.000000</td>\n",
       "                        <td id=\"T_e82e7_row3_col4\" class=\"data row3 col4\" >0.949675</td>\n",
       "                        <td id=\"T_e82e7_row3_col5\" class=\"data row3 col5\" >0.138019</td>\n",
       "                        <td id=\"T_e82e7_row3_col6\" class=\"data row3 col6\" >0.094722</td>\n",
       "                        <td id=\"T_e82e7_row3_col7\" class=\"data row3 col7\" >0.122479</td>\n",
       "                        <td id=\"T_e82e7_row3_col8\" class=\"data row3 col8\" >0.161870</td>\n",
       "                        <td id=\"T_e82e7_row3_col9\" class=\"data row3 col9\" >0.131905</td>\n",
       "                        <td id=\"T_e82e7_row3_col10\" class=\"data row3 col10\" >0.022203</td>\n",
       "                        <td id=\"T_e82e7_row3_col11\" class=\"data row3 col11\" >0.152556</td>\n",
       "                        <td id=\"T_e82e7_row3_col12\" class=\"data row3 col12\" >0.275048</td>\n",
       "                        <td id=\"T_e82e7_row3_col13\" class=\"data row3 col13\" >0.149020</td>\n",
       "                        <td id=\"T_e82e7_row3_col14\" class=\"data row3 col14\" >0.091030</td>\n",
       "                        <td id=\"T_e82e7_row3_col15\" class=\"data row3 col15\" >0.075798</td>\n",
       "                        <td id=\"T_e82e7_row3_col16\" class=\"data row3 col16\" >0.042051</td>\n",
       "                        <td id=\"T_e82e7_row3_col17\" class=\"data row3 col17\" >0.086011</td>\n",
       "                        <td id=\"T_e82e7_row3_col18\" class=\"data row3 col18\" >0.030726</td>\n",
       "                        <td id=\"T_e82e7_row3_col19\" class=\"data row3 col19\" >0.153563</td>\n",
       "                        <td id=\"T_e82e7_row3_col20\" class=\"data row3 col20\" >0.231308</td>\n",
       "                        <td id=\"T_e82e7_row3_col21\" class=\"data row3 col21\" >0.033146</td>\n",
       "                        <td id=\"T_e82e7_row3_col22\" class=\"data row3 col22\" >0.113762</td>\n",
       "                        <td id=\"T_e82e7_row3_col23\" class=\"data row3 col23\" >1.000000</td>\n",
       "                        <td id=\"T_e82e7_row3_col24\" class=\"data row3 col24\" >0.088317</td>\n",
       "                        <td id=\"T_e82e7_row3_col25\" class=\"data row3 col25\" >0.067944</td>\n",
       "                        <td id=\"T_e82e7_row3_col26\" class=\"data row3 col26\" >0.161402</td>\n",
       "                        <td id=\"T_e82e7_row3_col27\" class=\"data row3 col27\" >0.303414</td>\n",
       "            </tr>\n",
       "            <tr>\n",
       "                        <th id=\"T_e82e7_level0_row4\" class=\"row_heading level0 row4\" >arrival_date_week_number</th>\n",
       "                        <td id=\"T_e82e7_row4_col0\" class=\"data row4 col0\" >0.098220</td>\n",
       "                        <td id=\"T_e82e7_row4_col1\" class=\"data row4 col1\" >0.441189</td>\n",
       "                        <td id=\"T_e82e7_row4_col2\" class=\"data row4 col2\" >0.548534</td>\n",
       "                        <td id=\"T_e82e7_row4_col3\" class=\"data row4 col3\" >0.949675</td>\n",
       "                        <td id=\"T_e82e7_row4_col4\" class=\"data row4 col4\" >1.000000</td>\n",
       "                        <td id=\"T_e82e7_row4_col5\" class=\"data row4 col5\" >0.296739</td>\n",
       "                        <td id=\"T_e82e7_row4_col6\" class=\"data row4 col6\" >0.108564</td>\n",
       "                        <td id=\"T_e82e7_row4_col7\" class=\"data row4 col7\" >0.104130</td>\n",
       "                        <td id=\"T_e82e7_row4_col8\" class=\"data row4 col8\" >0.194336</td>\n",
       "                        <td id=\"T_e82e7_row4_col9\" class=\"data row4 col9\" >0.093546</td>\n",
       "                        <td id=\"T_e82e7_row4_col10\" class=\"data row4 col10\" >0.024256</td>\n",
       "                        <td id=\"T_e82e7_row4_col11\" class=\"data row4 col11\" >0.185924</td>\n",
       "                        <td id=\"T_e82e7_row4_col12\" class=\"data row4 col12\" >0.251494</td>\n",
       "                        <td id=\"T_e82e7_row4_col13\" class=\"data row4 col13\" >0.111563</td>\n",
       "                        <td id=\"T_e82e7_row4_col14\" class=\"data row4 col14\" >0.092071</td>\n",
       "                        <td id=\"T_e82e7_row4_col15\" class=\"data row4 col15\" >0.060473</td>\n",
       "                        <td id=\"T_e82e7_row4_col16\" class=\"data row4 col16\" >0.056743</td>\n",
       "                        <td id=\"T_e82e7_row4_col17\" class=\"data row4 col17\" >0.077289</td>\n",
       "                        <td id=\"T_e82e7_row4_col18\" class=\"data row4 col18\" >0.032631</td>\n",
       "                        <td id=\"T_e82e7_row4_col19\" class=\"data row4 col19\" >0.199883</td>\n",
       "                        <td id=\"T_e82e7_row4_col20\" class=\"data row4 col20\" >0.190374</td>\n",
       "                        <td id=\"T_e82e7_row4_col21\" class=\"data row4 col21\" >0.039909</td>\n",
       "                        <td id=\"T_e82e7_row4_col22\" class=\"data row4 col22\" >0.090594</td>\n",
       "                        <td id=\"T_e82e7_row4_col23\" class=\"data row4 col23\" >0.911568</td>\n",
       "                        <td id=\"T_e82e7_row4_col24\" class=\"data row4 col24\" >0.109750</td>\n",
       "                        <td id=\"T_e82e7_row4_col25\" class=\"data row4 col25\" >0.070115</td>\n",
       "                        <td id=\"T_e82e7_row4_col26\" class=\"data row4 col26\" >0.199711</td>\n",
       "                        <td id=\"T_e82e7_row4_col27\" class=\"data row4 col27\" >0.365685</td>\n",
       "            </tr>\n",
       "            <tr>\n",
       "                        <th id=\"T_e82e7_level0_row5\" class=\"row_heading level0 row5\" >arrival_date_day_of_month</th>\n",
       "                        <td id=\"T_e82e7_row5_col0\" class=\"data row5 col0\" >0.041515</td>\n",
       "                        <td id=\"T_e82e7_row5_col1\" class=\"data row5 col1\" >0.131782</td>\n",
       "                        <td id=\"T_e82e7_row5_col2\" class=\"data row5 col2\" >0.040384</td>\n",
       "                        <td id=\"T_e82e7_row5_col3\" class=\"data row5 col3\" >0.138019</td>\n",
       "                        <td id=\"T_e82e7_row5_col4\" class=\"data row5 col4\" >0.296739</td>\n",
       "                        <td id=\"T_e82e7_row5_col5\" class=\"data row5 col5\" >1.000000</td>\n",
       "                        <td id=\"T_e82e7_row5_col6\" class=\"data row5 col6\" >0.088407</td>\n",
       "                        <td id=\"T_e82e7_row5_col7\" class=\"data row5 col7\" >0.070831</td>\n",
       "                        <td id=\"T_e82e7_row5_col8\" class=\"data row5 col8\" >0.063118</td>\n",
       "                        <td id=\"T_e82e7_row5_col9\" class=\"data row5 col9\" >0.020092</td>\n",
       "                        <td id=\"T_e82e7_row5_col10\" class=\"data row5 col10\" >0.007417</td>\n",
       "                        <td id=\"T_e82e7_row5_col11\" class=\"data row5 col11\" >0.120083</td>\n",
       "                        <td id=\"T_e82e7_row5_col12\" class=\"data row5 col12\" >0.172525</td>\n",
       "                        <td id=\"T_e82e7_row5_col13\" class=\"data row5 col13\" >0.050274</td>\n",
       "                        <td id=\"T_e82e7_row5_col14\" class=\"data row5 col14\" >0.021427</td>\n",
       "                        <td id=\"T_e82e7_row5_col15\" class=\"data row5 col15\" >0.054087</td>\n",
       "                        <td id=\"T_e82e7_row5_col16\" class=\"data row5 col16\" >0.010680</td>\n",
       "                        <td id=\"T_e82e7_row5_col17\" class=\"data row5 col17\" >0.029513</td>\n",
       "                        <td id=\"T_e82e7_row5_col18\" class=\"data row5 col18\" >0.029912</td>\n",
       "                        <td id=\"T_e82e7_row5_col19\" class=\"data row5 col19\" >0.157245</td>\n",
       "                        <td id=\"T_e82e7_row5_col20\" class=\"data row5 col20\" >0.054261</td>\n",
       "                        <td id=\"T_e82e7_row5_col21\" class=\"data row5 col21\" >0.016801</td>\n",
       "                        <td id=\"T_e82e7_row5_col22\" class=\"data row5 col22\" >0.029785</td>\n",
       "                        <td id=\"T_e82e7_row5_col23\" class=\"data row5 col23\" >0.088705</td>\n",
       "                        <td id=\"T_e82e7_row5_col24\" class=\"data row5 col24\" >0.039219</td>\n",
       "                        <td id=\"T_e82e7_row5_col25\" class=\"data row5 col25\" >0.016730</td>\n",
       "                        <td id=\"T_e82e7_row5_col26\" class=\"data row5 col26\" >0.060797</td>\n",
       "                        <td id=\"T_e82e7_row5_col27\" class=\"data row5 col27\" >0.054809</td>\n",
       "            </tr>\n",
       "            <tr>\n",
       "                        <th id=\"T_e82e7_level0_row6\" class=\"row_heading level0 row6\" >stays_in_weekend_nights</th>\n",
       "                        <td id=\"T_e82e7_row6_col0\" class=\"data row6 col0\" >0.012649</td>\n",
       "                        <td id=\"T_e82e7_row6_col1\" class=\"data row6 col1\" >0.198839</td>\n",
       "                        <td id=\"T_e82e7_row6_col2\" class=\"data row6 col2\" >0.024355</td>\n",
       "                        <td id=\"T_e82e7_row6_col3\" class=\"data row6 col3\" >0.094722</td>\n",
       "                        <td id=\"T_e82e7_row6_col4\" class=\"data row6 col4\" >0.108564</td>\n",
       "                        <td id=\"T_e82e7_row6_col5\" class=\"data row6 col5\" >0.088407</td>\n",
       "                        <td id=\"T_e82e7_row6_col6\" class=\"data row6 col6\" >1.000000</td>\n",
       "                        <td id=\"T_e82e7_row6_col7\" class=\"data row6 col7\" >0.478820</td>\n",
       "                        <td id=\"T_e82e7_row6_col8\" class=\"data row6 col8\" >0.170230</td>\n",
       "                        <td id=\"T_e82e7_row6_col9\" class=\"data row6 col9\" >0.026777</td>\n",
       "                        <td id=\"T_e82e7_row6_col10\" class=\"data row6 col10\" >0.026451</td>\n",
       "                        <td id=\"T_e82e7_row6_col11\" class=\"data row6 col11\" >0.110937</td>\n",
       "                        <td id=\"T_e82e7_row6_col12\" class=\"data row6 col12\" >0.249173</td>\n",
       "                        <td id=\"T_e82e7_row6_col13\" class=\"data row6 col13\" >0.080923</td>\n",
       "                        <td id=\"T_e82e7_row6_col14\" class=\"data row6 col14\" >0.069656</td>\n",
       "                        <td id=\"T_e82e7_row6_col15\" class=\"data row6 col15\" >0.024249</td>\n",
       "                        <td id=\"T_e82e7_row6_col16\" class=\"data row6 col16\" >0.034746</td>\n",
       "                        <td id=\"T_e82e7_row6_col17\" class=\"data row6 col17\" >0.090336</td>\n",
       "                        <td id=\"T_e82e7_row6_col18\" class=\"data row6 col18\" >0.020625</td>\n",
       "                        <td id=\"T_e82e7_row6_col19\" class=\"data row6 col19\" >0.101198</td>\n",
       "                        <td id=\"T_e82e7_row6_col20\" class=\"data row6 col20\" >0.052255</td>\n",
       "                        <td id=\"T_e82e7_row6_col21\" class=\"data row6 col21\" >0.027361</td>\n",
       "                        <td id=\"T_e82e7_row6_col22\" class=\"data row6 col22\" >0.055540</td>\n",
       "                        <td id=\"T_e82e7_row6_col23\" class=\"data row6 col23\" >0.054221</td>\n",
       "                        <td id=\"T_e82e7_row6_col24\" class=\"data row6 col24\" >0.149430</td>\n",
       "                        <td id=\"T_e82e7_row6_col25\" class=\"data row6 col25\" >0.029466</td>\n",
       "                        <td id=\"T_e82e7_row6_col26\" class=\"data row6 col26\" >0.673419</td>\n",
       "                        <td id=\"T_e82e7_row6_col27\" class=\"data row6 col27\" >0.658752</td>\n",
       "            </tr>\n",
       "            <tr>\n",
       "                        <th id=\"T_e82e7_level0_row7\" class=\"row_heading level0 row7\" >stays_in_week_nights</th>\n",
       "                        <td id=\"T_e82e7_row7_col0\" class=\"data row7 col0\" >0.093030</td>\n",
       "                        <td id=\"T_e82e7_row7_col1\" class=\"data row7 col1\" >0.240323</td>\n",
       "                        <td id=\"T_e82e7_row7_col2\" class=\"data row7 col2\" >0.041273</td>\n",
       "                        <td id=\"T_e82e7_row7_col3\" class=\"data row7 col3\" >0.122479</td>\n",
       "                        <td id=\"T_e82e7_row7_col4\" class=\"data row7 col4\" >0.104130</td>\n",
       "                        <td id=\"T_e82e7_row7_col5\" class=\"data row7 col5\" >0.070831</td>\n",
       "                        <td id=\"T_e82e7_row7_col6\" class=\"data row7 col6\" >0.478820</td>\n",
       "                        <td id=\"T_e82e7_row7_col7\" class=\"data row7 col7\" >1.000000</td>\n",
       "                        <td id=\"T_e82e7_row7_col8\" class=\"data row7 col8\" >0.123046</td>\n",
       "                        <td id=\"T_e82e7_row7_col9\" class=\"data row7 col9\" >0.033296</td>\n",
       "                        <td id=\"T_e82e7_row7_col10\" class=\"data row7 col10\" >0.027483</td>\n",
       "                        <td id=\"T_e82e7_row7_col11\" class=\"data row7 col11\" >0.120846</td>\n",
       "                        <td id=\"T_e82e7_row7_col12\" class=\"data row7 col12\" >0.319439</td>\n",
       "                        <td id=\"T_e82e7_row7_col13\" class=\"data row7 col13\" >0.147002</td>\n",
       "                        <td id=\"T_e82e7_row7_col14\" class=\"data row7 col14\" >0.103757</td>\n",
       "                        <td id=\"T_e82e7_row7_col15\" class=\"data row7 col15\" >0.048331</td>\n",
       "                        <td id=\"T_e82e7_row7_col16\" class=\"data row7 col16\" >0.038429</td>\n",
       "                        <td id=\"T_e82e7_row7_col17\" class=\"data row7 col17\" >0.195272</td>\n",
       "                        <td id=\"T_e82e7_row7_col18\" class=\"data row7 col18\" >0.050756</td>\n",
       "                        <td id=\"T_e82e7_row7_col19\" class=\"data row7 col19\" >0.095412</td>\n",
       "                        <td id=\"T_e82e7_row7_col20\" class=\"data row7 col20\" >0.114358</td>\n",
       "                        <td id=\"T_e82e7_row7_col21\" class=\"data row7 col21\" >0.043890</td>\n",
       "                        <td id=\"T_e82e7_row7_col22\" class=\"data row7 col22\" >0.068073</td>\n",
       "                        <td id=\"T_e82e7_row7_col23\" class=\"data row7 col23\" >0.109450</td>\n",
       "                        <td id=\"T_e82e7_row7_col24\" class=\"data row7 col24\" >0.128269</td>\n",
       "                        <td id=\"T_e82e7_row7_col25\" class=\"data row7 col25\" >0.038238</td>\n",
       "                        <td id=\"T_e82e7_row7_col26\" class=\"data row7 col26\" >0.560296</td>\n",
       "                        <td id=\"T_e82e7_row7_col27\" class=\"data row7 col27\" >0.632899</td>\n",
       "            </tr>\n",
       "            <tr>\n",
       "                        <th id=\"T_e82e7_level0_row8\" class=\"row_heading level0 row8\" >adults</th>\n",
       "                        <td id=\"T_e82e7_row8_col0\" class=\"data row8 col0\" >0.064374</td>\n",
       "                        <td id=\"T_e82e7_row8_col1\" class=\"data row8 col1\" >0.259485</td>\n",
       "                        <td id=\"T_e82e7_row8_col2\" class=\"data row8 col2\" >0.011625</td>\n",
       "                        <td id=\"T_e82e7_row8_col3\" class=\"data row8 col3\" >0.161870</td>\n",
       "                        <td id=\"T_e82e7_row8_col4\" class=\"data row8 col4\" >0.194336</td>\n",
       "                        <td id=\"T_e82e7_row8_col5\" class=\"data row8 col5\" >0.063118</td>\n",
       "                        <td id=\"T_e82e7_row8_col6\" class=\"data row8 col6\" >0.170230</td>\n",
       "                        <td id=\"T_e82e7_row8_col7\" class=\"data row8 col7\" >0.123046</td>\n",
       "                        <td id=\"T_e82e7_row8_col8\" class=\"data row8 col8\" >1.000000</td>\n",
       "                        <td id=\"T_e82e7_row8_col9\" class=\"data row8 col9\" >0.234382</td>\n",
       "                        <td id=\"T_e82e7_row8_col10\" class=\"data row8 col10\" >0.055515</td>\n",
       "                        <td id=\"T_e82e7_row8_col11\" class=\"data row8 col11\" >0.158515</td>\n",
       "                        <td id=\"T_e82e7_row8_col12\" class=\"data row8 col12\" >0.233919</td>\n",
       "                        <td id=\"T_e82e7_row8_col13\" class=\"data row8 col13\" >0.222262</td>\n",
       "                        <td id=\"T_e82e7_row8_col14\" class=\"data row8 col14\" >0.157520</td>\n",
       "                        <td id=\"T_e82e7_row8_col15\" class=\"data row8 col15\" >0.043487</td>\n",
       "                        <td id=\"T_e82e7_row8_col16\" class=\"data row8 col16\" >0.137230</td>\n",
       "                        <td id=\"T_e82e7_row8_col17\" class=\"data row8 col17\" >0.398662</td>\n",
       "                        <td id=\"T_e82e7_row8_col18\" class=\"data row8 col18\" >0.054569</td>\n",
       "                        <td id=\"T_e82e7_row8_col19\" class=\"data row8 col19\" >0.070260</td>\n",
       "                        <td id=\"T_e82e7_row8_col20\" class=\"data row8 col20\" >0.101910</td>\n",
       "                        <td id=\"T_e82e7_row8_col21\" class=\"data row8 col21\" >0.013277</td>\n",
       "                        <td id=\"T_e82e7_row8_col22\" class=\"data row8 col22\" >0.131220</td>\n",
       "                        <td id=\"T_e82e7_row8_col23\" class=\"data row8 col23\" >0.118893</td>\n",
       "                        <td id=\"T_e82e7_row8_col24\" class=\"data row8 col24\" >0.603996</td>\n",
       "                        <td id=\"T_e82e7_row8_col25\" class=\"data row8 col25\" >0.289748</td>\n",
       "                        <td id=\"T_e82e7_row8_col26\" class=\"data row8 col26\" >0.123260</td>\n",
       "                        <td id=\"T_e82e7_row8_col27\" class=\"data row8 col27\" >0.237642</td>\n",
       "            </tr>\n",
       "            <tr>\n",
       "                        <th id=\"T_e82e7_level0_row9\" class=\"row_heading level0 row9\" >children</th>\n",
       "                        <td id=\"T_e82e7_row9_col0\" class=\"data row9 col0\" >0.036007</td>\n",
       "                        <td id=\"T_e82e7_row9_col1\" class=\"data row9 col1\" >0.041533</td>\n",
       "                        <td id=\"T_e82e7_row9_col2\" class=\"data row9 col2\" >0.018205</td>\n",
       "                        <td id=\"T_e82e7_row9_col3\" class=\"data row9 col3\" >0.131905</td>\n",
       "                        <td id=\"T_e82e7_row9_col4\" class=\"data row9 col4\" >0.093546</td>\n",
       "                        <td id=\"T_e82e7_row9_col5\" class=\"data row9 col5\" >0.020092</td>\n",
       "                        <td id=\"T_e82e7_row9_col6\" class=\"data row9 col6\" >0.026777</td>\n",
       "                        <td id=\"T_e82e7_row9_col7\" class=\"data row9 col7\" >0.033296</td>\n",
       "                        <td id=\"T_e82e7_row9_col8\" class=\"data row9 col8\" >0.234382</td>\n",
       "                        <td id=\"T_e82e7_row9_col9\" class=\"data row9 col9\" >1.000000</td>\n",
       "                        <td id=\"T_e82e7_row9_col10\" class=\"data row9 col10\" >0.027271</td>\n",
       "                        <td id=\"T_e82e7_row9_col11\" class=\"data row9 col11\" >0.051180</td>\n",
       "                        <td id=\"T_e82e7_row9_col12\" class=\"data row9 col12\" >0.134478</td>\n",
       "                        <td id=\"T_e82e7_row9_col13\" class=\"data row9 col13\" >0.102674</td>\n",
       "                        <td id=\"T_e82e7_row9_col14\" class=\"data row9 col14\" >0.044552</td>\n",
       "                        <td id=\"T_e82e7_row9_col15\" class=\"data row9 col15\" >0.000000</td>\n",
       "                        <td id=\"T_e82e7_row9_col16\" class=\"data row9 col16\" >0.000000</td>\n",
       "                        <td id=\"T_e82e7_row9_col17\" class=\"data row9 col17\" >0.509828</td>\n",
       "                        <td id=\"T_e82e7_row9_col18\" class=\"data row9 col18\" >0.048517</td>\n",
       "                        <td id=\"T_e82e7_row9_col19\" class=\"data row9 col19\" >0.036379</td>\n",
       "                        <td id=\"T_e82e7_row9_col20\" class=\"data row9 col20\" >0.127054</td>\n",
       "                        <td id=\"T_e82e7_row9_col21\" class=\"data row9 col21\" >0.030301</td>\n",
       "                        <td id=\"T_e82e7_row9_col22\" class=\"data row9 col22\" >0.116460</td>\n",
       "                        <td id=\"T_e82e7_row9_col23\" class=\"data row9 col23\" >0.061452</td>\n",
       "                        <td id=\"T_e82e7_row9_col24\" class=\"data row9 col24\" >0.389956</td>\n",
       "                        <td id=\"T_e82e7_row9_col25\" class=\"data row9 col25\" >0.727380</td>\n",
       "                        <td id=\"T_e82e7_row9_col26\" class=\"data row9 col26\" >0.061533</td>\n",
       "                        <td id=\"T_e82e7_row9_col27\" class=\"data row9 col27\" >0.075572</td>\n",
       "            </tr>\n",
       "            <tr>\n",
       "                        <th id=\"T_e82e7_level0_row10\" class=\"row_heading level0 row10\" >babies</th>\n",
       "                        <td id=\"T_e82e7_row10_col0\" class=\"data row10 col0\" >0.027831</td>\n",
       "                        <td id=\"T_e82e7_row10_col1\" class=\"data row10 col1\" >0.016639</td>\n",
       "                        <td id=\"T_e82e7_row10_col2\" class=\"data row10 col2\" >0.010761</td>\n",
       "                        <td id=\"T_e82e7_row10_col3\" class=\"data row10 col3\" >0.022203</td>\n",
       "                        <td id=\"T_e82e7_row10_col4\" class=\"data row10 col4\" >0.024256</td>\n",
       "                        <td id=\"T_e82e7_row10_col5\" class=\"data row10 col5\" >0.007417</td>\n",
       "                        <td id=\"T_e82e7_row10_col6\" class=\"data row10 col6\" >0.026451</td>\n",
       "                        <td id=\"T_e82e7_row10_col7\" class=\"data row10 col7\" >0.027483</td>\n",
       "                        <td id=\"T_e82e7_row10_col8\" class=\"data row10 col8\" >0.055515</td>\n",
       "                        <td id=\"T_e82e7_row10_col9\" class=\"data row10 col9\" >0.027271</td>\n",
       "                        <td id=\"T_e82e7_row10_col10\" class=\"data row10 col10\" >1.000000</td>\n",
       "                        <td id=\"T_e82e7_row10_col11\" class=\"data row10 col11\" >0.028338</td>\n",
       "                        <td id=\"T_e82e7_row10_col12\" class=\"data row10 col12\" >0.000000</td>\n",
       "                        <td id=\"T_e82e7_row10_col13\" class=\"data row10 col13\" >0.033542</td>\n",
       "                        <td id=\"T_e82e7_row10_col14\" class=\"data row10 col14\" >0.005377</td>\n",
       "                        <td id=\"T_e82e7_row10_col15\" class=\"data row10 col15\" >0.000000</td>\n",
       "                        <td id=\"T_e82e7_row10_col16\" class=\"data row10 col16\" >0.000000</td>\n",
       "                        <td id=\"T_e82e7_row10_col17\" class=\"data row10 col17\" >0.049247</td>\n",
       "                        <td id=\"T_e82e7_row10_col18\" class=\"data row10 col18\" >0.058082</td>\n",
       "                        <td id=\"T_e82e7_row10_col19\" class=\"data row10 col19\" >0.000000</td>\n",
       "                        <td id=\"T_e82e7_row10_col20\" class=\"data row10 col20\" >0.016285</td>\n",
       "                        <td id=\"T_e82e7_row10_col21\" class=\"data row10 col21\" >0.049147</td>\n",
       "                        <td id=\"T_e82e7_row10_col22\" class=\"data row10 col22\" >0.093073</td>\n",
       "                        <td id=\"T_e82e7_row10_col23\" class=\"data row10 col23\" >0.015749</td>\n",
       "                        <td id=\"T_e82e7_row10_col24\" class=\"data row10 col24\" >0.039931</td>\n",
       "                        <td id=\"T_e82e7_row10_col25\" class=\"data row10 col25\" >0.061810</td>\n",
       "                        <td id=\"T_e82e7_row10_col26\" class=\"data row10 col26\" >0.041927</td>\n",
       "                        <td id=\"T_e82e7_row10_col27\" class=\"data row10 col27\" >0.051308</td>\n",
       "            </tr>\n",
       "            <tr>\n",
       "                        <th id=\"T_e82e7_level0_row11\" class=\"row_heading level0 row11\" >meal</th>\n",
       "                        <td id=\"T_e82e7_row11_col0\" class=\"data row11 col0\" >0.039506</td>\n",
       "                        <td id=\"T_e82e7_row11_col1\" class=\"data row11 col1\" >0.216042</td>\n",
       "                        <td id=\"T_e82e7_row11_col2\" class=\"data row11 col2\" >0.068035</td>\n",
       "                        <td id=\"T_e82e7_row11_col3\" class=\"data row11 col3\" >0.152556</td>\n",
       "                        <td id=\"T_e82e7_row11_col4\" class=\"data row11 col4\" >0.185924</td>\n",
       "                        <td id=\"T_e82e7_row11_col5\" class=\"data row11 col5\" >0.120083</td>\n",
       "                        <td id=\"T_e82e7_row11_col6\" class=\"data row11 col6\" >0.110937</td>\n",
       "                        <td id=\"T_e82e7_row11_col7\" class=\"data row11 col7\" >0.120846</td>\n",
       "                        <td id=\"T_e82e7_row11_col8\" class=\"data row11 col8\" >0.158515</td>\n",
       "                        <td id=\"T_e82e7_row11_col9\" class=\"data row11 col9\" >0.051180</td>\n",
       "                        <td id=\"T_e82e7_row11_col10\" class=\"data row11 col10\" >0.028338</td>\n",
       "                        <td id=\"T_e82e7_row11_col11\" class=\"data row11 col11\" >1.000000</td>\n",
       "                        <td id=\"T_e82e7_row11_col12\" class=\"data row11 col12\" >0.301219</td>\n",
       "                        <td id=\"T_e82e7_row11_col13\" class=\"data row11 col13\" >0.107589</td>\n",
       "                        <td id=\"T_e82e7_row11_col14\" class=\"data row11 col14\" >0.054671</td>\n",
       "                        <td id=\"T_e82e7_row11_col15\" class=\"data row11 col15\" >0.147524</td>\n",
       "                        <td id=\"T_e82e7_row11_col16\" class=\"data row11 col16\" >0.028345</td>\n",
       "                        <td id=\"T_e82e7_row11_col17\" class=\"data row11 col17\" >0.156322</td>\n",
       "                        <td id=\"T_e82e7_row11_col18\" class=\"data row11 col18\" >0.000000</td>\n",
       "                        <td id=\"T_e82e7_row11_col19\" class=\"data row11 col19\" >0.143167</td>\n",
       "                        <td id=\"T_e82e7_row11_col20\" class=\"data row11 col20\" >0.183321</td>\n",
       "                        <td id=\"T_e82e7_row11_col21\" class=\"data row11 col21\" >0.068767</td>\n",
       "                        <td id=\"T_e82e7_row11_col22\" class=\"data row11 col22\" >0.105496</td>\n",
       "                        <td id=\"T_e82e7_row11_col23\" class=\"data row11 col23\" >0.108491</td>\n",
       "                        <td id=\"T_e82e7_row11_col24\" class=\"data row11 col24\" >0.255977</td>\n",
       "                        <td id=\"T_e82e7_row11_col25\" class=\"data row11 col25\" >0.043821</td>\n",
       "                        <td id=\"T_e82e7_row11_col26\" class=\"data row11 col26\" >0.149493</td>\n",
       "                        <td id=\"T_e82e7_row11_col27\" class=\"data row11 col27\" >0.164101</td>\n",
       "            </tr>\n",
       "            <tr>\n",
       "                        <th id=\"T_e82e7_level0_row12\" class=\"row_heading level0 row12\" >country</th>\n",
       "                        <td id=\"T_e82e7_row12_col0\" class=\"data row12 col0\" >0.456439</td>\n",
       "                        <td id=\"T_e82e7_row12_col1\" class=\"data row12 col1\" >0.298300</td>\n",
       "                        <td id=\"T_e82e7_row12_col2\" class=\"data row12 col2\" >0.138954</td>\n",
       "                        <td id=\"T_e82e7_row12_col3\" class=\"data row12 col3\" >0.275048</td>\n",
       "                        <td id=\"T_e82e7_row12_col4\" class=\"data row12 col4\" >0.251494</td>\n",
       "                        <td id=\"T_e82e7_row12_col5\" class=\"data row12 col5\" >0.172525</td>\n",
       "                        <td id=\"T_e82e7_row12_col6\" class=\"data row12 col6\" >0.249173</td>\n",
       "                        <td id=\"T_e82e7_row12_col7\" class=\"data row12 col7\" >0.319439</td>\n",
       "                        <td id=\"T_e82e7_row12_col8\" class=\"data row12 col8\" >0.233919</td>\n",
       "                        <td id=\"T_e82e7_row12_col9\" class=\"data row12 col9\" >0.134478</td>\n",
       "                        <td id=\"T_e82e7_row12_col10\" class=\"data row12 col10\" >0.000000</td>\n",
       "                        <td id=\"T_e82e7_row12_col11\" class=\"data row12 col11\" >0.301219</td>\n",
       "                        <td id=\"T_e82e7_row12_col12\" class=\"data row12 col12\" >1.000000</td>\n",
       "                        <td id=\"T_e82e7_row12_col13\" class=\"data row12 col13\" >0.235144</td>\n",
       "                        <td id=\"T_e82e7_row12_col14\" class=\"data row12 col14\" >0.199469</td>\n",
       "                        <td id=\"T_e82e7_row12_col15\" class=\"data row12 col15\" >0.000000</td>\n",
       "                        <td id=\"T_e82e7_row12_col16\" class=\"data row12 col16\" >0.000000</td>\n",
       "                        <td id=\"T_e82e7_row12_col17\" class=\"data row12 col17\" >0.238388</td>\n",
       "                        <td id=\"T_e82e7_row12_col18\" class=\"data row12 col18\" >0.088938</td>\n",
       "                        <td id=\"T_e82e7_row12_col19\" class=\"data row12 col19\" >0.359174</td>\n",
       "                        <td id=\"T_e82e7_row12_col20\" class=\"data row12 col20\" >0.205878</td>\n",
       "                        <td id=\"T_e82e7_row12_col21\" class=\"data row12 col21\" >0.090233</td>\n",
       "                        <td id=\"T_e82e7_row12_col22\" class=\"data row12 col22\" >0.299777</td>\n",
       "                        <td id=\"T_e82e7_row12_col23\" class=\"data row12 col23\" >0.238945</td>\n",
       "                        <td id=\"T_e82e7_row12_col24\" class=\"data row12 col24\" >0.244405</td>\n",
       "                        <td id=\"T_e82e7_row12_col25\" class=\"data row12 col25\" >0.082481</td>\n",
       "                        <td id=\"T_e82e7_row12_col26\" class=\"data row12 col26\" >0.427196</td>\n",
       "                        <td id=\"T_e82e7_row12_col27\" class=\"data row12 col27\" >0.438678</td>\n",
       "            </tr>\n",
       "            <tr>\n",
       "                        <th id=\"T_e82e7_level0_row13\" class=\"row_heading level0 row13\" >distribution_channel</th>\n",
       "                        <td id=\"T_e82e7_row13_col0\" class=\"data row13 col0\" >0.255593</td>\n",
       "                        <td id=\"T_e82e7_row13_col1\" class=\"data row13 col1\" >0.262549</td>\n",
       "                        <td id=\"T_e82e7_row13_col2\" class=\"data row13 col2\" >0.029235</td>\n",
       "                        <td id=\"T_e82e7_row13_col3\" class=\"data row13 col3\" >0.149020</td>\n",
       "                        <td id=\"T_e82e7_row13_col4\" class=\"data row13 col4\" >0.111563</td>\n",
       "                        <td id=\"T_e82e7_row13_col5\" class=\"data row13 col5\" >0.050274</td>\n",
       "                        <td id=\"T_e82e7_row13_col6\" class=\"data row13 col6\" >0.080923</td>\n",
       "                        <td id=\"T_e82e7_row13_col7\" class=\"data row13 col7\" >0.147002</td>\n",
       "                        <td id=\"T_e82e7_row13_col8\" class=\"data row13 col8\" >0.222262</td>\n",
       "                        <td id=\"T_e82e7_row13_col9\" class=\"data row13 col9\" >0.102674</td>\n",
       "                        <td id=\"T_e82e7_row13_col10\" class=\"data row13 col10\" >0.033542</td>\n",
       "                        <td id=\"T_e82e7_row13_col11\" class=\"data row13 col11\" >0.107589</td>\n",
       "                        <td id=\"T_e82e7_row13_col12\" class=\"data row13 col12\" >0.235144</td>\n",
       "                        <td id=\"T_e82e7_row13_col13\" class=\"data row13 col13\" >1.000000</td>\n",
       "                        <td id=\"T_e82e7_row13_col14\" class=\"data row13 col14\" >0.489528</td>\n",
       "                        <td id=\"T_e82e7_row13_col15\" class=\"data row13 col15\" >0.142548</td>\n",
       "                        <td id=\"T_e82e7_row13_col16\" class=\"data row13 col16\" >0.218501</td>\n",
       "                        <td id=\"T_e82e7_row13_col17\" class=\"data row13 col17\" >0.142943</td>\n",
       "                        <td id=\"T_e82e7_row13_col18\" class=\"data row13 col18\" >0.068068</td>\n",
       "                        <td id=\"T_e82e7_row13_col19\" class=\"data row13 col19\" >0.062644</td>\n",
       "                        <td id=\"T_e82e7_row13_col20\" class=\"data row13 col20\" >0.183886</td>\n",
       "                        <td id=\"T_e82e7_row13_col21\" class=\"data row13 col21\" >0.097186</td>\n",
       "                        <td id=\"T_e82e7_row13_col22\" class=\"data row13 col22\" >0.123873</td>\n",
       "                        <td id=\"T_e82e7_row13_col23\" class=\"data row13 col23\" >0.058981</td>\n",
       "                        <td id=\"T_e82e7_row13_col24\" class=\"data row13 col24\" >0.113616</td>\n",
       "                        <td id=\"T_e82e7_row13_col25\" class=\"data row13 col25\" >0.123499</td>\n",
       "                        <td id=\"T_e82e7_row13_col26\" class=\"data row13 col26\" >0.053787</td>\n",
       "                        <td id=\"T_e82e7_row13_col27\" class=\"data row13 col27\" >0.235819</td>\n",
       "            </tr>\n",
       "            <tr>\n",
       "                        <th id=\"T_e82e7_level0_row14\" class=\"row_heading level0 row14\" >is_repeated_guest</th>\n",
       "                        <td id=\"T_e82e7_row14_col0\" class=\"data row14 col0\" >0.109305</td>\n",
       "                        <td id=\"T_e82e7_row14_col1\" class=\"data row14 col1\" >0.227617</td>\n",
       "                        <td id=\"T_e82e7_row14_col2\" class=\"data row14 col2\" >0.021585</td>\n",
       "                        <td id=\"T_e82e7_row14_col3\" class=\"data row14 col3\" >0.091030</td>\n",
       "                        <td id=\"T_e82e7_row14_col4\" class=\"data row14 col4\" >0.092071</td>\n",
       "                        <td id=\"T_e82e7_row14_col5\" class=\"data row14 col5\" >0.021427</td>\n",
       "                        <td id=\"T_e82e7_row14_col6\" class=\"data row14 col6\" >0.069656</td>\n",
       "                        <td id=\"T_e82e7_row14_col7\" class=\"data row14 col7\" >0.103757</td>\n",
       "                        <td id=\"T_e82e7_row14_col8\" class=\"data row14 col8\" >0.157520</td>\n",
       "                        <td id=\"T_e82e7_row14_col9\" class=\"data row14 col9\" >0.044552</td>\n",
       "                        <td id=\"T_e82e7_row14_col10\" class=\"data row14 col10\" >0.005377</td>\n",
       "                        <td id=\"T_e82e7_row14_col11\" class=\"data row14 col11\" >0.054671</td>\n",
       "                        <td id=\"T_e82e7_row14_col12\" class=\"data row14 col12\" >0.199469</td>\n",
       "                        <td id=\"T_e82e7_row14_col13\" class=\"data row14 col13\" >0.489528</td>\n",
       "                        <td id=\"T_e82e7_row14_col14\" class=\"data row14 col14\" >1.000000</td>\n",
       "                        <td id=\"T_e82e7_row14_col15\" class=\"data row14 col15\" >0.251012</td>\n",
       "                        <td id=\"T_e82e7_row14_col16\" class=\"data row14 col16\" >0.438897</td>\n",
       "                        <td id=\"T_e82e7_row14_col17\" class=\"data row14 col17\" >0.038797</td>\n",
       "                        <td id=\"T_e82e7_row14_col18\" class=\"data row14 col18\" >0.000000</td>\n",
       "                        <td id=\"T_e82e7_row14_col19\" class=\"data row14 col19\" >0.030834</td>\n",
       "                        <td id=\"T_e82e7_row14_col20\" class=\"data row14 col20\" >0.157699</td>\n",
       "                        <td id=\"T_e82e7_row14_col21\" class=\"data row14 col21\" >0.072967</td>\n",
       "                        <td id=\"T_e82e7_row14_col22\" class=\"data row14 col22\" >0.042424</td>\n",
       "                        <td id=\"T_e82e7_row14_col23\" class=\"data row14 col23\" >0.033459</td>\n",
       "                        <td id=\"T_e82e7_row14_col24\" class=\"data row14 col24\" >0.032889</td>\n",
       "                        <td id=\"T_e82e7_row14_col25\" class=\"data row14 col25\" >0.022048</td>\n",
       "                        <td id=\"T_e82e7_row14_col26\" class=\"data row14 col26\" >0.079625</td>\n",
       "                        <td id=\"T_e82e7_row14_col27\" class=\"data row14 col27\" >0.227152</td>\n",
       "            </tr>\n",
       "            <tr>\n",
       "                        <th id=\"T_e82e7_level0_row15\" class=\"row_heading level0 row15\" >previous_cancellations</th>\n",
       "                        <td id=\"T_e82e7_row15_col0\" class=\"data row15 col0\" >0.055497</td>\n",
       "                        <td id=\"T_e82e7_row15_col1\" class=\"data row15 col1\" >0.083018</td>\n",
       "                        <td id=\"T_e82e7_row15_col2\" class=\"data row15 col2\" >0.019715</td>\n",
       "                        <td id=\"T_e82e7_row15_col3\" class=\"data row15 col3\" >0.075798</td>\n",
       "                        <td id=\"T_e82e7_row15_col4\" class=\"data row15 col4\" >0.060473</td>\n",
       "                        <td id=\"T_e82e7_row15_col5\" class=\"data row15 col5\" >0.054087</td>\n",
       "                        <td id=\"T_e82e7_row15_col6\" class=\"data row15 col6\" >0.024249</td>\n",
       "                        <td id=\"T_e82e7_row15_col7\" class=\"data row15 col7\" >0.048331</td>\n",
       "                        <td id=\"T_e82e7_row15_col8\" class=\"data row15 col8\" >0.043487</td>\n",
       "                        <td id=\"T_e82e7_row15_col9\" class=\"data row15 col9\" >0.000000</td>\n",
       "                        <td id=\"T_e82e7_row15_col10\" class=\"data row15 col10\" >0.000000</td>\n",
       "                        <td id=\"T_e82e7_row15_col11\" class=\"data row15 col11\" >0.147524</td>\n",
       "                        <td id=\"T_e82e7_row15_col12\" class=\"data row15 col12\" >0.000000</td>\n",
       "                        <td id=\"T_e82e7_row15_col13\" class=\"data row15 col13\" >0.142548</td>\n",
       "                        <td id=\"T_e82e7_row15_col14\" class=\"data row15 col14\" >0.251012</td>\n",
       "                        <td id=\"T_e82e7_row15_col15\" class=\"data row15 col15\" >1.000000</td>\n",
       "                        <td id=\"T_e82e7_row15_col16\" class=\"data row15 col16\" >0.679830</td>\n",
       "                        <td id=\"T_e82e7_row15_col17\" class=\"data row15 col17\" >0.010521</td>\n",
       "                        <td id=\"T_e82e7_row15_col18\" class=\"data row15 col18\" >0.000000</td>\n",
       "                        <td id=\"T_e82e7_row15_col19\" class=\"data row15 col19\" >0.062770</td>\n",
       "                        <td id=\"T_e82e7_row15_col20\" class=\"data row15 col20\" >0.016467</td>\n",
       "                        <td id=\"T_e82e7_row15_col21\" class=\"data row15 col21\" >0.000000</td>\n",
       "                        <td id=\"T_e82e7_row15_col22\" class=\"data row15 col22\" >0.040303</td>\n",
       "                        <td id=\"T_e82e7_row15_col23\" class=\"data row15 col23\" >0.044089</td>\n",
       "                        <td id=\"T_e82e7_row15_col24\" class=\"data row15 col24\" >0.014341</td>\n",
       "                        <td id=\"T_e82e7_row15_col25\" class=\"data row15 col25\" >0.000000</td>\n",
       "                        <td id=\"T_e82e7_row15_col26\" class=\"data row15 col26\" >0.019228</td>\n",
       "                        <td id=\"T_e82e7_row15_col27\" class=\"data row15 col27\" >0.038201</td>\n",
       "            </tr>\n",
       "            <tr>\n",
       "                        <th id=\"T_e82e7_level0_row16\" class=\"row_heading level0 row16\" >previous_bookings_not_canceled</th>\n",
       "                        <td id=\"T_e82e7_row16_col0\" class=\"data row16 col0\" >0.051698</td>\n",
       "                        <td id=\"T_e82e7_row16_col1\" class=\"data row16 col1\" >0.072300</td>\n",
       "                        <td id=\"T_e82e7_row16_col2\" class=\"data row16 col2\" >0.029793</td>\n",
       "                        <td id=\"T_e82e7_row16_col3\" class=\"data row16 col3\" >0.042051</td>\n",
       "                        <td id=\"T_e82e7_row16_col4\" class=\"data row16 col4\" >0.056743</td>\n",
       "                        <td id=\"T_e82e7_row16_col5\" class=\"data row16 col5\" >0.010680</td>\n",
       "                        <td id=\"T_e82e7_row16_col6\" class=\"data row16 col6\" >0.034746</td>\n",
       "                        <td id=\"T_e82e7_row16_col7\" class=\"data row16 col7\" >0.038429</td>\n",
       "                        <td id=\"T_e82e7_row16_col8\" class=\"data row16 col8\" >0.137230</td>\n",
       "                        <td id=\"T_e82e7_row16_col9\" class=\"data row16 col9\" >0.000000</td>\n",
       "                        <td id=\"T_e82e7_row16_col10\" class=\"data row16 col10\" >0.000000</td>\n",
       "                        <td id=\"T_e82e7_row16_col11\" class=\"data row16 col11\" >0.028345</td>\n",
       "                        <td id=\"T_e82e7_row16_col12\" class=\"data row16 col12\" >0.000000</td>\n",
       "                        <td id=\"T_e82e7_row16_col13\" class=\"data row16 col13\" >0.218501</td>\n",
       "                        <td id=\"T_e82e7_row16_col14\" class=\"data row16 col14\" >0.438897</td>\n",
       "                        <td id=\"T_e82e7_row16_col15\" class=\"data row16 col15\" >0.679830</td>\n",
       "                        <td id=\"T_e82e7_row16_col16\" class=\"data row16 col16\" >1.000000</td>\n",
       "                        <td id=\"T_e82e7_row16_col17\" class=\"data row16 col17\" >0.015134</td>\n",
       "                        <td id=\"T_e82e7_row16_col18\" class=\"data row16 col18\" >0.000000</td>\n",
       "                        <td id=\"T_e82e7_row16_col19\" class=\"data row16 col19\" >0.012011</td>\n",
       "                        <td id=\"T_e82e7_row16_col20\" class=\"data row16 col20\" >0.021149</td>\n",
       "                        <td id=\"T_e82e7_row16_col21\" class=\"data row16 col21\" >0.058494</td>\n",
       "                        <td id=\"T_e82e7_row16_col22\" class=\"data row16 col22\" >0.044413</td>\n",
       "                        <td id=\"T_e82e7_row16_col23\" class=\"data row16 col23\" >0.037387</td>\n",
       "                        <td id=\"T_e82e7_row16_col24\" class=\"data row16 col24\" >0.026630</td>\n",
       "                        <td id=\"T_e82e7_row16_col25\" class=\"data row16 col25\" >0.000000</td>\n",
       "                        <td id=\"T_e82e7_row16_col26\" class=\"data row16 col26\" >0.027321</td>\n",
       "                        <td id=\"T_e82e7_row16_col27\" class=\"data row16 col27\" >0.076403</td>\n",
       "            </tr>\n",
       "            <tr>\n",
       "                        <th id=\"T_e82e7_level0_row17\" class=\"row_heading level0 row17\" >reserved_room_type</th>\n",
       "                        <td id=\"T_e82e7_row17_col0\" class=\"data row17 col0\" >0.067139</td>\n",
       "                        <td id=\"T_e82e7_row17_col1\" class=\"data row17 col1\" >0.104042</td>\n",
       "                        <td id=\"T_e82e7_row17_col2\" class=\"data row17 col2\" >0.056606</td>\n",
       "                        <td id=\"T_e82e7_row17_col3\" class=\"data row17 col3\" >0.086011</td>\n",
       "                        <td id=\"T_e82e7_row17_col4\" class=\"data row17 col4\" >0.077289</td>\n",
       "                        <td id=\"T_e82e7_row17_col5\" class=\"data row17 col5\" >0.029513</td>\n",
       "                        <td id=\"T_e82e7_row17_col6\" class=\"data row17 col6\" >0.090336</td>\n",
       "                        <td id=\"T_e82e7_row17_col7\" class=\"data row17 col7\" >0.195272</td>\n",
       "                        <td id=\"T_e82e7_row17_col8\" class=\"data row17 col8\" >0.398662</td>\n",
       "                        <td id=\"T_e82e7_row17_col9\" class=\"data row17 col9\" >0.509828</td>\n",
       "                        <td id=\"T_e82e7_row17_col10\" class=\"data row17 col10\" >0.049247</td>\n",
       "                        <td id=\"T_e82e7_row17_col11\" class=\"data row17 col11\" >0.156322</td>\n",
       "                        <td id=\"T_e82e7_row17_col12\" class=\"data row17 col12\" >0.238388</td>\n",
       "                        <td id=\"T_e82e7_row17_col13\" class=\"data row17 col13\" >0.142943</td>\n",
       "                        <td id=\"T_e82e7_row17_col14\" class=\"data row17 col14\" >0.038797</td>\n",
       "                        <td id=\"T_e82e7_row17_col15\" class=\"data row17 col15\" >0.010521</td>\n",
       "                        <td id=\"T_e82e7_row17_col16\" class=\"data row17 col16\" >0.015134</td>\n",
       "                        <td id=\"T_e82e7_row17_col17\" class=\"data row17 col17\" >1.000000</td>\n",
       "                        <td id=\"T_e82e7_row17_col18\" class=\"data row17 col18\" >0.034361</td>\n",
       "                        <td id=\"T_e82e7_row17_col19\" class=\"data row17 col19\" >0.070493</td>\n",
       "                        <td id=\"T_e82e7_row17_col20\" class=\"data row17 col20\" >0.145361</td>\n",
       "                        <td id=\"T_e82e7_row17_col21\" class=\"data row17 col21\" >0.108232</td>\n",
       "                        <td id=\"T_e82e7_row17_col22\" class=\"data row17 col22\" >0.116544</td>\n",
       "                        <td id=\"T_e82e7_row17_col23\" class=\"data row17 col23\" >0.065596</td>\n",
       "                        <td id=\"T_e82e7_row17_col24\" class=\"data row17 col24\" >1.000000</td>\n",
       "                        <td id=\"T_e82e7_row17_col25\" class=\"data row17 col25\" >1.000000</td>\n",
       "                        <td id=\"T_e82e7_row17_col26\" class=\"data row17 col26\" >0.166266</td>\n",
       "                        <td id=\"T_e82e7_row17_col27\" class=\"data row17 col27\" >0.146910</td>\n",
       "            </tr>\n",
       "            <tr>\n",
       "                        <th id=\"T_e82e7_level0_row18\" class=\"row_heading level0 row18\" >booking_changes</th>\n",
       "                        <td id=\"T_e82e7_row18_col0\" class=\"data row18 col0\" >0.094789</td>\n",
       "                        <td id=\"T_e82e7_row18_col1\" class=\"data row18 col1\" >0.050610</td>\n",
       "                        <td id=\"T_e82e7_row18_col2\" class=\"data row18 col2\" >0.023071</td>\n",
       "                        <td id=\"T_e82e7_row18_col3\" class=\"data row18 col3\" >0.030726</td>\n",
       "                        <td id=\"T_e82e7_row18_col4\" class=\"data row18 col4\" >0.032631</td>\n",
       "                        <td id=\"T_e82e7_row18_col5\" class=\"data row18 col5\" >0.029912</td>\n",
       "                        <td id=\"T_e82e7_row18_col6\" class=\"data row18 col6\" >0.020625</td>\n",
       "                        <td id=\"T_e82e7_row18_col7\" class=\"data row18 col7\" >0.050756</td>\n",
       "                        <td id=\"T_e82e7_row18_col8\" class=\"data row18 col8\" >0.054569</td>\n",
       "                        <td id=\"T_e82e7_row18_col9\" class=\"data row18 col9\" >0.048517</td>\n",
       "                        <td id=\"T_e82e7_row18_col10\" class=\"data row18 col10\" >0.058082</td>\n",
       "                        <td id=\"T_e82e7_row18_col11\" class=\"data row18 col11\" >0.000000</td>\n",
       "                        <td id=\"T_e82e7_row18_col12\" class=\"data row18 col12\" >0.088938</td>\n",
       "                        <td id=\"T_e82e7_row18_col13\" class=\"data row18 col13\" >0.068068</td>\n",
       "                        <td id=\"T_e82e7_row18_col14\" class=\"data row18 col14\" >0.000000</td>\n",
       "                        <td id=\"T_e82e7_row18_col15\" class=\"data row18 col15\" >0.000000</td>\n",
       "                        <td id=\"T_e82e7_row18_col16\" class=\"data row18 col16\" >0.000000</td>\n",
       "                        <td id=\"T_e82e7_row18_col17\" class=\"data row18 col17\" >0.034361</td>\n",
       "                        <td id=\"T_e82e7_row18_col18\" class=\"data row18 col18\" >1.000000</td>\n",
       "                        <td id=\"T_e82e7_row18_col19\" class=\"data row18 col19\" >0.000000</td>\n",
       "                        <td id=\"T_e82e7_row18_col20\" class=\"data row18 col20\" >0.056027</td>\n",
       "                        <td id=\"T_e82e7_row18_col21\" class=\"data row18 col21\" >0.054224</td>\n",
       "                        <td id=\"T_e82e7_row18_col22\" class=\"data row18 col22\" >0.044930</td>\n",
       "                        <td id=\"T_e82e7_row18_col23\" class=\"data row18 col23\" >0.015830</td>\n",
       "                        <td id=\"T_e82e7_row18_col24\" class=\"data row18 col24\" >0.046570</td>\n",
       "                        <td id=\"T_e82e7_row18_col25\" class=\"data row18 col25\" >0.040619</td>\n",
       "                        <td id=\"T_e82e7_row18_col26\" class=\"data row18 col26\" >0.092955</td>\n",
       "                        <td id=\"T_e82e7_row18_col27\" class=\"data row18 col27\" >0.091576</td>\n",
       "            </tr>\n",
       "            <tr>\n",
       "                        <th id=\"T_e82e7_level0_row19\" class=\"row_heading level0 row19\" >days_in_waiting_list</th>\n",
       "                        <td id=\"T_e82e7_row19_col0\" class=\"data row19 col0\" >0.141788</td>\n",
       "                        <td id=\"T_e82e7_row19_col1\" class=\"data row19 col1\" >0.333350</td>\n",
       "                        <td id=\"T_e82e7_row19_col2\" class=\"data row19 col2\" >0.163797</td>\n",
       "                        <td id=\"T_e82e7_row19_col3\" class=\"data row19 col3\" >0.153563</td>\n",
       "                        <td id=\"T_e82e7_row19_col4\" class=\"data row19 col4\" >0.199883</td>\n",
       "                        <td id=\"T_e82e7_row19_col5\" class=\"data row19 col5\" >0.157245</td>\n",
       "                        <td id=\"T_e82e7_row19_col6\" class=\"data row19 col6\" >0.101198</td>\n",
       "                        <td id=\"T_e82e7_row19_col7\" class=\"data row19 col7\" >0.095412</td>\n",
       "                        <td id=\"T_e82e7_row19_col8\" class=\"data row19 col8\" >0.070260</td>\n",
       "                        <td id=\"T_e82e7_row19_col9\" class=\"data row19 col9\" >0.036379</td>\n",
       "                        <td id=\"T_e82e7_row19_col10\" class=\"data row19 col10\" >0.000000</td>\n",
       "                        <td id=\"T_e82e7_row19_col11\" class=\"data row19 col11\" >0.143167</td>\n",
       "                        <td id=\"T_e82e7_row19_col12\" class=\"data row19 col12\" >0.359174</td>\n",
       "                        <td id=\"T_e82e7_row19_col13\" class=\"data row19 col13\" >0.062644</td>\n",
       "                        <td id=\"T_e82e7_row19_col14\" class=\"data row19 col14\" >0.030834</td>\n",
       "                        <td id=\"T_e82e7_row19_col15\" class=\"data row19 col15\" >0.062770</td>\n",
       "                        <td id=\"T_e82e7_row19_col16\" class=\"data row19 col16\" >0.012011</td>\n",
       "                        <td id=\"T_e82e7_row19_col17\" class=\"data row19 col17\" >0.070493</td>\n",
       "                        <td id=\"T_e82e7_row19_col18\" class=\"data row19 col18\" >0.000000</td>\n",
       "                        <td id=\"T_e82e7_row19_col19\" class=\"data row19 col19\" >1.000000</td>\n",
       "                        <td id=\"T_e82e7_row19_col20\" class=\"data row19 col20\" >0.132903</td>\n",
       "                        <td id=\"T_e82e7_row19_col21\" class=\"data row19 col21\" >0.076392</td>\n",
       "                        <td id=\"T_e82e7_row19_col22\" class=\"data row19 col22\" >0.099782</td>\n",
       "                        <td id=\"T_e82e7_row19_col23\" class=\"data row19 col23\" >0.087761</td>\n",
       "                        <td id=\"T_e82e7_row19_col24\" class=\"data row19 col24\" >0.103978</td>\n",
       "                        <td id=\"T_e82e7_row19_col25\" class=\"data row19 col25\" >0.029816</td>\n",
       "                        <td id=\"T_e82e7_row19_col26\" class=\"data row19 col26\" >0.114393</td>\n",
       "                        <td id=\"T_e82e7_row19_col27\" class=\"data row19 col27\" >0.150719</td>\n",
       "            </tr>\n",
       "            <tr>\n",
       "                        <th id=\"T_e82e7_level0_row20\" class=\"row_heading level0 row20\" >customer_type</th>\n",
       "                        <td id=\"T_e82e7_row20_col0\" class=\"data row20 col0\" >0.191686</td>\n",
       "                        <td id=\"T_e82e7_row20_col1\" class=\"data row20 col1\" >0.210551</td>\n",
       "                        <td id=\"T_e82e7_row20_col2\" class=\"data row20 col2\" >0.139025</td>\n",
       "                        <td id=\"T_e82e7_row20_col3\" class=\"data row20 col3\" >0.231308</td>\n",
       "                        <td id=\"T_e82e7_row20_col4\" class=\"data row20 col4\" >0.190374</td>\n",
       "                        <td id=\"T_e82e7_row20_col5\" class=\"data row20 col5\" >0.054261</td>\n",
       "                        <td id=\"T_e82e7_row20_col6\" class=\"data row20 col6\" >0.052255</td>\n",
       "                        <td id=\"T_e82e7_row20_col7\" class=\"data row20 col7\" >0.114358</td>\n",
       "                        <td id=\"T_e82e7_row20_col8\" class=\"data row20 col8\" >0.101910</td>\n",
       "                        <td id=\"T_e82e7_row20_col9\" class=\"data row20 col9\" >0.127054</td>\n",
       "                        <td id=\"T_e82e7_row20_col10\" class=\"data row20 col10\" >0.016285</td>\n",
       "                        <td id=\"T_e82e7_row20_col11\" class=\"data row20 col11\" >0.183321</td>\n",
       "                        <td id=\"T_e82e7_row20_col12\" class=\"data row20 col12\" >0.205878</td>\n",
       "                        <td id=\"T_e82e7_row20_col13\" class=\"data row20 col13\" >0.183886</td>\n",
       "                        <td id=\"T_e82e7_row20_col14\" class=\"data row20 col14\" >0.157699</td>\n",
       "                        <td id=\"T_e82e7_row20_col15\" class=\"data row20 col15\" >0.016467</td>\n",
       "                        <td id=\"T_e82e7_row20_col16\" class=\"data row20 col16\" >0.021149</td>\n",
       "                        <td id=\"T_e82e7_row20_col17\" class=\"data row20 col17\" >0.145361</td>\n",
       "                        <td id=\"T_e82e7_row20_col18\" class=\"data row20 col18\" >0.056027</td>\n",
       "                        <td id=\"T_e82e7_row20_col19\" class=\"data row20 col19\" >0.132903</td>\n",
       "                        <td id=\"T_e82e7_row20_col20\" class=\"data row20 col20\" >1.000000</td>\n",
       "                        <td id=\"T_e82e7_row20_col21\" class=\"data row20 col21\" >0.045823</td>\n",
       "                        <td id=\"T_e82e7_row20_col22\" class=\"data row20 col22\" >0.167087</td>\n",
       "                        <td id=\"T_e82e7_row20_col23\" class=\"data row20 col23\" >0.058849</td>\n",
       "                        <td id=\"T_e82e7_row20_col24\" class=\"data row20 col24\" >0.120196</td>\n",
       "                        <td id=\"T_e82e7_row20_col25\" class=\"data row20 col25\" >0.033908</td>\n",
       "                        <td id=\"T_e82e7_row20_col26\" class=\"data row20 col26\" >0.187918</td>\n",
       "                        <td id=\"T_e82e7_row20_col27\" class=\"data row20 col27\" >0.201221</td>\n",
       "            </tr>\n",
       "            <tr>\n",
       "                        <th id=\"T_e82e7_level0_row21\" class=\"row_heading level0 row21\" >required_car_parking_spaces</th>\n",
       "                        <td id=\"T_e82e7_row21_col0\" class=\"data row21 col0\" >0.149562</td>\n",
       "                        <td id=\"T_e82e7_row21_col1\" class=\"data row21 col1\" >0.154367</td>\n",
       "                        <td id=\"T_e82e7_row21_col2\" class=\"data row21 col2\" >0.023230</td>\n",
       "                        <td id=\"T_e82e7_row21_col3\" class=\"data row21 col3\" >0.033146</td>\n",
       "                        <td id=\"T_e82e7_row21_col4\" class=\"data row21 col4\" >0.039909</td>\n",
       "                        <td id=\"T_e82e7_row21_col5\" class=\"data row21 col5\" >0.016801</td>\n",
       "                        <td id=\"T_e82e7_row21_col6\" class=\"data row21 col6\" >0.027361</td>\n",
       "                        <td id=\"T_e82e7_row21_col7\" class=\"data row21 col7\" >0.043890</td>\n",
       "                        <td id=\"T_e82e7_row21_col8\" class=\"data row21 col8\" >0.013277</td>\n",
       "                        <td id=\"T_e82e7_row21_col9\" class=\"data row21 col9\" >0.030301</td>\n",
       "                        <td id=\"T_e82e7_row21_col10\" class=\"data row21 col10\" >0.049147</td>\n",
       "                        <td id=\"T_e82e7_row21_col11\" class=\"data row21 col11\" >0.068767</td>\n",
       "                        <td id=\"T_e82e7_row21_col12\" class=\"data row21 col12\" >0.090233</td>\n",
       "                        <td id=\"T_e82e7_row21_col13\" class=\"data row21 col13\" >0.097186</td>\n",
       "                        <td id=\"T_e82e7_row21_col14\" class=\"data row21 col14\" >0.072967</td>\n",
       "                        <td id=\"T_e82e7_row21_col15\" class=\"data row21 col15\" >0.000000</td>\n",
       "                        <td id=\"T_e82e7_row21_col16\" class=\"data row21 col16\" >0.058494</td>\n",
       "                        <td id=\"T_e82e7_row21_col17\" class=\"data row21 col17\" >0.108232</td>\n",
       "                        <td id=\"T_e82e7_row21_col18\" class=\"data row21 col18\" >0.054224</td>\n",
       "                        <td id=\"T_e82e7_row21_col19\" class=\"data row21 col19\" >0.076392</td>\n",
       "                        <td id=\"T_e82e7_row21_col20\" class=\"data row21 col20\" >0.045823</td>\n",
       "                        <td id=\"T_e82e7_row21_col21\" class=\"data row21 col21\" >1.000000</td>\n",
       "                        <td id=\"T_e82e7_row21_col22\" class=\"data row21 col22\" >0.062758</td>\n",
       "                        <td id=\"T_e82e7_row21_col23\" class=\"data row21 col23\" >0.025792</td>\n",
       "                        <td id=\"T_e82e7_row21_col24\" class=\"data row21 col24\" >0.148934</td>\n",
       "                        <td id=\"T_e82e7_row21_col25\" class=\"data row21 col25\" >0.044103</td>\n",
       "                        <td id=\"T_e82e7_row21_col26\" class=\"data row21 col26\" >0.100211</td>\n",
       "                        <td id=\"T_e82e7_row21_col27\" class=\"data row21 col27\" >0.227027</td>\n",
       "            </tr>\n",
       "            <tr>\n",
       "                        <th id=\"T_e82e7_level0_row22\" class=\"row_heading level0 row22\" >total_of_special_requests</th>\n",
       "                        <td id=\"T_e82e7_row22_col0\" class=\"data row22 col0\" >0.378048</td>\n",
       "                        <td id=\"T_e82e7_row22_col1\" class=\"data row22 col1\" >0.112132</td>\n",
       "                        <td id=\"T_e82e7_row22_col2\" class=\"data row22 col2\" >0.090733</td>\n",
       "                        <td id=\"T_e82e7_row22_col3\" class=\"data row22 col3\" >0.113762</td>\n",
       "                        <td id=\"T_e82e7_row22_col4\" class=\"data row22 col4\" >0.090594</td>\n",
       "                        <td id=\"T_e82e7_row22_col5\" class=\"data row22 col5\" >0.029785</td>\n",
       "                        <td id=\"T_e82e7_row22_col6\" class=\"data row22 col6\" >0.055540</td>\n",
       "                        <td id=\"T_e82e7_row22_col7\" class=\"data row22 col7\" >0.068073</td>\n",
       "                        <td id=\"T_e82e7_row22_col8\" class=\"data row22 col8\" >0.131220</td>\n",
       "                        <td id=\"T_e82e7_row22_col9\" class=\"data row22 col9\" >0.116460</td>\n",
       "                        <td id=\"T_e82e7_row22_col10\" class=\"data row22 col10\" >0.093073</td>\n",
       "                        <td id=\"T_e82e7_row22_col11\" class=\"data row22 col11\" >0.105496</td>\n",
       "                        <td id=\"T_e82e7_row22_col12\" class=\"data row22 col12\" >0.299777</td>\n",
       "                        <td id=\"T_e82e7_row22_col13\" class=\"data row22 col13\" >0.123873</td>\n",
       "                        <td id=\"T_e82e7_row22_col14\" class=\"data row22 col14\" >0.042424</td>\n",
       "                        <td id=\"T_e82e7_row22_col15\" class=\"data row22 col15\" >0.040303</td>\n",
       "                        <td id=\"T_e82e7_row22_col16\" class=\"data row22 col16\" >0.044413</td>\n",
       "                        <td id=\"T_e82e7_row22_col17\" class=\"data row22 col17\" >0.116544</td>\n",
       "                        <td id=\"T_e82e7_row22_col18\" class=\"data row22 col18\" >0.044930</td>\n",
       "                        <td id=\"T_e82e7_row22_col19\" class=\"data row22 col19\" >0.099782</td>\n",
       "                        <td id=\"T_e82e7_row22_col20\" class=\"data row22 col20\" >0.167087</td>\n",
       "                        <td id=\"T_e82e7_row22_col21\" class=\"data row22 col21\" >0.062758</td>\n",
       "                        <td id=\"T_e82e7_row22_col22\" class=\"data row22 col22\" >1.000000</td>\n",
       "                        <td id=\"T_e82e7_row22_col23\" class=\"data row22 col23\" >0.114758</td>\n",
       "                        <td id=\"T_e82e7_row22_col24\" class=\"data row22 col24\" >0.114691</td>\n",
       "                        <td id=\"T_e82e7_row22_col25\" class=\"data row22 col25\" >0.073163</td>\n",
       "                        <td id=\"T_e82e7_row22_col26\" class=\"data row22 col26\" >0.201359</td>\n",
       "                        <td id=\"T_e82e7_row22_col27\" class=\"data row22 col27\" >0.225863</td>\n",
       "            </tr>\n",
       "            <tr>\n",
       "                        <th id=\"T_e82e7_level0_row23\" class=\"row_heading level0 row23\" >season_coef</th>\n",
       "                        <td id=\"T_e82e7_row23_col0\" class=\"data row23 col0\" >0.026779</td>\n",
       "                        <td id=\"T_e82e7_row23_col1\" class=\"data row23 col1\" >0.339079</td>\n",
       "                        <td id=\"T_e82e7_row23_col2\" class=\"data row23 col2\" >0.077120</td>\n",
       "                        <td id=\"T_e82e7_row23_col3\" class=\"data row23 col3\" >1.000000</td>\n",
       "                        <td id=\"T_e82e7_row23_col4\" class=\"data row23 col4\" >0.911568</td>\n",
       "                        <td id=\"T_e82e7_row23_col5\" class=\"data row23 col5\" >0.088705</td>\n",
       "                        <td id=\"T_e82e7_row23_col6\" class=\"data row23 col6\" >0.054221</td>\n",
       "                        <td id=\"T_e82e7_row23_col7\" class=\"data row23 col7\" >0.109450</td>\n",
       "                        <td id=\"T_e82e7_row23_col8\" class=\"data row23 col8\" >0.118893</td>\n",
       "                        <td id=\"T_e82e7_row23_col9\" class=\"data row23 col9\" >0.061452</td>\n",
       "                        <td id=\"T_e82e7_row23_col10\" class=\"data row23 col10\" >0.015749</td>\n",
       "                        <td id=\"T_e82e7_row23_col11\" class=\"data row23 col11\" >0.108491</td>\n",
       "                        <td id=\"T_e82e7_row23_col12\" class=\"data row23 col12\" >0.238945</td>\n",
       "                        <td id=\"T_e82e7_row23_col13\" class=\"data row23 col13\" >0.058981</td>\n",
       "                        <td id=\"T_e82e7_row23_col14\" class=\"data row23 col14\" >0.033459</td>\n",
       "                        <td id=\"T_e82e7_row23_col15\" class=\"data row23 col15\" >0.044089</td>\n",
       "                        <td id=\"T_e82e7_row23_col16\" class=\"data row23 col16\" >0.037387</td>\n",
       "                        <td id=\"T_e82e7_row23_col17\" class=\"data row23 col17\" >0.065596</td>\n",
       "                        <td id=\"T_e82e7_row23_col18\" class=\"data row23 col18\" >0.015830</td>\n",
       "                        <td id=\"T_e82e7_row23_col19\" class=\"data row23 col19\" >0.087761</td>\n",
       "                        <td id=\"T_e82e7_row23_col20\" class=\"data row23 col20\" >0.058849</td>\n",
       "                        <td id=\"T_e82e7_row23_col21\" class=\"data row23 col21\" >0.025792</td>\n",
       "                        <td id=\"T_e82e7_row23_col22\" class=\"data row23 col22\" >0.114758</td>\n",
       "                        <td id=\"T_e82e7_row23_col23\" class=\"data row23 col23\" >1.000000</td>\n",
       "                        <td id=\"T_e82e7_row23_col24\" class=\"data row23 col24\" >0.052573</td>\n",
       "                        <td id=\"T_e82e7_row23_col25\" class=\"data row23 col25\" >0.023443</td>\n",
       "                        <td id=\"T_e82e7_row23_col26\" class=\"data row23 col26\" >0.221220</td>\n",
       "                        <td id=\"T_e82e7_row23_col27\" class=\"data row23 col27\" >0.409960</td>\n",
       "            </tr>\n",
       "            <tr>\n",
       "                        <th id=\"T_e82e7_level0_row24\" class=\"row_heading level0 row24\" >room_price</th>\n",
       "                        <td id=\"T_e82e7_row24_col0\" class=\"data row24 col0\" >0.058949</td>\n",
       "                        <td id=\"T_e82e7_row24_col1\" class=\"data row24 col1\" >0.148129</td>\n",
       "                        <td id=\"T_e82e7_row24_col2\" class=\"data row24 col2\" >0.046624</td>\n",
       "                        <td id=\"T_e82e7_row24_col3\" class=\"data row24 col3\" >0.088317</td>\n",
       "                        <td id=\"T_e82e7_row24_col4\" class=\"data row24 col4\" >0.109750</td>\n",
       "                        <td id=\"T_e82e7_row24_col5\" class=\"data row24 col5\" >0.039219</td>\n",
       "                        <td id=\"T_e82e7_row24_col6\" class=\"data row24 col6\" >0.149430</td>\n",
       "                        <td id=\"T_e82e7_row24_col7\" class=\"data row24 col7\" >0.128269</td>\n",
       "                        <td id=\"T_e82e7_row24_col8\" class=\"data row24 col8\" >0.603996</td>\n",
       "                        <td id=\"T_e82e7_row24_col9\" class=\"data row24 col9\" >0.389956</td>\n",
       "                        <td id=\"T_e82e7_row24_col10\" class=\"data row24 col10\" >0.039931</td>\n",
       "                        <td id=\"T_e82e7_row24_col11\" class=\"data row24 col11\" >0.255977</td>\n",
       "                        <td id=\"T_e82e7_row24_col12\" class=\"data row24 col12\" >0.244405</td>\n",
       "                        <td id=\"T_e82e7_row24_col13\" class=\"data row24 col13\" >0.113616</td>\n",
       "                        <td id=\"T_e82e7_row24_col14\" class=\"data row24 col14\" >0.032889</td>\n",
       "                        <td id=\"T_e82e7_row24_col15\" class=\"data row24 col15\" >0.014341</td>\n",
       "                        <td id=\"T_e82e7_row24_col16\" class=\"data row24 col16\" >0.026630</td>\n",
       "                        <td id=\"T_e82e7_row24_col17\" class=\"data row24 col17\" >1.000000</td>\n",
       "                        <td id=\"T_e82e7_row24_col18\" class=\"data row24 col18\" >0.046570</td>\n",
       "                        <td id=\"T_e82e7_row24_col19\" class=\"data row24 col19\" >0.103978</td>\n",
       "                        <td id=\"T_e82e7_row24_col20\" class=\"data row24 col20\" >0.120196</td>\n",
       "                        <td id=\"T_e82e7_row24_col21\" class=\"data row24 col21\" >0.148934</td>\n",
       "                        <td id=\"T_e82e7_row24_col22\" class=\"data row24 col22\" >0.114691</td>\n",
       "                        <td id=\"T_e82e7_row24_col23\" class=\"data row24 col23\" >0.052573</td>\n",
       "                        <td id=\"T_e82e7_row24_col24\" class=\"data row24 col24\" >1.000000</td>\n",
       "                        <td id=\"T_e82e7_row24_col25\" class=\"data row24 col25\" >1.000000</td>\n",
       "                        <td id=\"T_e82e7_row24_col26\" class=\"data row24 col26\" >0.237241</td>\n",
       "                        <td id=\"T_e82e7_row24_col27\" class=\"data row24 col27\" >0.202862</td>\n",
       "            </tr>\n",
       "            <tr>\n",
       "                        <th id=\"T_e82e7_level0_row25\" class=\"row_heading level0 row25\" >service_price</th>\n",
       "                        <td id=\"T_e82e7_row25_col0\" class=\"data row25 col0\" >0.031911</td>\n",
       "                        <td id=\"T_e82e7_row25_col1\" class=\"data row25 col1\" >0.032034</td>\n",
       "                        <td id=\"T_e82e7_row25_col2\" class=\"data row25 col2\" >0.027946</td>\n",
       "                        <td id=\"T_e82e7_row25_col3\" class=\"data row25 col3\" >0.067944</td>\n",
       "                        <td id=\"T_e82e7_row25_col4\" class=\"data row25 col4\" >0.070115</td>\n",
       "                        <td id=\"T_e82e7_row25_col5\" class=\"data row25 col5\" >0.016730</td>\n",
       "                        <td id=\"T_e82e7_row25_col6\" class=\"data row25 col6\" >0.029466</td>\n",
       "                        <td id=\"T_e82e7_row25_col7\" class=\"data row25 col7\" >0.038238</td>\n",
       "                        <td id=\"T_e82e7_row25_col8\" class=\"data row25 col8\" >0.289748</td>\n",
       "                        <td id=\"T_e82e7_row25_col9\" class=\"data row25 col9\" >0.727380</td>\n",
       "                        <td id=\"T_e82e7_row25_col10\" class=\"data row25 col10\" >0.061810</td>\n",
       "                        <td id=\"T_e82e7_row25_col11\" class=\"data row25 col11\" >0.043821</td>\n",
       "                        <td id=\"T_e82e7_row25_col12\" class=\"data row25 col12\" >0.082481</td>\n",
       "                        <td id=\"T_e82e7_row25_col13\" class=\"data row25 col13\" >0.123499</td>\n",
       "                        <td id=\"T_e82e7_row25_col14\" class=\"data row25 col14\" >0.022048</td>\n",
       "                        <td id=\"T_e82e7_row25_col15\" class=\"data row25 col15\" >0.000000</td>\n",
       "                        <td id=\"T_e82e7_row25_col16\" class=\"data row25 col16\" >0.000000</td>\n",
       "                        <td id=\"T_e82e7_row25_col17\" class=\"data row25 col17\" >1.000000</td>\n",
       "                        <td id=\"T_e82e7_row25_col18\" class=\"data row25 col18\" >0.040619</td>\n",
       "                        <td id=\"T_e82e7_row25_col19\" class=\"data row25 col19\" >0.029816</td>\n",
       "                        <td id=\"T_e82e7_row25_col20\" class=\"data row25 col20\" >0.033908</td>\n",
       "                        <td id=\"T_e82e7_row25_col21\" class=\"data row25 col21\" >0.044103</td>\n",
       "                        <td id=\"T_e82e7_row25_col22\" class=\"data row25 col22\" >0.073163</td>\n",
       "                        <td id=\"T_e82e7_row25_col23\" class=\"data row25 col23\" >0.023443</td>\n",
       "                        <td id=\"T_e82e7_row25_col24\" class=\"data row25 col24\" >1.000000</td>\n",
       "                        <td id=\"T_e82e7_row25_col25\" class=\"data row25 col25\" >1.000000</td>\n",
       "                        <td id=\"T_e82e7_row25_col26\" class=\"data row25 col26\" >0.049284</td>\n",
       "                        <td id=\"T_e82e7_row25_col27\" class=\"data row25 col27\" >0.039055</td>\n",
       "            </tr>\n",
       "            <tr>\n",
       "                        <th id=\"T_e82e7_level0_row26\" class=\"row_heading level0 row26\" >revenue</th>\n",
       "                        <td id=\"T_e82e7_row26_col0\" class=\"data row26 col0\" >0.890794</td>\n",
       "                        <td id=\"T_e82e7_row26_col1\" class=\"data row26 col1\" >0.208344</td>\n",
       "                        <td id=\"T_e82e7_row26_col2\" class=\"data row26 col2\" >0.027739</td>\n",
       "                        <td id=\"T_e82e7_row26_col3\" class=\"data row26 col3\" >0.161402</td>\n",
       "                        <td id=\"T_e82e7_row26_col4\" class=\"data row26 col4\" >0.199711</td>\n",
       "                        <td id=\"T_e82e7_row26_col5\" class=\"data row26 col5\" >0.060797</td>\n",
       "                        <td id=\"T_e82e7_row26_col6\" class=\"data row26 col6\" >0.673419</td>\n",
       "                        <td id=\"T_e82e7_row26_col7\" class=\"data row26 col7\" >0.560296</td>\n",
       "                        <td id=\"T_e82e7_row26_col8\" class=\"data row26 col8\" >0.123260</td>\n",
       "                        <td id=\"T_e82e7_row26_col9\" class=\"data row26 col9\" >0.061533</td>\n",
       "                        <td id=\"T_e82e7_row26_col10\" class=\"data row26 col10\" >0.041927</td>\n",
       "                        <td id=\"T_e82e7_row26_col11\" class=\"data row26 col11\" >0.149493</td>\n",
       "                        <td id=\"T_e82e7_row26_col12\" class=\"data row26 col12\" >0.427196</td>\n",
       "                        <td id=\"T_e82e7_row26_col13\" class=\"data row26 col13\" >0.053787</td>\n",
       "                        <td id=\"T_e82e7_row26_col14\" class=\"data row26 col14\" >0.079625</td>\n",
       "                        <td id=\"T_e82e7_row26_col15\" class=\"data row26 col15\" >0.019228</td>\n",
       "                        <td id=\"T_e82e7_row26_col16\" class=\"data row26 col16\" >0.027321</td>\n",
       "                        <td id=\"T_e82e7_row26_col17\" class=\"data row26 col17\" >0.166266</td>\n",
       "                        <td id=\"T_e82e7_row26_col18\" class=\"data row26 col18\" >0.092955</td>\n",
       "                        <td id=\"T_e82e7_row26_col19\" class=\"data row26 col19\" >0.114393</td>\n",
       "                        <td id=\"T_e82e7_row26_col20\" class=\"data row26 col20\" >0.187918</td>\n",
       "                        <td id=\"T_e82e7_row26_col21\" class=\"data row26 col21\" >0.100211</td>\n",
       "                        <td id=\"T_e82e7_row26_col22\" class=\"data row26 col22\" >0.201359</td>\n",
       "                        <td id=\"T_e82e7_row26_col23\" class=\"data row26 col23\" >0.221220</td>\n",
       "                        <td id=\"T_e82e7_row26_col24\" class=\"data row26 col24\" >0.237241</td>\n",
       "                        <td id=\"T_e82e7_row26_col25\" class=\"data row26 col25\" >0.049284</td>\n",
       "                        <td id=\"T_e82e7_row26_col26\" class=\"data row26 col26\" >1.000000</td>\n",
       "                        <td id=\"T_e82e7_row26_col27\" class=\"data row26 col27\" >0.989339</td>\n",
       "            </tr>\n",
       "            <tr>\n",
       "                        <th id=\"T_e82e7_level0_row27\" class=\"row_heading level0 row27\" >profit</th>\n",
       "                        <td id=\"T_e82e7_row27_col0\" class=\"data row27 col0\" >1.000000</td>\n",
       "                        <td id=\"T_e82e7_row27_col1\" class=\"data row27 col1\" >0.429991</td>\n",
       "                        <td id=\"T_e82e7_row27_col2\" class=\"data row27 col2\" >0.058213</td>\n",
       "                        <td id=\"T_e82e7_row27_col3\" class=\"data row27 col3\" >0.303414</td>\n",
       "                        <td id=\"T_e82e7_row27_col4\" class=\"data row27 col4\" >0.365685</td>\n",
       "                        <td id=\"T_e82e7_row27_col5\" class=\"data row27 col5\" >0.054809</td>\n",
       "                        <td id=\"T_e82e7_row27_col6\" class=\"data row27 col6\" >0.658752</td>\n",
       "                        <td id=\"T_e82e7_row27_col7\" class=\"data row27 col7\" >0.632899</td>\n",
       "                        <td id=\"T_e82e7_row27_col8\" class=\"data row27 col8\" >0.237642</td>\n",
       "                        <td id=\"T_e82e7_row27_col9\" class=\"data row27 col9\" >0.075572</td>\n",
       "                        <td id=\"T_e82e7_row27_col10\" class=\"data row27 col10\" >0.051308</td>\n",
       "                        <td id=\"T_e82e7_row27_col11\" class=\"data row27 col11\" >0.164101</td>\n",
       "                        <td id=\"T_e82e7_row27_col12\" class=\"data row27 col12\" >0.438678</td>\n",
       "                        <td id=\"T_e82e7_row27_col13\" class=\"data row27 col13\" >0.235819</td>\n",
       "                        <td id=\"T_e82e7_row27_col14\" class=\"data row27 col14\" >0.227152</td>\n",
       "                        <td id=\"T_e82e7_row27_col15\" class=\"data row27 col15\" >0.038201</td>\n",
       "                        <td id=\"T_e82e7_row27_col16\" class=\"data row27 col16\" >0.076403</td>\n",
       "                        <td id=\"T_e82e7_row27_col17\" class=\"data row27 col17\" >0.146910</td>\n",
       "                        <td id=\"T_e82e7_row27_col18\" class=\"data row27 col18\" >0.091576</td>\n",
       "                        <td id=\"T_e82e7_row27_col19\" class=\"data row27 col19\" >0.150719</td>\n",
       "                        <td id=\"T_e82e7_row27_col20\" class=\"data row27 col20\" >0.201221</td>\n",
       "                        <td id=\"T_e82e7_row27_col21\" class=\"data row27 col21\" >0.227027</td>\n",
       "                        <td id=\"T_e82e7_row27_col22\" class=\"data row27 col22\" >0.225863</td>\n",
       "                        <td id=\"T_e82e7_row27_col23\" class=\"data row27 col23\" >0.409960</td>\n",
       "                        <td id=\"T_e82e7_row27_col24\" class=\"data row27 col24\" >0.202862</td>\n",
       "                        <td id=\"T_e82e7_row27_col25\" class=\"data row27 col25\" >0.039055</td>\n",
       "                        <td id=\"T_e82e7_row27_col26\" class=\"data row27 col26\" >0.989339</td>\n",
       "                        <td id=\"T_e82e7_row27_col27\" class=\"data row27 col27\" >1.000000</td>\n",
       "            </tr>\n",
       "    </tbody></table>"
      ],
      "text/plain": [
       "<pandas.io.formats.style.Styler at 0x7f77e02a5be0>"
      ]
     },
     "execution_count": 18,
     "metadata": {},
     "output_type": "execute_result"
    }
   ],
   "source": [
    "%%time\n",
    "# Коэффициент корреляции Спирмена \n",
    "import phik\n",
    "data.phik_matrix().style.background_gradient('coolwarm')"
   ]
  },
  {
   "cell_type": "markdown",
   "metadata": {},
   "source": [
    "<div class=\"alert alert-info\">\n",
    "    <font size=\"4\", color = \"black\"> Действительно, появились категориальные параметры, сразу можно заметить связь отмены со страной. Буду пользоваться этим коэффициентом </font>\n",
    "    <br /> \n",
    "    <font size=\"3\", color = \"black\">\n",
    "<br /> \n",
    "        "
   ]
  },
  {
   "cell_type": "markdown",
   "metadata": {},
   "source": [
    "<hr style=\"border: 2px solid blue;\">"
   ]
  },
  {
   "cell_type": "markdown",
   "metadata": {},
   "source": [
    "Выводы:\n",
    "1. Сильная линейная связь между выручкой и прибылью с клиента (не самый интересный факт, ввиду очевидности)\n",
    "2. Средняя связь между прибылью и количеством дней в номере (тоже предсказумое)\n",
    "3. Есть средняя связь между повторным бронированием и тем, что гость не отменял предыдущее бронирование"
   ]
  },
  {
   "cell_type": "markdown",
   "metadata": {},
   "source": [
    "### Типы данных"
   ]
  },
  {
   "cell_type": "markdown",
   "metadata": {},
   "source": [
    "Приведем данные к логичному типу"
   ]
  },
  {
   "cell_type": "code",
   "execution_count": 19,
   "metadata": {},
   "outputs": [],
   "source": [
    "data.loc[:, ['adults', 'children', 'babies']] = data.loc[:, ['adults', 'children', 'babies']].astype('int')\n"
   ]
  },
  {
   "cell_type": "markdown",
   "metadata": {},
   "source": [
    "<div class=\"alert alert-warning\">\n",
    "    <h2> Комментарий ревьюера <a class=\"tocSkip\"> </h2>\n",
    "    \n",
    "<b>Некоторые замечания и рекомендации💡:</b> \n",
    "        \n",
    "Также можно исследовать данные на аномальные значения.\n",
    "        \n"
   ]
  },
  {
   "cell_type": "markdown",
   "metadata": {},
   "source": [
    "<div class=\"alert alert-block alert-danger\">\n",
    "<h2> Комментарий ревьюера <a class=\"tocSkip\"></h2>\n",
    "\n",
    "    \n",
    "<b>На доработку🤔:</b>\n",
    "        \n",
    "Кроме того стоит убрать неявные дубликаты в строковых данных.\n"
   ]
  },
  {
   "cell_type": "markdown",
   "metadata": {},
   "source": [
    "<div class=\"alert alert-info\">\n",
    "    <font size=\"4\", color = \"black\">Приступаю</font>\n",
    "    <br /> \n",
    "    <font size=\"3\", color = \"black\">\n",
    "<br />"
   ]
  },
  {
   "cell_type": "markdown",
   "metadata": {},
   "source": [
    "<hr style=\"border: 2px solid blue;\">"
   ]
  },
  {
   "cell_type": "markdown",
   "metadata": {},
   "source": [
    "### Поиск аномальных значений"
   ]
  },
  {
   "cell_type": "markdown",
   "metadata": {},
   "source": [
    "<div class=\"alert alert-info\">\n",
    "    <font size=\"4\", color = \"black\"> Внимательно посмотрел свои гистограммы по данным типа int. Аномальными показались следующие значения: <br>\n",
    "    1. 0 Взрослых <br>\n",
    "    2. 9 или 10 младенцев</font>\n",
    "    <br /> \n",
    "    <font size=\"3\", color = \"black\">\n",
    "<br /> \n",
    "        "
   ]
  },
  {
   "cell_type": "code",
   "execution_count": 20,
   "metadata": {},
   "outputs": [
    {
     "data": {
      "text/plain": [
       "array([1, 2, 3, 4, 0])"
      ]
     },
     "execution_count": 20,
     "metadata": {},
     "output_type": "execute_result"
    }
   ],
   "source": [
    "data.adults.unique()"
   ]
  },
  {
   "cell_type": "code",
   "execution_count": 21,
   "metadata": {},
   "outputs": [
    {
     "data": {
      "text/plain": [
       "array([ 0,  1,  2, 10,  9])"
      ]
     },
     "execution_count": 21,
     "metadata": {},
     "output_type": "execute_result"
    }
   ],
   "source": [
    "data.babies.unique()"
   ]
  },
  {
   "cell_type": "code",
   "execution_count": 22,
   "metadata": {},
   "outputs": [
    {
     "name": "stdout",
     "output_type": "stream",
     "text": [
      "Количесто строк, где 0 взрослых или младенцев больше 8: 237 \n",
      "Доля относительно датасета: 0.2%\n"
     ]
    }
   ],
   "source": [
    "print(f'Количесто строк, где 0 взрослых или младенцев больше 8: \\\n",
    "{len(data.loc[(data.adults  == 0) | (data.babies > 8)])} \\n\\\n",
    "Доля относительно датасета: {len(data.loc[(data.adults  == 0) | (data.babies > 8)]) / len(data):.1%}')"
   ]
  },
  {
   "cell_type": "code",
   "execution_count": 23,
   "metadata": {},
   "outputs": [],
   "source": [
    "# Удаляем данные с аномальными значениями: \n",
    "data = data.loc[~((data.adults  == 0) | (data.babies > 8))]"
   ]
  },
  {
   "cell_type": "markdown",
   "metadata": {},
   "source": [
    "### Поиск неявных дубликатов"
   ]
  },
  {
   "cell_type": "code",
   "execution_count": 24,
   "metadata": {},
   "outputs": [
    {
     "data": {
      "text/html": [
       "<div>\n",
       "<style scoped>\n",
       "    .dataframe tbody tr th:only-of-type {\n",
       "        vertical-align: middle;\n",
       "    }\n",
       "\n",
       "    .dataframe tbody tr th {\n",
       "        vertical-align: top;\n",
       "    }\n",
       "\n",
       "    .dataframe thead th {\n",
       "        text-align: right;\n",
       "    }\n",
       "</style>\n",
       "<table border=\"1\" class=\"dataframe\">\n",
       "  <thead>\n",
       "    <tr style=\"text-align: right;\">\n",
       "      <th></th>\n",
       "      <th>Количество полных дубликатов</th>\n",
       "      <th>Количество дубликатов без lead_time</th>\n",
       "    </tr>\n",
       "  </thead>\n",
       "  <tbody>\n",
       "    <tr>\n",
       "      <th>data</th>\n",
       "      <td>29088</td>\n",
       "      <td>31532</td>\n",
       "    </tr>\n",
       "    <tr>\n",
       "      <th>data_train</th>\n",
       "      <td>21377</td>\n",
       "      <td>23080</td>\n",
       "    </tr>\n",
       "    <tr>\n",
       "      <th>data_test</th>\n",
       "      <td>7717</td>\n",
       "      <td>8458</td>\n",
       "    </tr>\n",
       "  </tbody>\n",
       "</table>\n",
       "</div>"
      ],
      "text/plain": [
       "            Количество полных дубликатов  Количество дубликатов без lead_time\n",
       "data                               29088                                31532\n",
       "data_train                         21377                                23080\n",
       "data_test                           7717                                 8458"
      ]
     },
     "execution_count": 24,
     "metadata": {},
     "output_type": "execute_result"
    }
   ],
   "source": [
    "pd.DataFrame({'Количество полных дубликатов': \n",
    "              [data.duplicated().sum(),data_train.duplicated().sum(),data_test.duplicated().sum() ],\n",
    "              'Количество дубликатов без lead_time':  \\\n",
    "              [data.drop('lead_time', axis=1).duplicated().sum(),\\\n",
    "               data_train.drop('lead_time', axis=1).duplicated().sum(),\\\n",
    "               data_test.drop('lead_time', axis=1).duplicated().sum() ]}, \n",
    "             index=['data', 'data_train', 'data_test'])"
   ]
  },
  {
   "cell_type": "markdown",
   "metadata": {},
   "source": [
    "<div class=\"alert alert-info\">\n",
    "    <font size=\"4\", color = \"black\">Либо это ошибка, либо треть нашего датасета это дубликаты. Сбрасываю их</font>\n",
    "    <br /> \n",
    "    <font size=\"3\", color = \"black\">\n",
    "<br /> \n",
    "        "
   ]
  },
  {
   "cell_type": "code",
   "execution_count": 25,
   "metadata": {
    "scrolled": false
   },
   "outputs": [],
   "source": [
    "data = data.loc[~data.drop('lead_time', axis=1).duplicated(keep='first')]"
   ]
  },
  {
   "cell_type": "markdown",
   "metadata": {},
   "source": [
    "<hr style=\"border: 2px solid blue;\">"
   ]
  },
  {
   "cell_type": "markdown",
   "metadata": {},
   "source": [
    "### Распределение величин"
   ]
  },
  {
   "cell_type": "markdown",
   "metadata": {},
   "source": [
    "#### float"
   ]
  },
  {
   "cell_type": "markdown",
   "metadata": {},
   "source": [
    "Посмотрим как распределены вещественные параметры"
   ]
  },
  {
   "cell_type": "code",
   "execution_count": 26,
   "metadata": {},
   "outputs": [
    {
     "data": {
      "image/png": "[encoded data removed]",
      "text/plain": [
       "<Figure size 1224x432 with 4 Axes>"
      ]
     },
     "metadata": {
      "needs_background": "light"
     },
     "output_type": "display_data"
    }
   ],
   "source": [
    "numeric_columns = list(data.dtypes.loc[(data.dtypes == 'float64')].index)\n",
    "fig, ax = plt.subplots(2,2, figsize=(17, 6))\n",
    "for index, column in enumerate(numeric_columns):\n",
    "    data.loc[:, column].plot(kind='box', title=column, ax=ax[index //2, index % 2], vert=False)"
   ]
  },
  {
   "cell_type": "markdown",
   "metadata": {},
   "source": [
    "#### object"
   ]
  },
  {
   "cell_type": "markdown",
   "metadata": {},
   "source": [
    "Серьезных выбросов, не обнаружено\n",
    "\n",
    "Исследуем распределение категориальных  переменных "
   ]
  },
  {
   "cell_type": "code",
   "execution_count": 27,
   "metadata": {},
   "outputs": [
    {
     "data": {
      "image/png": "[encoded data removed]",
      "text/plain": [
       "<Figure size 1224x1008 with 6 Axes>"
      ]
     },
     "metadata": {
      "needs_background": "light"
     },
     "output_type": "display_data"
    }
   ],
   "source": [
    "categorical_columns = list(data.dtypes.loc[(data.dtypes == 'object')].index)\n",
    "fig, ax = plt.subplots(2,3, figsize=(17, 14))\n",
    "for index, column in enumerate(categorical_columns[:]):\n",
    "    data.loc[:, [column, 'is_canceled']]\\\n",
    "        .pivot_table(index=column, values='is_canceled', aggfunc=['count', 'sum'])\\\n",
    "            .sort_values(by=('count', 'is_canceled'), ascending=False)[:15]\\\n",
    "                .plot(kind='bar', legend=False, title=column, ax=ax[index // 3, index%3], rot=45, xlabel='')\n",
    "    ax[index // 3, index%3].legend(['Количество клиентов', 'Количество отмен'])\n"
   ]
  },
  {
   "cell_type": "markdown",
   "metadata": {},
   "source": [
    "<div class=\"alert alert-success\">\n",
    "<h2> Комментарий ревьюера <a class=\"tocSkip\"> </h2>\n",
    "\n",
    "<b>Все отлично!👍:</b> \n",
    "    \n",
    "Отлично, что анализируешь данные с точки зрения была отменена бронь или нет."
   ]
  },
  {
   "cell_type": "markdown",
   "metadata": {},
   "source": [
    "Анализируя полученные гистограммы можно сделать ряд выводов:\n",
    "1. Сезонные коэффициенты выбраны логично\n",
    "2. Наиболее популярный тип питания: BB = включен завтрак\n",
    "3. Вероятно наш отель расположен в Португалии. Так как большинство туристов именно оттуда. Также отель пользуется популярностью у других Европейских стран. Визуально кажется, что Португальцы чаще других отменяют бронирование.\n",
    "4. Чаще всего отель бронируют через турагента или туроператора (TA/ TO). Реже напрямую\n",
    "5. Наиболее популярные тип номера \"A\" - наиболее дорогой\n",
    "6. Чаще всего это бронирование не связано с договором или групповым заездом"
   ]
  },
  {
   "cell_type": "markdown",
   "metadata": {},
   "source": [
    "#### int"
   ]
  },
  {
   "cell_type": "code",
   "execution_count": 28,
   "metadata": {},
   "outputs": [
    {
     "data": {
      "image/png": "[encoded data removed]",
      "text/plain": [
       "<Figure size 1224x1800 with 18 Axes>"
      ]
     },
     "metadata": {
      "needs_background": "light"
     },
     "output_type": "display_data"
    }
   ],
   "source": [
    "int_columns = list(data.dtypes.loc[(data.dtypes == 'int64')].index)[1:]\n",
    "fig, ax = plt.subplots(len(int_columns)//3 + 1,3, figsize=(17, 25))\n",
    "plt.subplots_adjust(wspace=0.2, hspace=0.3)\n",
    "for index, column in enumerate(int_columns):\n",
    "    data.loc[:, [column, 'is_canceled']]\\\n",
    "        .pivot_table(index=column, values='is_canceled', aggfunc=['count', 'sum'])\\\n",
    "            .sort_values(by=('count', 'is_canceled'), ascending=False)[:15]\\\n",
    "                .plot(kind='bar', legend=False, title=column, ax=ax[index // 3, index%3], rot=45, xlabel='')\n",
    "    ax[index // 3, index%3].legend(['Количество клиентов', 'Количество отмен'])\n",
    "    ax[index // 3, index%3].set_ylabel('Количество')\n"
   ]
  },
  {
   "cell_type": "markdown",
   "metadata": {},
   "source": [
    "<div class=\"alert alert-warning\">\n",
    "    <h2> Комментарий ревьюера <a class=\"tocSkip\"> </h2>\n",
    "    \n",
    "<b>Некоторые замечания и рекомендации💡:</b> \n",
    "        \n",
    "Также у всех графиков стоит добавить подписи осей, кроме того стоит расширить отступы мжеду ними, чтобы все было читаемо."
   ]
  },
  {
   "cell_type": "markdown",
   "metadata": {},
   "source": [
    "<div class=\"alert alert-info\">\n",
    "    <font size=\"4\", color = \"black\">Добавил подпись к вертикальной оси, а горизонтальная <code>xlabel</code> будет лишь дублировать название <code>title</code></font>\n",
    "    <br /> \n",
    "    <font size=\"3\", color = \"black\">\n",
    "<br /> "
   ]
  },
  {
   "cell_type": "markdown",
   "metadata": {},
   "source": [
    "<div class=\"alert alert-block alert-danger\">\n",
    "<h2> Комментарий ревьюера <a class=\"tocSkip\"></h2>\n",
    "\n",
    "    \n",
    "<b>На доработку🤔:</b>\n",
    "    \n",
    "Здесь код выдает ошибку, пожалуйста, поправь.\n",
    "    \n",
    "Пока посмотрю дальше без аутпута"
   ]
  },
  {
   "cell_type": "markdown",
   "metadata": {},
   "source": [
    "<div class=\"alert alert-info\">\n",
    "    <font size=\"4\", color = \"black\">Крайне странно, я выполняю проект локально в Visual Code, там все работает и ничего не падает. Видимо разные версии питона или библиотек. <br>\n",
    "        При этом как ни странно код выводит все гистограммы (что и должен) и выдает ошибку <br><br>\n",
    "    P.S. Понял в чем ошибка, колонок 17, а сетка 5x3. Сделаю чтобы, сетка настраивалась автоматически\n",
    "    </font>\n",
    "    <br /> \n",
    "    <font size=\"3\", color = \"black\">\n",
    "<br /> ... , вот мой вопрос ...\n",
    "        "
   ]
  },
  {
   "attachments": {
    "image.png": {
     "image/png": "[encoded data removed]"
    }
   },
   "cell_type": "markdown",
   "metadata": {},
   "source": [
    "![image.png](attachment:image.png)"
   ]
  },
  {
   "cell_type": "markdown",
   "metadata": {},
   "source": [
    "### Анализ портрета ненадежного заемщика"
   ]
  },
  {
   "cell_type": "markdown",
   "metadata": {},
   "source": [
    "<div class=\"alert alert-info\">\n",
    "    <font size=\"4\", color = \"black\">После сброса дубликатов многие выводы придется поправить. </font>\n",
    "    <br /> \n",
    "    <font size=\"3\", color = \"black\">\n",
    "<br /> \n",
    "        "
   ]
  },
  {
   "cell_type": "markdown",
   "metadata": {},
   "source": [
    "#### Lead_time"
   ]
  },
  {
   "cell_type": "markdown",
   "metadata": {},
   "source": [
    "Исследуем, как вероятность отмены зависит от времени до бронирования:\n",
    "1. Поделим времена бронирования на децили.\n",
    "2. Построим стобчатую гистограмму среднего значения `is_canceled` в каждом дециле."
   ]
  },
  {
   "cell_type": "code",
   "execution_count": 29,
   "metadata": {},
   "outputs": [
    {
     "data": {
      "image/png": "[encoded data removed]",
      "text/plain": [
       "<Figure size 432x288 with 1 Axes>"
      ]
     },
     "metadata": {
      "needs_background": "light"
     },
     "output_type": "display_data"
    }
   ],
   "source": [
    "pd.concat([pd.qcut(data.lead_time, q=10), data.is_canceled],axis=1)\\\n",
    "    .pivot_table(index='lead_time', values='is_canceled')\\\n",
    "        .plot(kind='bar', rot=45, \\\n",
    "            title='Вероятность отмены бронирования от времени до заезда',\\\n",
    "                xlabel='Временные интервалы', ylabel='Вероятность отмены');"
   ]
  },
  {
   "cell_type": "markdown",
   "metadata": {},
   "source": [
    "**Вероятность отмены брони растет с увеличением срока до заезда в отель**"
   ]
  },
  {
   "cell_type": "markdown",
   "metadata": {},
   "source": [
    "#### arrival_date_month"
   ]
  },
  {
   "cell_type": "markdown",
   "metadata": {},
   "source": [
    "Исследуем, как влияет месяц заезда на отмены"
   ]
  },
  {
   "cell_type": "code",
   "execution_count": 30,
   "metadata": {},
   "outputs": [
    {
     "data": {
      "image/png": "[encoded data removed]",
      "text/plain": [
       "<Figure size 432x288 with 1 Axes>"
      ]
     },
     "metadata": {
      "needs_background": "light"
     },
     "output_type": "display_data"
    }
   ],
   "source": [
    "data.pivot_table(index='arrival_date_month', values='is_canceled', aggfunc='mean')\\\n",
    "    .sort_values(by='is_canceled', ascending=False)\\\n",
    "        .plot(kind='bar', rot=45, title='Вероятность отмены бронирования от месяца заезда');"
   ]
  },
  {
   "cell_type": "markdown",
   "metadata": {},
   "source": [
    "**В сезонные месяцы вероятность отмены несколько выше, чем в зимний период**"
   ]
  },
  {
   "cell_type": "markdown",
   "metadata": {},
   "source": [
    "#### adults, children, babies"
   ]
  },
  {
   "cell_type": "code",
   "execution_count": 31,
   "metadata": {},
   "outputs": [
    {
     "data": {
      "image/png": "[encoded data removed]",
      "text/plain": [
       "<Figure size 432x288 with 1 Axes>"
      ]
     },
     "metadata": {
      "needs_background": "light"
     },
     "output_type": "display_data"
    }
   ],
   "source": [
    "data.pivot_table(index='adults', values='is_canceled')\\\n",
    "    .plot(kind='bar', rot=0, grid=True, title='Вероятность отмены от количества взрослых');"
   ]
  },
  {
   "cell_type": "code",
   "execution_count": 32,
   "metadata": {},
   "outputs": [
    {
     "data": {
      "text/html": [
       "<div>\n",
       "<style scoped>\n",
       "    .dataframe tbody tr th:only-of-type {\n",
       "        vertical-align: middle;\n",
       "    }\n",
       "\n",
       "    .dataframe tbody tr th {\n",
       "        vertical-align: top;\n",
       "    }\n",
       "\n",
       "    .dataframe thead tr th {\n",
       "        text-align: left;\n",
       "    }\n",
       "\n",
       "    .dataframe thead tr:last-of-type th {\n",
       "        text-align: right;\n",
       "    }\n",
       "</style>\n",
       "<table border=\"1\" class=\"dataframe\">\n",
       "  <thead>\n",
       "    <tr>\n",
       "      <th></th>\n",
       "      <th>mean</th>\n",
       "      <th>count</th>\n",
       "    </tr>\n",
       "    <tr>\n",
       "      <th></th>\n",
       "      <th>is_canceled</th>\n",
       "      <th>is_canceled</th>\n",
       "    </tr>\n",
       "    <tr>\n",
       "      <th>adults</th>\n",
       "      <th></th>\n",
       "      <th></th>\n",
       "    </tr>\n",
       "  </thead>\n",
       "  <tbody>\n",
       "    <tr>\n",
       "      <th>1</th>\n",
       "      <td>0.197556</td>\n",
       "      <td>12604</td>\n",
       "    </tr>\n",
       "    <tr>\n",
       "      <th>2</th>\n",
       "      <td>0.291108</td>\n",
       "      <td>48920</td>\n",
       "    </tr>\n",
       "    <tr>\n",
       "      <th>3</th>\n",
       "      <td>0.329790</td>\n",
       "      <td>4327</td>\n",
       "    </tr>\n",
       "    <tr>\n",
       "      <th>4</th>\n",
       "      <td>0.238095</td>\n",
       "      <td>21</td>\n",
       "    </tr>\n",
       "  </tbody>\n",
       "</table>\n",
       "</div>"
      ],
      "text/plain": [
       "              mean       count\n",
       "       is_canceled is_canceled\n",
       "adults                        \n",
       "1         0.197556       12604\n",
       "2         0.291108       48920\n",
       "3         0.329790        4327\n",
       "4         0.238095          21"
      ]
     },
     "execution_count": 32,
     "metadata": {},
     "output_type": "execute_result"
    }
   ],
   "source": [
    "data.pivot_table(index='adults', values='is_canceled', aggfunc=['mean', 'count'])"
   ]
  },
  {
   "cell_type": "markdown",
   "metadata": {},
   "source": [
    "**Приезжающие парами отменяют бронирование чаще, по сравнению с одиночным заездом, при этом наиболее популярные варианты бронирования - 1 взрослый или 2 взрослых. По остальным категориям данных мало**"
   ]
  },
  {
   "cell_type": "code",
   "execution_count": 33,
   "metadata": {},
   "outputs": [
    {
     "data": {
      "text/html": [
       "<div>\n",
       "<style scoped>\n",
       "    .dataframe tbody tr th:only-of-type {\n",
       "        vertical-align: middle;\n",
       "    }\n",
       "\n",
       "    .dataframe tbody tr th {\n",
       "        vertical-align: top;\n",
       "    }\n",
       "\n",
       "    .dataframe thead tr th {\n",
       "        text-align: left;\n",
       "    }\n",
       "\n",
       "    .dataframe thead tr:last-of-type th {\n",
       "        text-align: right;\n",
       "    }\n",
       "</style>\n",
       "<table border=\"1\" class=\"dataframe\">\n",
       "  <thead>\n",
       "    <tr>\n",
       "      <th></th>\n",
       "      <th>mean</th>\n",
       "      <th>count</th>\n",
       "    </tr>\n",
       "    <tr>\n",
       "      <th></th>\n",
       "      <th>is_canceled</th>\n",
       "      <th>is_canceled</th>\n",
       "    </tr>\n",
       "    <tr>\n",
       "      <th>children</th>\n",
       "      <th></th>\n",
       "      <th></th>\n",
       "    </tr>\n",
       "  </thead>\n",
       "  <tbody>\n",
       "    <tr>\n",
       "      <th>0</th>\n",
       "      <td>0.270947</td>\n",
       "      <td>60761</td>\n",
       "    </tr>\n",
       "    <tr>\n",
       "      <th>1</th>\n",
       "      <td>0.300476</td>\n",
       "      <td>3358</td>\n",
       "    </tr>\n",
       "    <tr>\n",
       "      <th>2</th>\n",
       "      <td>0.394374</td>\n",
       "      <td>1742</td>\n",
       "    </tr>\n",
       "    <tr>\n",
       "      <th>3</th>\n",
       "      <td>0.363636</td>\n",
       "      <td>11</td>\n",
       "    </tr>\n",
       "  </tbody>\n",
       "</table>\n",
       "</div>"
      ],
      "text/plain": [
       "                mean       count\n",
       "         is_canceled is_canceled\n",
       "children                        \n",
       "0           0.270947       60761\n",
       "1           0.300476        3358\n",
       "2           0.394374        1742\n",
       "3           0.363636          11"
      ]
     },
     "execution_count": 33,
     "metadata": {},
     "output_type": "execute_result"
    }
   ],
   "source": [
    "data.pivot_table(index='children', values='is_canceled', aggfunc=['mean', 'count'])"
   ]
  },
  {
   "cell_type": "markdown",
   "metadata": {},
   "source": [
    "**По количество детей достаточно сложно сделать вывод, подавляющее большинство гостей без детей**"
   ]
  },
  {
   "cell_type": "code",
   "execution_count": 34,
   "metadata": {},
   "outputs": [
    {
     "data": {
      "text/html": [
       "<div>\n",
       "<style scoped>\n",
       "    .dataframe tbody tr th:only-of-type {\n",
       "        vertical-align: middle;\n",
       "    }\n",
       "\n",
       "    .dataframe tbody tr th {\n",
       "        vertical-align: top;\n",
       "    }\n",
       "\n",
       "    .dataframe thead tr th {\n",
       "        text-align: left;\n",
       "    }\n",
       "\n",
       "    .dataframe thead tr:last-of-type th {\n",
       "        text-align: right;\n",
       "    }\n",
       "</style>\n",
       "<table border=\"1\" class=\"dataframe\">\n",
       "  <thead>\n",
       "    <tr>\n",
       "      <th></th>\n",
       "      <th>mean</th>\n",
       "      <th>count</th>\n",
       "    </tr>\n",
       "    <tr>\n",
       "      <th></th>\n",
       "      <th>is_canceled</th>\n",
       "      <th>is_canceled</th>\n",
       "    </tr>\n",
       "    <tr>\n",
       "      <th>babies</th>\n",
       "      <th></th>\n",
       "      <th></th>\n",
       "    </tr>\n",
       "  </thead>\n",
       "  <tbody>\n",
       "    <tr>\n",
       "      <th>0</th>\n",
       "      <td>0.276776</td>\n",
       "      <td>65255</td>\n",
       "    </tr>\n",
       "    <tr>\n",
       "      <th>1</th>\n",
       "      <td>0.167213</td>\n",
       "      <td>610</td>\n",
       "    </tr>\n",
       "    <tr>\n",
       "      <th>2</th>\n",
       "      <td>0.000000</td>\n",
       "      <td>7</td>\n",
       "    </tr>\n",
       "  </tbody>\n",
       "</table>\n",
       "</div>"
      ],
      "text/plain": [
       "              mean       count\n",
       "       is_canceled is_canceled\n",
       "babies                        \n",
       "0         0.276776       65255\n",
       "1         0.167213         610\n",
       "2         0.000000           7"
      ]
     },
     "execution_count": 34,
     "metadata": {},
     "output_type": "execute_result"
    }
   ],
   "source": [
    "data.pivot_table(index='babies', values='is_canceled', aggfunc=['mean', 'count'])"
   ]
  },
  {
   "cell_type": "markdown",
   "metadata": {},
   "source": [
    "**С младенцеми путешествуют редко, данных недостаточно для анализа**"
   ]
  },
  {
   "cell_type": "markdown",
   "metadata": {},
   "source": [
    "#### meal"
   ]
  },
  {
   "cell_type": "code",
   "execution_count": 35,
   "metadata": {},
   "outputs": [
    {
     "data": {
      "text/html": [
       "<div>\n",
       "<style scoped>\n",
       "    .dataframe tbody tr th:only-of-type {\n",
       "        vertical-align: middle;\n",
       "    }\n",
       "\n",
       "    .dataframe tbody tr th {\n",
       "        vertical-align: top;\n",
       "    }\n",
       "\n",
       "    .dataframe thead tr th {\n",
       "        text-align: left;\n",
       "    }\n",
       "\n",
       "    .dataframe thead tr:last-of-type th {\n",
       "        text-align: right;\n",
       "    }\n",
       "</style>\n",
       "<table border=\"1\" class=\"dataframe\">\n",
       "  <thead>\n",
       "    <tr>\n",
       "      <th></th>\n",
       "      <th>mean</th>\n",
       "      <th>count</th>\n",
       "    </tr>\n",
       "    <tr>\n",
       "      <th></th>\n",
       "      <th>is_canceled</th>\n",
       "      <th>is_canceled</th>\n",
       "    </tr>\n",
       "    <tr>\n",
       "      <th>meal</th>\n",
       "      <th></th>\n",
       "      <th></th>\n",
       "    </tr>\n",
       "  </thead>\n",
       "  <tbody>\n",
       "    <tr>\n",
       "      <th>BB</th>\n",
       "      <td>0.263448</td>\n",
       "      <td>51642</td>\n",
       "    </tr>\n",
       "    <tr>\n",
       "      <th>FB</th>\n",
       "      <td>0.292683</td>\n",
       "      <td>164</td>\n",
       "    </tr>\n",
       "    <tr>\n",
       "      <th>HB</th>\n",
       "      <td>0.269998</td>\n",
       "      <td>5063</td>\n",
       "    </tr>\n",
       "    <tr>\n",
       "      <th>SC</th>\n",
       "      <td>0.156522</td>\n",
       "      <td>230</td>\n",
       "    </tr>\n",
       "    <tr>\n",
       "      <th>SC</th>\n",
       "      <td>0.354155</td>\n",
       "      <td>8773</td>\n",
       "    </tr>\n",
       "  </tbody>\n",
       "</table>\n",
       "</div>"
      ],
      "text/plain": [
       "                 mean       count\n",
       "          is_canceled is_canceled\n",
       "meal                             \n",
       "BB           0.263448       51642\n",
       "FB           0.292683         164\n",
       "HB           0.269998        5063\n",
       "SC           0.156522         230\n",
       "SC           0.354155        8773"
      ]
     },
     "execution_count": 35,
     "metadata": {},
     "output_type": "execute_result"
    }
   ],
   "source": [
    "data.pivot_table(index='meal', values='is_canceled',  aggfunc=['mean', 'count'])"
   ]
  },
  {
   "cell_type": "markdown",
   "metadata": {},
   "source": [
    "Наиболее популярные типы питания:\n",
    "1. Включен завтра (BB)\n",
    "2. Без дополнительных опций (SC)\n",
    "3. Завтрак и обед (HB)\n",
    "Сделаем анализ по ним"
   ]
  },
  {
   "cell_type": "code",
   "execution_count": 36,
   "metadata": {},
   "outputs": [
    {
     "data": {
      "image/png": "[encoded data removed]",
      "text/plain": [
       "<Figure size 432x288 with 1 Axes>"
      ]
     },
     "metadata": {
      "needs_background": "light"
     },
     "output_type": "display_data"
    }
   ],
   "source": [
    "data.pivot_table(index='meal', values='is_canceled').iloc[[0,2,4]].plot(kind='bar', rot=0);"
   ]
  },
  {
   "cell_type": "markdown",
   "metadata": {},
   "source": [
    "**Разница в типах питания несущественная**"
   ]
  },
  {
   "cell_type": "markdown",
   "metadata": {},
   "source": [
    "#### country"
   ]
  },
  {
   "cell_type": "markdown",
   "metadata": {},
   "source": [
    "В графе country много различных стран. При этом 95 % посетителей приходится на 16 стран. Анализируем их. \n",
    "Также это позволит не плодить огромное количество dummy переменных. "
   ]
  },
  {
   "cell_type": "code",
   "execution_count": 37,
   "metadata": {},
   "outputs": [
    {
     "data": {
      "text/plain": [
       "Index(['PRT', 'GBR', 'FRA', 'ESP', 'DEU', 'ITA', 'IRL', 'BEL', 'BRA', 'NLD',\n",
       "       'USA', 'CHE', 'AUT', 'CN', 'CHN', 'SWE', 'POL', 'RUS', 'NOR', 'ROU',\n",
       "       'FIN', 'ISR', 'DNK', 'AUS', 'LUX'],\n",
       "      dtype='object')"
      ]
     },
     "execution_count": 37,
     "metadata": {},
     "output_type": "execute_result"
    }
   ],
   "source": [
    "popular_countries = data.country.value_counts(normalize=True)\\\n",
    "    .loc[data.country.value_counts(normalize=True).cumsum() < 0.95].index\n",
    "popular_countries"
   ]
  },
  {
   "cell_type": "code",
   "execution_count": 38,
   "metadata": {},
   "outputs": [],
   "source": [
    "data.country = data.country.where(data.country.isin(popular_countries), 'non_popular')"
   ]
  },
  {
   "cell_type": "code",
   "execution_count": 39,
   "metadata": {},
   "outputs": [
    {
     "data": {
      "image/png": "[encoded data removed]",
      "text/plain": [
       "<Figure size 1080x360 with 1 Axes>"
      ]
     },
     "metadata": {
      "needs_background": "light"
     },
     "output_type": "display_data"
    }
   ],
   "source": [
    "data.pivot_table(index='country', values='is_canceled')\\\n",
    "    .sort_values(by='is_canceled', ascending=False).plot(kind='bar', figsize=(15,5), rot=45);"
   ]
  },
  {
   "cell_type": "markdown",
   "metadata": {},
   "source": [
    "**Чаще всех отменяют жители Китая и Бразилии**"
   ]
  },
  {
   "cell_type": "markdown",
   "metadata": {},
   "source": [
    "#### distribution_channel"
   ]
  },
  {
   "cell_type": "code",
   "execution_count": 40,
   "metadata": {},
   "outputs": [
    {
     "data": {
      "text/html": [
       "<div>\n",
       "<style scoped>\n",
       "    .dataframe tbody tr th:only-of-type {\n",
       "        vertical-align: middle;\n",
       "    }\n",
       "\n",
       "    .dataframe tbody tr th {\n",
       "        vertical-align: top;\n",
       "    }\n",
       "\n",
       "    .dataframe thead tr th {\n",
       "        text-align: left;\n",
       "    }\n",
       "\n",
       "    .dataframe thead tr:last-of-type th {\n",
       "        text-align: right;\n",
       "    }\n",
       "</style>\n",
       "<table border=\"1\" class=\"dataframe\">\n",
       "  <thead>\n",
       "    <tr>\n",
       "      <th></th>\n",
       "      <th>mean</th>\n",
       "      <th>count</th>\n",
       "    </tr>\n",
       "    <tr>\n",
       "      <th></th>\n",
       "      <th>is_canceled</th>\n",
       "      <th>is_canceled</th>\n",
       "    </tr>\n",
       "    <tr>\n",
       "      <th>distribution_channel</th>\n",
       "      <th></th>\n",
       "      <th></th>\n",
       "    </tr>\n",
       "  </thead>\n",
       "  <tbody>\n",
       "    <tr>\n",
       "      <th>TA/TO</th>\n",
       "      <td>0.308729</td>\n",
       "      <td>53108</td>\n",
       "    </tr>\n",
       "    <tr>\n",
       "      <th>GDS</th>\n",
       "      <td>0.181818</td>\n",
       "      <td>165</td>\n",
       "    </tr>\n",
       "    <tr>\n",
       "      <th>Direct</th>\n",
       "      <td>0.141397</td>\n",
       "      <td>8805</td>\n",
       "    </tr>\n",
       "    <tr>\n",
       "      <th>Corporate</th>\n",
       "      <td>0.129678</td>\n",
       "      <td>3794</td>\n",
       "    </tr>\n",
       "  </tbody>\n",
       "</table>\n",
       "</div>"
      ],
      "text/plain": [
       "                            mean       count\n",
       "                     is_canceled is_canceled\n",
       "distribution_channel                        \n",
       "TA/TO                   0.308729       53108\n",
       "GDS                     0.181818         165\n",
       "Direct                  0.141397        8805\n",
       "Corporate               0.129678        3794"
      ]
     },
     "execution_count": 40,
     "metadata": {},
     "output_type": "execute_result"
    }
   ],
   "source": [
    "data.pivot_table(index='distribution_channel', values='is_canceled', aggfunc=['mean', 'count'])\\\n",
    "    .sort_values(by=('mean', 'is_canceled'), ascending=False)"
   ]
  },
  {
   "cell_type": "markdown",
   "metadata": {},
   "source": [
    "**Наиболее популярный канал дистрибуции - через туроператора, по нему же чаще всего происходят отмены. Реже всего люди отменяют, если выбрали отель напрямую.**"
   ]
  },
  {
   "cell_type": "markdown",
   "metadata": {},
   "source": [
    "#### is_repeated_guest, previous_cancellations, previous_bookings_not_canceled, booking_changes"
   ]
  },
  {
   "cell_type": "code",
   "execution_count": 41,
   "metadata": {},
   "outputs": [
    {
     "data": {
      "text/html": [
       "<style  type=\"text/css\" >\n",
       "#T_eb59b_row0_col0{\n",
       "            background-color:  #3c4ec2;\n",
       "            color:  #f1f1f1;\n",
       "        }#T_eb59b_row1_col0{\n",
       "            background-color:  #6282ea;\n",
       "            color:  #000000;\n",
       "        }#T_eb59b_row2_col0{\n",
       "            background-color:  #445acc;\n",
       "            color:  #f1f1f1;\n",
       "        }#T_eb59b_row3_col0{\n",
       "            background-color:  #3b4cc0;\n",
       "            color:  #f1f1f1;\n",
       "        }#T_eb59b_row4_col0{\n",
       "            background-color:  #b40426;\n",
       "            color:  #f1f1f1;\n",
       "        }</style><table id=\"T_eb59b_\" ><thead>    <tr>        <th class=\"blank level0\" ></th>        <th class=\"col_heading level0 col0\" >is_canceled</th>    </tr></thead><tbody>\n",
       "                <tr>\n",
       "                        <th id=\"T_eb59b_level0_row0\" class=\"row_heading level0 row0\" >is_repeated_guest</th>\n",
       "                        <td id=\"T_eb59b_row0_col0\" class=\"data row0 col0\" >-0.080984</td>\n",
       "            </tr>\n",
       "            <tr>\n",
       "                        <th id=\"T_eb59b_level0_row1\" class=\"row_heading level0 row1\" >previous_cancellations</th>\n",
       "                        <td id=\"T_eb59b_row1_col0\" class=\"data row1 col0\" >0.051329</td>\n",
       "            </tr>\n",
       "            <tr>\n",
       "                        <th id=\"T_eb59b_level0_row2\" class=\"row_heading level0 row2\" >previous_bookings_not_canceled</th>\n",
       "                        <td id=\"T_eb59b_row2_col0\" class=\"data row2 col0\" >-0.049375</td>\n",
       "            </tr>\n",
       "            <tr>\n",
       "                        <th id=\"T_eb59b_level0_row3\" class=\"row_heading level0 row3\" >booking_changes</th>\n",
       "                        <td id=\"T_eb59b_row3_col0\" class=\"data row3 col0\" >-0.086643</td>\n",
       "            </tr>\n",
       "            <tr>\n",
       "                        <th id=\"T_eb59b_level0_row4\" class=\"row_heading level0 row4\" >is_canceled</th>\n",
       "                        <td id=\"T_eb59b_row4_col0\" class=\"data row4 col0\" >1.000000</td>\n",
       "            </tr>\n",
       "    </tbody></table>"
      ],
      "text/plain": [
       "<pandas.io.formats.style.Styler at 0x7f77e2a178b0>"
      ]
     },
     "execution_count": 41,
     "metadata": {},
     "output_type": "execute_result"
    }
   ],
   "source": [
    "data.loc[:, ['is_repeated_guest', 'previous_cancellations', 'previous_bookings_not_canceled', \\\n",
    "    'booking_changes', 'is_canceled']].corr()['is_canceled']\\\n",
    "        .to_frame().style.background_gradient('coolwarm')"
   ]
  },
  {
   "cell_type": "markdown",
   "metadata": {},
   "source": [
    "**Линейной зависимости между параметрами нет**"
   ]
  },
  {
   "cell_type": "markdown",
   "metadata": {},
   "source": [
    "#### reserved_room_type"
   ]
  },
  {
   "cell_type": "code",
   "execution_count": 42,
   "metadata": {},
   "outputs": [
    {
     "data": {
      "text/html": [
       "<div>\n",
       "<style scoped>\n",
       "    .dataframe tbody tr th:only-of-type {\n",
       "        vertical-align: middle;\n",
       "    }\n",
       "\n",
       "    .dataframe tbody tr th {\n",
       "        vertical-align: top;\n",
       "    }\n",
       "\n",
       "    .dataframe thead tr th {\n",
       "        text-align: left;\n",
       "    }\n",
       "\n",
       "    .dataframe thead tr:last-of-type th {\n",
       "        text-align: right;\n",
       "    }\n",
       "</style>\n",
       "<table border=\"1\" class=\"dataframe\">\n",
       "  <thead>\n",
       "    <tr>\n",
       "      <th></th>\n",
       "      <th>mean</th>\n",
       "      <th>count</th>\n",
       "    </tr>\n",
       "    <tr>\n",
       "      <th></th>\n",
       "      <th>is_canceled</th>\n",
       "      <th>is_canceled</th>\n",
       "    </tr>\n",
       "    <tr>\n",
       "      <th>reserved_room_type</th>\n",
       "      <th></th>\n",
       "      <th></th>\n",
       "    </tr>\n",
       "  </thead>\n",
       "  <tbody>\n",
       "    <tr>\n",
       "      <th>A</th>\n",
       "      <td>0.265851</td>\n",
       "      <td>45014</td>\n",
       "    </tr>\n",
       "    <tr>\n",
       "      <th>B</th>\n",
       "      <td>0.299301</td>\n",
       "      <td>715</td>\n",
       "    </tr>\n",
       "    <tr>\n",
       "      <th>C</th>\n",
       "      <td>0.297619</td>\n",
       "      <td>420</td>\n",
       "    </tr>\n",
       "    <tr>\n",
       "      <th>D</th>\n",
       "      <td>0.303811</td>\n",
       "      <td>13515</td>\n",
       "    </tr>\n",
       "    <tr>\n",
       "      <th>E</th>\n",
       "      <td>0.261622</td>\n",
       "      <td>3700</td>\n",
       "    </tr>\n",
       "    <tr>\n",
       "      <th>F</th>\n",
       "      <td>0.297167</td>\n",
       "      <td>1659</td>\n",
       "    </tr>\n",
       "    <tr>\n",
       "      <th>G</th>\n",
       "      <td>0.341578</td>\n",
       "      <td>849</td>\n",
       "    </tr>\n",
       "  </tbody>\n",
       "</table>\n",
       "</div>"
      ],
      "text/plain": [
       "                          mean       count\n",
       "                   is_canceled is_canceled\n",
       "reserved_room_type                        \n",
       "A                     0.265851       45014\n",
       "B                     0.299301         715\n",
       "C                     0.297619         420\n",
       "D                     0.303811       13515\n",
       "E                     0.261622        3700\n",
       "F                     0.297167        1659\n",
       "G                     0.341578         849"
      ]
     },
     "execution_count": 42,
     "metadata": {},
     "output_type": "execute_result"
    }
   ],
   "source": [
    "data.pivot_table(index='reserved_room_type', values='is_canceled', aggfunc=['mean', 'count'])"
   ]
  },
  {
   "cell_type": "markdown",
   "metadata": {},
   "source": [
    "**Чаще всего люди бронируют категории номеров A и D. При этом большая часть отмен бронирований приходится на номера типа А**"
   ]
  },
  {
   "cell_type": "markdown",
   "metadata": {},
   "source": [
    "#### days_in_waiting_list"
   ]
  },
  {
   "cell_type": "code",
   "execution_count": 43,
   "metadata": {},
   "outputs": [
    {
     "name": "stdout",
     "output_type": "stream",
     "text": [
      "Количество клиентов, ожидающих подтверждение больше 0 дней: 655\n"
     ]
    }
   ],
   "source": [
    "print(f'Количество клиентов, ожидающих подтверждение больше 0 дней: {(data.days_in_waiting_list != 0).sum()}')"
   ]
  },
  {
   "cell_type": "markdown",
   "metadata": {},
   "source": [
    "Количество клиентов, ожидающих подтверждение больше 0 дней совсем немного в рамках нашего датасета. Сравним их с основной группой, получающих подвтерждение сразу"
   ]
  },
  {
   "cell_type": "code",
   "execution_count": 44,
   "metadata": {},
   "outputs": [
    {
     "name": "stdout",
     "output_type": "stream",
     "text": [
      "Отмен бронирований среди получающих подтверждение бронирования с задержкой: 39.2%\n",
      "Отмен бронирований среди получающих подтверждение бронирования без задержки: 27.5%\n"
     ]
    }
   ],
   "source": [
    "waiting = data.query('days_in_waiting_list != 0').is_canceled.mean()\n",
    "non_waiting = data.query('days_in_waiting_list == 0').is_canceled.mean()\n",
    "print(f'Отмен бронирований среди получающих подтверждение бронирования с задержкой: {waiting:.1%}\\n\\\n",
    "Отмен бронирований среди получающих подтверждение бронирования без задержки: {non_waiting:.1%}')"
   ]
  },
  {
   "cell_type": "markdown",
   "metadata": {},
   "source": [
    "**Пользователей лучше не заставлять ждать - им это не нравится**"
   ]
  },
  {
   "cell_type": "markdown",
   "metadata": {},
   "source": [
    "#### customer_type"
   ]
  },
  {
   "cell_type": "code",
   "execution_count": 45,
   "metadata": {},
   "outputs": [
    {
     "data": {
      "text/html": [
       "<div>\n",
       "<style scoped>\n",
       "    .dataframe tbody tr th:only-of-type {\n",
       "        vertical-align: middle;\n",
       "    }\n",
       "\n",
       "    .dataframe tbody tr th {\n",
       "        vertical-align: top;\n",
       "    }\n",
       "\n",
       "    .dataframe thead tr th {\n",
       "        text-align: left;\n",
       "    }\n",
       "\n",
       "    .dataframe thead tr:last-of-type th {\n",
       "        text-align: right;\n",
       "    }\n",
       "</style>\n",
       "<table border=\"1\" class=\"dataframe\">\n",
       "  <thead>\n",
       "    <tr>\n",
       "      <th></th>\n",
       "      <th>mean</th>\n",
       "      <th>count</th>\n",
       "    </tr>\n",
       "    <tr>\n",
       "      <th></th>\n",
       "      <th>is_canceled</th>\n",
       "      <th>is_canceled</th>\n",
       "    </tr>\n",
       "    <tr>\n",
       "      <th>customer_type</th>\n",
       "      <th></th>\n",
       "      <th></th>\n",
       "    </tr>\n",
       "  </thead>\n",
       "  <tbody>\n",
       "    <tr>\n",
       "      <th>Contract</th>\n",
       "      <td>0.185734</td>\n",
       "      <td>2159</td>\n",
       "    </tr>\n",
       "    <tr>\n",
       "      <th>Group</th>\n",
       "      <td>0.065217</td>\n",
       "      <td>414</td>\n",
       "    </tr>\n",
       "    <tr>\n",
       "      <th>Transient</th>\n",
       "      <td>0.298817</td>\n",
       "      <td>55124</td>\n",
       "    </tr>\n",
       "    <tr>\n",
       "      <th>Transient-Party</th>\n",
       "      <td>0.154495</td>\n",
       "      <td>8175</td>\n",
       "    </tr>\n",
       "  </tbody>\n",
       "</table>\n",
       "</div>"
      ],
      "text/plain": [
       "                       mean       count\n",
       "                is_canceled is_canceled\n",
       "customer_type                          \n",
       "Contract           0.185734        2159\n",
       "Group              0.065217         414\n",
       "Transient          0.298817       55124\n",
       "Transient-Party    0.154495        8175"
      ]
     },
     "execution_count": 45,
     "metadata": {},
     "output_type": "execute_result"
    }
   ],
   "source": [
    "data.pivot_table(index='customer_type', values='is_canceled', aggfunc=['mean', 'count'])"
   ]
  },
  {
   "cell_type": "markdown",
   "metadata": {},
   "source": [
    "**Физлица основные постояльцы нашего отеля, остальные категории покупателей представлены слабо для анализа**"
   ]
  },
  {
   "cell_type": "markdown",
   "metadata": {},
   "source": [
    "## Вывод по блоку \"Исследовательский анализ данных\"\n",
    "\n",
    "* Столбец id уникален, данные объединены и обработаны вместе\n",
    "* В датасете отсутствуют пропуски\n",
    "* В датасете обнаружены аномальные значения в колонке `babies` (9 и 10 детей), данные очищены\n",
    "* Сезонные коэффициенты выбраны логично\n",
    "* Вероятно наш отель расположен в Португалии. Так как большинство туристов именно оттуда.\n",
    "* Наиболее популярные тип номера \"A\" - наиболее дорогой\n",
    "* Чаще всего это бронирование не связано с договором или групповым заездом\n"
   ]
  },
  {
   "cell_type": "markdown",
   "metadata": {},
   "source": [
    "<div class=\"alert alert-success\">\n",
    "<h2> Комментарий ревьюера <a class=\"tocSkip\"> </h2>\n",
    "\n",
    "<b>Все отлично!👍</b> \n",
    "    "
   ]
  },
  {
   "cell_type": "markdown",
   "metadata": {},
   "source": [
    "## Шаг 3. Формулировка ML-задачи на основе бизнес-задачи"
   ]
  },
  {
   "cell_type": "markdown",
   "metadata": {},
   "source": [
    "Разработка модели машинного обучения, способной прогнозировать необходимость введения депозита для клиента при бронировании номера. <br>\n",
    "\n",
    "Обязательным условием является повышение прибыли больше, чем на 400_000 руб (стоимость разработки) за тестовый период.\n"
   ]
  },
  {
   "cell_type": "code",
   "execution_count": 46,
   "metadata": {
    "scrolled": false
   },
   "outputs": [],
   "source": [
    "data_train = data.loc[data.index.isin(train_indexes)]\n",
    "data_test = data.loc[data.index.isin(test_indexes)]"
   ]
  },
  {
   "cell_type": "code",
   "execution_count": 47,
   "metadata": {},
   "outputs": [
    {
     "name": "stdout",
     "output_type": "stream",
     "text": [
      "Прибыль компании в тестовый период до внедрения машинного обучения: 31,765,140\n",
      "Выручка компании в тестовый период до внедрения машинного обучения: 53,824,360\n",
      "Количество клиентов отменяющих бронь: 31.3%\n"
     ]
    }
   ],
   "source": [
    "print(f'Прибыль компании в тестовый период до внедрения машинного обучения: {data_test.profit.sum():,.0f}\\n\\\n",
    "Выручка компании в тестовый период до внедрения машинного обучения: {data_test.revenue.sum():,.0f}\\n\\\n",
    "Количество клиентов отменяющих бронь: {data_test.is_canceled.mean():.1%}')\n"
   ]
  },
  {
   "cell_type": "markdown",
   "metadata": {},
   "source": [
    "Почти треть выручки пропадает из-за клиентов отменивших бронь!"
   ]
  },
  {
   "cell_type": "markdown",
   "metadata": {},
   "source": [
    "<div class=\"alert alert-success\">\n",
    "<h2> Комментарий ревьюера <a class=\"tocSkip\"> </h2>\n",
    "\n",
    "<b>Все отлично!👍:</b> \n",
    "    \n",
    "Молодец, что рассчитываешь прибыль на тестовых данных.\n",
    "    \n",
    "    "
   ]
  },
  {
   "cell_type": "markdown",
   "metadata": {},
   "source": [
    "## Вывод по блоку \"Формулировка ML задачи\"\n",
    "* Перед нами задача бинарной классификации\n",
    "* Основной метрикой является высокая прибыль компании"
   ]
  },
  {
   "cell_type": "markdown",
   "metadata": {},
   "source": [
    "<div class=\"alert alert-block alert-danger\">\n",
    "<h2> Комментарий ревьюера <a class=\"tocSkip\"></h2>\n",
    "\n",
    "    \n",
    "<b>На доработку🤔:</b>\n",
    "    \n",
    "Здесь стоит добавить анализ баланса классов в целевой переменной.\n",
    "    \n",
    "Кроме того стоит написать обоснование выьора метрики, с помощью которой ты будешь оценивать модели и подбирать гиперпараметры."
   ]
  },
  {
   "cell_type": "markdown",
   "metadata": {},
   "source": [
    "<div class=\"alert alert-info\">\n",
    "    <font size=\"4\", color = \"black\">Приступаю</font>\n",
    "    <br /> \n",
    "    <font size=\"3\", color = \"black\">\n",
    "<br />"
   ]
  },
  {
   "cell_type": "markdown",
   "metadata": {},
   "source": [
    "<hr style=\"border: 2px solid blue;\">"
   ]
  },
  {
   "cell_type": "code",
   "execution_count": 59,
   "metadata": {},
   "outputs": [
    {
     "data": {
      "image/png": "[encoded data removed]",
      "text/plain": [
       "<Figure size 504x360 with 1 Axes>"
      ]
     },
     "metadata": {
      "needs_background": "light"
     },
     "output_type": "display_data"
    }
   ],
   "source": [
    "data_train.is_canceled.value_counts(normalize=True)\\\n",
    ".plot(kind='bar', rot=0, figsize=(7,5),\\\n",
    "      title='Сравнение баланса классов отменяющих бронь', ylabel='Доля отменяющих бронь', xlabel='Класс');"
   ]
  },
  {
   "cell_type": "markdown",
   "metadata": {},
   "source": [
    "<q>\n",
    "</q>"
   ]
  },
  {
   "cell_type": "code",
   "execution_count": null,
   "metadata": {},
   "outputs": [],
   "source": []
  },
  {
   "cell_type": "markdown",
   "metadata": {},
   "source": [
    "<hr style=\"border: 2px solid blue;\">"
   ]
  },
  {
   "cell_type": "markdown",
   "metadata": {},
   "source": [
    "## Шаг 4. Разработка модели ML"
   ]
  },
  {
   "cell_type": "markdown",
   "metadata": {},
   "source": [
    "### Dummy переменные"
   ]
  },
  {
   "cell_type": "code",
   "execution_count": null,
   "metadata": {},
   "outputs": [],
   "source": [
    "data = pd.get_dummies(data, drop_first=True)\n",
    "data.head()"
   ]
  },
  {
   "cell_type": "markdown",
   "metadata": {},
   "source": [
    "<div class=\"alert alert-warning\">\n",
    "    <h2> Комментарий ревьюера <a class=\"tocSkip\"> </h2>\n",
    "    \n",
    "<b>Некоторые замечания и рекомендации💡:</b> \n",
    "        \n",
    "В теории тренажера в данный момент предлагается использовать get_dummies, однако, это впоследствии приводит к сложностям поэтому стоит использовать класс <a href=\"https://scikit-learn.org/stable/modules/generated/sklearn.preprocessing.OneHotEncoder.html\">OHE из sklearn</a>. По аналогии с масштабированием делать fit только на трейне, а transform на всех выборках.\n",
    "<hr>\n",
    "get_dummies подходит для анализа данных, а для машинного обучения более предпочтителен OHE, т.к. он позоволяет избежать ряд ошибок при обучении моделей, в том числе может работать с неизвестными ранее уровнями категорий, которых не было изначально (например, если появится еще одна модель машины).\n",
    "        \n",
    "get_dummies также нельзя использовать вместе с pipeline, column_transformer, ecли появляется новая выборка и ее нужно кодировать, то обязательно стоит выполнить проверку, чтобы получившиеся фичи были такие же.\n",
    "        \n",
    "Посмотреть более подробно, как использовать OneHotEncoder можно здесь:\n",
    "\n",
    "https://colab.research.google.com/drive/1_gAMXcQKoCShB_l8FNtYEejMnosm9mvt?usp=sharing"
   ]
  },
  {
   "cell_type": "markdown",
   "metadata": {},
   "source": [
    "Перед нами задачи классификации - необходимо предсказывать столбец `is_canceled` по остальным.\n",
    "Проверять на эффективность будем три модели:\n",
    "1. Логистическая регрессия\n",
    "2. Случайный лес\n",
    "3. Модель максимальной прибыли\n",
    "\n",
    "Ключевая метрика: Прибыль компании"
   ]
  },
  {
   "cell_type": "markdown",
   "metadata": {},
   "source": [
    "Определяем признаки и цели. Сбрасываем созданные колонки из признаков"
   ]
  },
  {
   "cell_type": "code",
   "execution_count": 113,
   "metadata": {},
   "outputs": [
    {
     "ename": "KeyError",
     "evalue": "\"Passing list-likes to .loc or [] with any missing labels is no longer supported. The following labels were missing: Int64Index([44932, 44940, 45961, 46432, 46494,\\n            ...\\n            96093, 96146, 96170, 96307, 96910],\\n           dtype='int64', name='id', length=69). See https://pandas.pydata.org/pandas-docs/stable/user_guide/indexing.html#deprecate-loc-reindex-listlike\"",
     "output_type": "error",
     "traceback": [
      "\u001b[0;31m---------------------------------------------------------------------------\u001b[0m",
      "\u001b[0;31mKeyError\u001b[0m                                  Traceback (most recent call last)",
      "\u001b[0;32m/tmp/ipykernel_64/1146552676.py\u001b[0m in \u001b[0;36m<module>\u001b[0;34m\u001b[0m\n\u001b[0;32m----> 1\u001b[0;31m \u001b[0mdata_test\u001b[0m \u001b[0;34m=\u001b[0m \u001b[0mdata\u001b[0m\u001b[0;34m.\u001b[0m\u001b[0mloc\u001b[0m\u001b[0;34m[\u001b[0m\u001b[0mtest_indexes\u001b[0m\u001b[0;34m]\u001b[0m\u001b[0;34m\u001b[0m\u001b[0;34m\u001b[0m\u001b[0m\n\u001b[0m\u001b[1;32m      2\u001b[0m \u001b[0mdata_train\u001b[0m \u001b[0;34m=\u001b[0m \u001b[0mdata\u001b[0m\u001b[0;34m.\u001b[0m\u001b[0mloc\u001b[0m\u001b[0;34m[\u001b[0m\u001b[0mtrain_indexes\u001b[0m\u001b[0;34m]\u001b[0m\u001b[0;34m\u001b[0m\u001b[0;34m\u001b[0m\u001b[0m\n",
      "\u001b[0;32m/opt/conda/lib/python3.9/site-packages/pandas/core/indexing.py\u001b[0m in \u001b[0;36m__getitem__\u001b[0;34m(self, key)\u001b[0m\n\u001b[1;32m    893\u001b[0m \u001b[0;34m\u001b[0m\u001b[0m\n\u001b[1;32m    894\u001b[0m             \u001b[0mmaybe_callable\u001b[0m \u001b[0;34m=\u001b[0m \u001b[0mcom\u001b[0m\u001b[0;34m.\u001b[0m\u001b[0mapply_if_callable\u001b[0m\u001b[0;34m(\u001b[0m\u001b[0mkey\u001b[0m\u001b[0;34m,\u001b[0m \u001b[0mself\u001b[0m\u001b[0;34m.\u001b[0m\u001b[0mobj\u001b[0m\u001b[0;34m)\u001b[0m\u001b[0;34m\u001b[0m\u001b[0;34m\u001b[0m\u001b[0m\n\u001b[0;32m--> 895\u001b[0;31m             \u001b[0;32mreturn\u001b[0m \u001b[0mself\u001b[0m\u001b[0;34m.\u001b[0m\u001b[0m_getitem_axis\u001b[0m\u001b[0;34m(\u001b[0m\u001b[0mmaybe_callable\u001b[0m\u001b[0;34m,\u001b[0m \u001b[0maxis\u001b[0m\u001b[0;34m=\u001b[0m\u001b[0maxis\u001b[0m\u001b[0;34m)\u001b[0m\u001b[0;34m\u001b[0m\u001b[0;34m\u001b[0m\u001b[0m\n\u001b[0m\u001b[1;32m    896\u001b[0m \u001b[0;34m\u001b[0m\u001b[0m\n\u001b[1;32m    897\u001b[0m     \u001b[0;32mdef\u001b[0m \u001b[0m_is_scalar_access\u001b[0m\u001b[0;34m(\u001b[0m\u001b[0mself\u001b[0m\u001b[0;34m,\u001b[0m \u001b[0mkey\u001b[0m\u001b[0;34m:\u001b[0m \u001b[0mTuple\u001b[0m\u001b[0;34m)\u001b[0m\u001b[0;34m:\u001b[0m\u001b[0;34m\u001b[0m\u001b[0;34m\u001b[0m\u001b[0m\n",
      "\u001b[0;32m/opt/conda/lib/python3.9/site-packages/pandas/core/indexing.py\u001b[0m in \u001b[0;36m_getitem_axis\u001b[0;34m(self, key, axis)\u001b[0m\n\u001b[1;32m   1111\u001b[0m                     \u001b[0;32mraise\u001b[0m \u001b[0mValueError\u001b[0m\u001b[0;34m(\u001b[0m\u001b[0;34m\"Cannot index with multidimensional key\"\u001b[0m\u001b[0;34m)\u001b[0m\u001b[0;34m\u001b[0m\u001b[0;34m\u001b[0m\u001b[0m\n\u001b[1;32m   1112\u001b[0m \u001b[0;34m\u001b[0m\u001b[0m\n\u001b[0;32m-> 1113\u001b[0;31m                 \u001b[0;32mreturn\u001b[0m \u001b[0mself\u001b[0m\u001b[0;34m.\u001b[0m\u001b[0m_getitem_iterable\u001b[0m\u001b[0;34m(\u001b[0m\u001b[0mkey\u001b[0m\u001b[0;34m,\u001b[0m \u001b[0maxis\u001b[0m\u001b[0;34m=\u001b[0m\u001b[0maxis\u001b[0m\u001b[0;34m)\u001b[0m\u001b[0;34m\u001b[0m\u001b[0;34m\u001b[0m\u001b[0m\n\u001b[0m\u001b[1;32m   1114\u001b[0m \u001b[0;34m\u001b[0m\u001b[0m\n\u001b[1;32m   1115\u001b[0m             \u001b[0;31m# nested tuple slicing\u001b[0m\u001b[0;34m\u001b[0m\u001b[0;34m\u001b[0m\u001b[0;34m\u001b[0m\u001b[0m\n",
      "\u001b[0;32m/opt/conda/lib/python3.9/site-packages/pandas/core/indexing.py\u001b[0m in \u001b[0;36m_getitem_iterable\u001b[0;34m(self, key, axis)\u001b[0m\n\u001b[1;32m   1051\u001b[0m \u001b[0;34m\u001b[0m\u001b[0m\n\u001b[1;32m   1052\u001b[0m         \u001b[0;31m# A collection of keys\u001b[0m\u001b[0;34m\u001b[0m\u001b[0;34m\u001b[0m\u001b[0;34m\u001b[0m\u001b[0m\n\u001b[0;32m-> 1053\u001b[0;31m         \u001b[0mkeyarr\u001b[0m\u001b[0;34m,\u001b[0m \u001b[0mindexer\u001b[0m \u001b[0;34m=\u001b[0m \u001b[0mself\u001b[0m\u001b[0;34m.\u001b[0m\u001b[0m_get_listlike_indexer\u001b[0m\u001b[0;34m(\u001b[0m\u001b[0mkey\u001b[0m\u001b[0;34m,\u001b[0m \u001b[0maxis\u001b[0m\u001b[0;34m,\u001b[0m \u001b[0mraise_missing\u001b[0m\u001b[0;34m=\u001b[0m\u001b[0;32mFalse\u001b[0m\u001b[0;34m)\u001b[0m\u001b[0;34m\u001b[0m\u001b[0;34m\u001b[0m\u001b[0m\n\u001b[0m\u001b[1;32m   1054\u001b[0m         return self.obj._reindex_with_indexers(\n\u001b[1;32m   1055\u001b[0m             \u001b[0;34m{\u001b[0m\u001b[0maxis\u001b[0m\u001b[0;34m:\u001b[0m \u001b[0;34m[\u001b[0m\u001b[0mkeyarr\u001b[0m\u001b[0;34m,\u001b[0m \u001b[0mindexer\u001b[0m\u001b[0;34m]\u001b[0m\u001b[0;34m}\u001b[0m\u001b[0;34m,\u001b[0m \u001b[0mcopy\u001b[0m\u001b[0;34m=\u001b[0m\u001b[0;32mTrue\u001b[0m\u001b[0;34m,\u001b[0m \u001b[0mallow_dups\u001b[0m\u001b[0;34m=\u001b[0m\u001b[0;32mTrue\u001b[0m\u001b[0;34m\u001b[0m\u001b[0;34m\u001b[0m\u001b[0m\n",
      "\u001b[0;32m/opt/conda/lib/python3.9/site-packages/pandas/core/indexing.py\u001b[0m in \u001b[0;36m_get_listlike_indexer\u001b[0;34m(self, key, axis, raise_missing)\u001b[0m\n\u001b[1;32m   1264\u001b[0m             \u001b[0mkeyarr\u001b[0m\u001b[0;34m,\u001b[0m \u001b[0mindexer\u001b[0m\u001b[0;34m,\u001b[0m \u001b[0mnew_indexer\u001b[0m \u001b[0;34m=\u001b[0m \u001b[0max\u001b[0m\u001b[0;34m.\u001b[0m\u001b[0m_reindex_non_unique\u001b[0m\u001b[0;34m(\u001b[0m\u001b[0mkeyarr\u001b[0m\u001b[0;34m)\u001b[0m\u001b[0;34m\u001b[0m\u001b[0;34m\u001b[0m\u001b[0m\n\u001b[1;32m   1265\u001b[0m \u001b[0;34m\u001b[0m\u001b[0m\n\u001b[0;32m-> 1266\u001b[0;31m         \u001b[0mself\u001b[0m\u001b[0;34m.\u001b[0m\u001b[0m_validate_read_indexer\u001b[0m\u001b[0;34m(\u001b[0m\u001b[0mkeyarr\u001b[0m\u001b[0;34m,\u001b[0m \u001b[0mindexer\u001b[0m\u001b[0;34m,\u001b[0m \u001b[0maxis\u001b[0m\u001b[0;34m,\u001b[0m \u001b[0mraise_missing\u001b[0m\u001b[0;34m=\u001b[0m\u001b[0mraise_missing\u001b[0m\u001b[0;34m)\u001b[0m\u001b[0;34m\u001b[0m\u001b[0;34m\u001b[0m\u001b[0m\n\u001b[0m\u001b[1;32m   1267\u001b[0m         \u001b[0;32mreturn\u001b[0m \u001b[0mkeyarr\u001b[0m\u001b[0;34m,\u001b[0m \u001b[0mindexer\u001b[0m\u001b[0;34m\u001b[0m\u001b[0;34m\u001b[0m\u001b[0m\n\u001b[1;32m   1268\u001b[0m \u001b[0;34m\u001b[0m\u001b[0m\n",
      "\u001b[0;32m/opt/conda/lib/python3.9/site-packages/pandas/core/indexing.py\u001b[0m in \u001b[0;36m_validate_read_indexer\u001b[0;34m(self, key, indexer, axis, raise_missing)\u001b[0m\n\u001b[1;32m   1319\u001b[0m \u001b[0;34m\u001b[0m\u001b[0m\n\u001b[1;32m   1320\u001b[0m             \u001b[0;32mwith\u001b[0m \u001b[0moption_context\u001b[0m\u001b[0;34m(\u001b[0m\u001b[0;34m\"display.max_seq_items\"\u001b[0m\u001b[0;34m,\u001b[0m \u001b[0;36m10\u001b[0m\u001b[0;34m,\u001b[0m \u001b[0;34m\"display.width\"\u001b[0m\u001b[0;34m,\u001b[0m \u001b[0;36m80\u001b[0m\u001b[0;34m)\u001b[0m\u001b[0;34m:\u001b[0m\u001b[0;34m\u001b[0m\u001b[0;34m\u001b[0m\u001b[0m\n\u001b[0;32m-> 1321\u001b[0;31m                 raise KeyError(\n\u001b[0m\u001b[1;32m   1322\u001b[0m                     \u001b[0;34m\"Passing list-likes to .loc or [] with any missing labels \"\u001b[0m\u001b[0;34m\u001b[0m\u001b[0;34m\u001b[0m\u001b[0m\n\u001b[1;32m   1323\u001b[0m                     \u001b[0;34m\"is no longer supported. \"\u001b[0m\u001b[0;34m\u001b[0m\u001b[0;34m\u001b[0m\u001b[0m\n",
      "\u001b[0;31mKeyError\u001b[0m: \"Passing list-likes to .loc or [] with any missing labels is no longer supported. The following labels were missing: Int64Index([44932, 44940, 45961, 46432, 46494,\\n            ...\\n            96093, 96146, 96170, 96307, 96910],\\n           dtype='int64', name='id', length=69). See https://pandas.pydata.org/pandas-docs/stable/user_guide/indexing.html#deprecate-loc-reindex-listlike\""
     ]
    }
   ],
   "source": [
    "data_test = data.loc[test_indexes]\n",
    "data_train = data.loc[train_indexes]"
   ]
  },
  {
   "cell_type": "code",
   "execution_count": null,
   "metadata": {},
   "outputs": [],
   "source": [
    "data_test_target = data_test.is_canceled\n",
    "data_test_features = data_test.drop(['is_canceled', 'season_coef', 'room_price', 'revenue', 'profit'], axis=1)\n",
    "data_train_target = data_train.is_canceled\n",
    "data_train_features = data_train.drop(['is_canceled', 'season_coef', 'room_price', 'revenue', 'profit'], axis=1)\n"
   ]
  },
  {
   "cell_type": "markdown",
   "metadata": {},
   "source": [
    "### Разбиваем на обучающую и валидационную выборки"
   ]
  },
  {
   "cell_type": "code",
   "execution_count": null,
   "metadata": {},
   "outputs": [],
   "source": [
    "features_train, features_valid, target_train, target_valid = \\\n",
    "train_test_split(data_train_features, data_train_target, test_size=0.25, random_state=42, stratify=data_train_target)"
   ]
  },
  {
   "cell_type": "markdown",
   "metadata": {},
   "source": [
    "<div class=\"alert alert-warning\">\n",
    "    <h2> Комментарий ревьюера <a class=\"tocSkip\"> </h2>\n",
    "    \n",
    "<b>Некоторые замечания и рекомендации💡:</b> \n",
    "        \n",
    "Так как модели должны быть обучены и оценены с помощью кросс-валидации, то необязательно выделять валидационную выборку, чтобы модели досталось больше данных для обучения."
   ]
  },
  {
   "cell_type": "markdown",
   "metadata": {},
   "source": [
    "### Масштабирование признаков"
   ]
  },
  {
   "cell_type": "code",
   "execution_count": null,
   "metadata": {},
   "outputs": [],
   "source": [
    "features_train, features_valid, data_test_features = \\\n",
    "features_scalling(features_train, features_valid, data_test_features)"
   ]
  },
  {
   "cell_type": "markdown",
   "metadata": {},
   "source": [
    "### Логистическая регрессия"
   ]
  },
  {
   "cell_type": "code",
   "execution_count": null,
   "metadata": {},
   "outputs": [],
   "source": [
    "model = LogisticRegression(random_state=42, solver='lbfgs', max_iter=1000, class_weight='balanced')\n",
    "model.fit(features_train, target_train)\n",
    "predictions_is_canceled = model.predict(data_test_features)\n",
    "print(f'Точность логистической регрессии \\n\\\n",
    "На валидационной выборке: {model.score(features_valid, target_valid):.1%}\\n\\\n",
    "На тестовой выборке: {model.score(data_test_features, data_test_target):.1%}\\n\\\n",
    "В сравнении с константной моделью, предсказывающий наиболее популярный класс:\\\n",
    "    {data_test_target.value_counts(normalize=True)[0]:.1%}')\n"
   ]
  },
  {
   "cell_type": "markdown",
   "metadata": {},
   "source": [
    "<div class=\"alert alert-block alert-danger\">\n",
    "<h2> Комментарий ревьюера <a class=\"tocSkip\"></h2>\n",
    "\n",
    "    \n",
    "<b>На доработку🤔:</b>\n",
    "    \n",
    "Модели стоит оценивать по результатам кросс-валидации. Кроме того в методе score идет рассчет accuracy, что в условиях дисбаласнса не является объективной метрикой. "
   ]
  },
  {
   "cell_type": "code",
   "execution_count": null,
   "metadata": {},
   "outputs": [],
   "source": [
    "print(classification_report(data_test_target, predictions_is_canceled))"
   ]
  },
  {
   "cell_type": "markdown",
   "metadata": {},
   "source": [
    "Результаты неплохие, проверим, как увеличилась прибыль отеля при использовании депозита"
   ]
  },
  {
   "cell_type": "code",
   "execution_count": null,
   "metadata": {},
   "outputs": [],
   "source": [
    "data_test.insert(0, 'pred_is_canceled', predictions_is_canceled)"
   ]
  },
  {
   "cell_type": "markdown",
   "metadata": {},
   "source": [
    "Логика столбца new_profit:\n",
    "1. Если клиент приехал `(is_canceled == 0)`, то прибыль будет такая же как и раньше (депозит учитывается)\n",
    "2. Если клиент не приехал `(is_canceled == 1)` , но модель дает неверное предсказание `(pred_is_canceled == 0)`, тогда мы несем полные убытки, как и раньше (стоимость ночи + уборка)\n",
    "3.  Если клиент не приехал `(is_canceled == 1)`, но модель дает верное предсказание `(pred_is_canceled == 1)`, тогда его депозит в (стоимость ночи + уборка) * 0.8 сгорает. И наши убытки составляют 20% от того, что было раньше\n",
    "\n",
    "Проверочные данные в табличке"
   ]
  },
  {
   "cell_type": "code",
   "execution_count": null,
   "metadata": {},
   "outputs": [],
   "source": [
    "data_test['new_profit'] = (1 - data_test.is_canceled) * data.profit + data_test.is_canceled * \\\n",
    "    (1-data_test.pred_is_canceled) * data_test.profit + data_test.is_canceled * data_test.pred_is_canceled * \\\n",
    "        data_test.profit * 0.2\n",
    "data_test.loc[[97899, 6087, 6089], ['pred_is_canceled', 'is_canceled','stays_in_weekend_nights',\\\n",
    "    'stays_in_week_nights', 'room_price', 'season_coef', 'service_price', 'profit', 'new_profit']]"
   ]
  },
  {
   "cell_type": "markdown",
   "metadata": {},
   "source": [
    "<div class=\"alert alert-success\">\n",
    "<h2> Комментарий ревьюера <a class=\"tocSkip\"> </h2>\n",
    "\n",
    "<b>Все отлично!👍:</b> \n",
    "    \n",
    "Да, все верно.\n",
    "    "
   ]
  },
  {
   "cell_type": "code",
   "execution_count": null,
   "metadata": {},
   "outputs": [],
   "source": [
    "print(f'Прибыль отеля до внедрения модели: {data_test.profit.sum():,.0f}\\n\\\n",
    "Прибыль отеля после внедрения модели: {data_test.new_profit.sum():,.0f} \\n\\\n",
    "Прибыль увеличилась в {data_test.new_profit.sum() / data_test.profit.sum():.2f}раз ')\n"
   ]
  },
  {
   "cell_type": "markdown",
   "metadata": {},
   "source": [
    "<div class=\"alert alert-block alert-danger\">\n",
    "<h2> Комментарий ревьюера <a class=\"tocSkip\"></h2>\n",
    "\n",
    "    \n",
    "<b>На доработку🤔:</b>\n",
    "    \n",
    "Расчет прибыли после внедрения депозита мы делаем для лучшей модели, выбранной по результатам кросс-валидации."
   ]
  },
  {
   "cell_type": "markdown",
   "metadata": {},
   "source": [
    "### Случайный лес"
   ]
  },
  {
   "cell_type": "markdown",
   "metadata": {},
   "source": [
    "Для работы модели случайного леса нет необходимости в масштабировании признаков. Реализуем ее:"
   ]
  },
  {
   "cell_type": "code",
   "execution_count": null,
   "metadata": {},
   "outputs": [],
   "source": [
    "data_test = data.loc[test_indexes]\n",
    "data_train = data.loc[train_indexes]\n",
    "data_test_target = data_test.is_canceled\n",
    "data_test_features = data_test.drop(['is_canceled', 'season_coef', 'room_price', 'revenue', 'profit'], axis=1)\n",
    "data_train_target = data_train.is_canceled\n",
    "data_train_features = data_train.drop(['is_canceled', 'season_coef', 'room_price', 'revenue', 'profit'], axis=1)\n",
    "features_train, features_valid, target_train, \\\n",
    "    target_valid = train_test_split(data_train_features, data_train_target, \\\n",
    "        test_size=0.25, random_state=42, stratify=data_train_target)"
   ]
  },
  {
   "cell_type": "code",
   "execution_count": null,
   "metadata": {},
   "outputs": [],
   "source": [
    "best_forest_model = None\n",
    "best_profit_increase = 1\n",
    "for depth in tqdm(range(5,15)):\n",
    "    for est in range(1,101, 10):\n",
    "        for leaf in range(1,5):\n",
    "            #initialize model\n",
    "            model = RandomForestClassifier(random_state=42, \\\n",
    "                max_depth=depth, n_estimators=est, min_samples_leaf=leaf, class_weight='balanced')\n",
    "            model.fit(features_train, target_train)\n",
    "            #predictions for valid features\n",
    "            pred_is_canceled = model.predict(features_valid)\n",
    "            # count new profit\n",
    "            data_valid = data_train.loc[features_valid.index]\n",
    "            data_valid['pred_is_canceled'] = pred_is_canceled\n",
    "            data_valid['new_profit'] = (1 - data_valid.is_canceled) * data.profit \\\n",
    "                + data_valid.is_canceled * (1-data_valid.pred_is_canceled) * data_valid.profit \\\n",
    "                    + data_valid.is_canceled * data_valid.pred_is_canceled * data_valid.profit * 0.2\n",
    "            if data_valid['new_profit'].sum() > data_valid['profit'].sum():\n",
    "                best_forest_model = model\n",
    "                best_profit_increase = data_valid['new_profit'].sum() / data_valid['profit'].sum()\n",
    "                \n",
    "print(f'Прибыль на валидационной выборке увеличилась в: {best_profit_increase:.2f} раз')\n",
    "                "
   ]
  },
  {
   "cell_type": "code",
   "execution_count": null,
   "metadata": {},
   "outputs": [],
   "source": [
    "predictions_test = best_forest_model.predict(data_test_features)"
   ]
  },
  {
   "cell_type": "code",
   "execution_count": null,
   "metadata": {},
   "outputs": [],
   "source": [
    "print(classification_report(data_test_target, predictions_test))"
   ]
  },
  {
   "cell_type": "code",
   "execution_count": null,
   "metadata": {},
   "outputs": [],
   "source": [
    "data_test['pred_is_canceled'] = predictions_test"
   ]
  },
  {
   "cell_type": "code",
   "execution_count": null,
   "metadata": {},
   "outputs": [],
   "source": [
    "data_test['new_profit'] = (1 - data_test.is_canceled) * data.profit\\\n",
    "    + data_test.is_canceled * (1-data_test.pred_is_canceled) * data_test.profit\\\n",
    "        + data_test.is_canceled * data_test.pred_is_canceled * data_test.profit * 0.2"
   ]
  },
  {
   "cell_type": "markdown",
   "metadata": {},
   "source": [
    "<div class=\"alert alert-block alert-danger\">\n",
    "<h2> Комментарий ревьюера <a class=\"tocSkip\"></h2>\n",
    "\n",
    "    \n",
    "<b>На доработку🤔:</b>\n",
    "    \n",
    "Как минимум для 2х моделей стоит подобрать как минимум по 2 гиперпарметра"
   ]
  },
  {
   "cell_type": "markdown",
   "metadata": {},
   "source": [
    "### Модель максимальной прибыли"
   ]
  },
  {
   "cell_type": "markdown",
   "metadata": {},
   "source": [
    "В моем понимании задание получилось несколько неполное. Получается, что введенный депозит для клиента выгоден всегда, потому что:\n",
    "1. Клиент приехал = прибыль не изменилась\n",
    "2. Клиент не приехал = убытки меньше\n",
    "В такой ситуации выгоднее всего просто сделать обязательный депозит `pred_is_cancelded = 1` для всех клиентов. Таким образом, мы максимизируем метрику recall и найдем всех \"прогульщиков\" и получим максимальную прибыль. Ведь нас никак не штрафуют за ошибки!"
   ]
  },
  {
   "cell_type": "markdown",
   "metadata": {},
   "source": [
    "<div class=\"alert alert-warning\">\n",
    "    <h2> Комментарий ревьюера <a class=\"tocSkip\"> </h2>\n",
    "    \n",
    "<b>Некоторые замечания и рекомендации💡:</b> \n",
    "        \n",
    "Да, но в таком случае можно отпугнуть потенциально новых клиентов и не проявить лояльности к старым. Людям будет проще забронировать гостиницу, где не будут постоянно требовать депозит."
   ]
  },
  {
   "cell_type": "code",
   "execution_count": null,
   "metadata": {},
   "outputs": [],
   "source": [
    "data_test = data.loc[test_indexes]\n",
    "data_train = data.loc[train_indexes]"
   ]
  },
  {
   "cell_type": "code",
   "execution_count": null,
   "metadata": {},
   "outputs": [],
   "source": [
    "data_test_target = data_test.is_canceled\n",
    "data_test_features = data_test.drop(['is_canceled', 'season_coef', 'room_price', 'revenue', 'profit'], axis=1)\n",
    "data_train_target = data_train.is_canceled\n",
    "data_train_features = data_train.drop(['is_canceled', 'season_coef', 'room_price', 'revenue', 'profit'], axis=1)\n"
   ]
  },
  {
   "cell_type": "code",
   "execution_count": null,
   "metadata": {},
   "outputs": [],
   "source": [
    "data_test['pred_is_canceled'] = 1\n",
    "data_test['new_profit'] = (1 - data_test.is_canceled) \\\n",
    "    * data.profit + data_test.is_canceled * (1-data_test.pred_is_canceled) * \\\n",
    "        data_test.profit + data_test.is_canceled * data_test.pred_is_canceled * data_test.profit * 0.2\n",
    "print(f'Прибыль компании до внедрения модели: {data_test.profit.sum():,.0f}\\n\\\n",
    "Прибыль компании после внедрения модели: {data_test.new_profit.sum():,.0f}\\n\\\n",
    "Прибыль за тестовый период увеличилась в \\\n",
    "    {data_test.new_profit.sum() / data_test.profit.sum():.2f} раза или на \\\n",
    "        {(data_test.new_profit.sum() - data_test.profit.sum()) / 10**6:.1f} млн руб')"
   ]
  },
  {
   "cell_type": "code",
   "execution_count": null,
   "metadata": {},
   "outputs": [],
   "source": [
    "print(classification_report(data_test.is_canceled, data_test.pred_is_canceled))"
   ]
  },
  {
   "cell_type": "markdown",
   "metadata": {},
   "source": [
    "### Вывод по блоку \"разработка ML модели\"\n",
    "1. Введение депозита с рассмотренной точки зрения исключительно положительный шаг. Прибыль всегда получит неотрицательный рост. В реальной жизни депозиты могут отпугивать клиентов от бронирования отеля и нужно это учитывать.\n",
    "2. Модель логистической регрессии оказалась предпочтительней для максимизации прибыли, в сравнении с моделью случайного леса. Она дала схожий с моделью случайного леса f1-score 0.68 и 0.68 соответственно. При этом метрика recall у логистической регрессии выше 0.85 против 0.62 у случайного леса. В противовес, модель случайного леса покала лучше результаты в точности (0.75 лес против 0.56 регрессия). Для нас важнее полнота (метрика recall)\n",
    "3. Максимально прибыль удалось увеличить на 14.4 млн, выбрав константную модуль, сделав метрику recall = 1. Тогда f1-score становится 0.56, а точность нашей модели падает до 0.39 (доли отменяющих бронь)"
   ]
  },
  {
   "cell_type": "markdown",
   "metadata": {},
   "source": [
    "## Шаг 5. Опишите портрет «ненадёжного» клиента"
   ]
  },
  {
   "cell_type": "markdown",
   "metadata": {},
   "source": [
    "1. Забронировал отель как можно раньше до заезда\n",
    "2. Собирается приехать в высокий сезон (Лучше всего июнь)\n",
    "3. В бронировании указано, что проживать планируют 2 взрослых\n",
    "4. Бронирование сделанно из Португалии\n",
    "5. Бронирование сделано через туроперато или турагента\n",
    "6. Забронировал наиболее дорогой тип комнаты (A)\n",
    "7. Бронирование подтверждено не сразу\n",
    "8. Не является корпоративным клиентом"
   ]
  },
  {
   "cell_type": "markdown",
   "metadata": {},
   "source": [
    "<div class=\"alert alert-warning\">\n",
    "    <h2> Комментарий ревьюера <a class=\"tocSkip\"> </h2>\n",
    "    \n",
    "<b>Некоторые замечания и рекомендации💡:</b> \n",
    "        \n",
    "Этот анализ можно провести опираясь теперь на важность признаков для модели."
   ]
  },
  {
   "cell_type": "markdown",
   "metadata": {},
   "source": [
    "## Шаг 6. Напишите общий вывод"
   ]
  },
  {
   "cell_type": "markdown",
   "metadata": {},
   "source": [
    "### Общий вывод\n",
    "\n",
    "1. Разработана система прогнозирования отказа от брони, окупающаяся за тестовый период\n",
    "2. Наиболее эффективной моделью с точки зрения максимизации прибыли оказалась модель тотального введения депозитов для каждого клиента. Прибыль получила прирост в 14.4 млн руб на тестовом периоде. При этом данныя модель имеет никую точность и ошибается чаще, чем дает верное предсказание\n",
    "3. Оптимальной моделью на мой взгляд оказалась модель логистической регрессии. Позволяющая находить 85 % клиентов планирующих отменить бронь. Прибыль при использовании такой модели увеличивается на 38% или на 12.5 млн руб. При этом данная модель имеет точность дает верное предсказание по отмене брони в 56% случаев.\n",
    "4. Модель случайного леса, показала высокие результаты с точки зрения точности 75%. При этом смогла найти только 62% клиентов планирующих отмену бронирования. Также, на обучение данной модели тратиться значительно больше времени в сравнении с остальными\n",
    "5. Наиболее важными характеристиками ненадежного клиента оказались:\n",
    "* Бронирование задолго до заезда\n",
    "* Бронирование сделано из Португалии\n",
    "* Подтверждение получено не сразу"
   ]
  },
  {
   "cell_type": "markdown",
   "metadata": {},
   "source": [
    "<div style=\"border:solid Chocolate 2px; padding: 40px\">\n",
    "    \n",
    "<b>Общий вывод по проекту</b>\n",
    "\n",
    "Ярослав, спасибо за работу! Проект хороший, продуманный, структурно выдержанный. Однако стоит внести некоторые исправления, чтобы можно было считать работу завершенной.\n",
    "\n",
    "**Положительные моменты проекта, которые хочу еще раз подчеркнуть:**\n",
    "\n",
    "1. Есть первичный анализ данных\n",
    "2. Есть описание клиента склонного к отмене брони\n",
    "3. Предобработка данных проводится корректно\n",
    "4. Исследовано 2 модели  ML\n",
    "5. Расчет прибыли до и после внедрения депозитов верный\n",
    "\n",
    "**Замечания, на которые стоит обратить внимание при будущей работе:**\n",
    "    \n",
    "\n",
    "   \n",
    " \n",
    "    1. Стоит выбрать подходящую метрику и написать обоснование выбора метрики\n",
    "    2. Стоит проверить целевую переменную на дисбаланс\n",
    "    3. Стоит исправить функции расчета прибыли до и после внедрения системы депозитов\n",
    "    4. Как минимум для 2х моделей стоит подобрать как минимум по 2 гиперпараметра\n",
    "    5. Расчет прибыли и проверку на тестовой выборке стоит проводить только для лучшей модели\n",
    "    6. Модели оценивать на кросс-валидации\n",
    "    7. Обработать неявные дубликаты в строковых данных\n",
    "    8. Исправить ошибку в коде\n",
    "\n",
    "\n",
    "\n",
    "Остальные комментарии ты найдешь выше.\n",
    "\n",
    "**Желаю удачи и жду твой проект на повторное ревью!**"
   ]
  }
 ],
 "metadata": {
  "ExecuteTimeLog": [
   {
    "duration": 1459,
    "start_time": "2023-03-02T04:52:11.866Z"
   },
   {
    "duration": 2,
    "start_time": "2023-03-02T04:52:13.327Z"
   },
   {
    "duration": 963,
    "start_time": "2023-03-02T04:52:13.331Z"
   },
   {
    "duration": 93,
    "start_time": "2023-03-02T04:52:14.295Z"
   },
   {
    "duration": 21,
    "start_time": "2023-03-02T04:52:14.391Z"
   },
   {
    "duration": 3,
    "start_time": "2023-03-02T04:52:14.413Z"
   },
   {
    "duration": 30,
    "start_time": "2023-03-02T04:52:14.418Z"
   },
   {
    "duration": 44,
    "start_time": "2023-03-02T04:52:14.449Z"
   },
   {
    "duration": 3,
    "start_time": "2023-03-02T04:52:14.495Z"
   },
   {
    "duration": 692,
    "start_time": "2023-03-02T04:52:14.500Z"
   },
   {
    "duration": 45,
    "start_time": "2023-03-02T04:52:15.193Z"
   },
   {
    "duration": 4,
    "start_time": "2023-03-02T04:52:15.240Z"
   },
   {
    "duration": 849,
    "start_time": "2023-03-02T04:52:15.245Z"
   },
   {
    "duration": 7,
    "start_time": "2023-03-02T04:52:16.096Z"
   },
   {
    "duration": 14,
    "start_time": "2023-03-02T04:52:16.104Z"
   },
   {
    "duration": 3,
    "start_time": "2023-03-02T04:52:16.119Z"
   },
   {
    "duration": 753,
    "start_time": "2023-03-02T04:52:16.124Z"
   },
   {
    "duration": 12,
    "start_time": "2023-03-02T04:52:16.878Z"
   },
   {
    "duration": 655,
    "start_time": "2023-03-02T04:52:16.892Z"
   },
   {
    "duration": 18,
    "start_time": "2023-03-02T04:52:17.549Z"
   },
   {
    "duration": 379,
    "start_time": "2023-03-02T04:52:17.569Z"
   },
   {
    "duration": 1226,
    "start_time": "2023-03-02T04:52:17.950Z"
   },
   {
    "duration": 2487,
    "start_time": "2023-03-02T04:52:19.178Z"
   },
   {
    "duration": 0,
    "start_time": "2023-03-02T04:52:21.668Z"
   },
   {
    "duration": 0,
    "start_time": "2023-03-02T04:52:21.669Z"
   },
   {
    "duration": 0,
    "start_time": "2023-03-02T04:52:21.670Z"
   },
   {
    "duration": 0,
    "start_time": "2023-03-02T04:52:21.672Z"
   },
   {
    "duration": 0,
    "start_time": "2023-03-02T04:52:21.673Z"
   },
   {
    "duration": 1,
    "start_time": "2023-03-02T04:52:21.685Z"
   },
   {
    "duration": 0,
    "start_time": "2023-03-02T04:52:21.687Z"
   },
   {
    "duration": 0,
    "start_time": "2023-03-02T04:52:21.688Z"
   },
   {
    "duration": 0,
    "start_time": "2023-03-02T04:52:21.690Z"
   },
   {
    "duration": 0,
    "start_time": "2023-03-02T04:52:21.691Z"
   },
   {
    "duration": 0,
    "start_time": "2023-03-02T04:52:21.692Z"
   },
   {
    "duration": 0,
    "start_time": "2023-03-02T04:52:21.693Z"
   },
   {
    "duration": 0,
    "start_time": "2023-03-02T04:52:21.694Z"
   },
   {
    "duration": 0,
    "start_time": "2023-03-02T04:52:21.696Z"
   },
   {
    "duration": 0,
    "start_time": "2023-03-02T04:52:21.697Z"
   },
   {
    "duration": 0,
    "start_time": "2023-03-02T04:52:21.698Z"
   },
   {
    "duration": 0,
    "start_time": "2023-03-02T04:52:21.700Z"
   },
   {
    "duration": 0,
    "start_time": "2023-03-02T04:52:21.701Z"
   },
   {
    "duration": 0,
    "start_time": "2023-03-02T04:52:21.703Z"
   },
   {
    "duration": 0,
    "start_time": "2023-03-02T04:52:21.704Z"
   },
   {
    "duration": 0,
    "start_time": "2023-03-02T04:52:21.705Z"
   },
   {
    "duration": 0,
    "start_time": "2023-03-02T04:52:21.706Z"
   },
   {
    "duration": 0,
    "start_time": "2023-03-02T04:52:21.708Z"
   },
   {
    "duration": 0,
    "start_time": "2023-03-02T04:52:21.709Z"
   },
   {
    "duration": 0,
    "start_time": "2023-03-02T04:52:21.710Z"
   },
   {
    "duration": 0,
    "start_time": "2023-03-02T04:52:21.711Z"
   },
   {
    "duration": 0,
    "start_time": "2023-03-02T04:52:21.713Z"
   },
   {
    "duration": 0,
    "start_time": "2023-03-02T04:52:21.714Z"
   },
   {
    "duration": 0,
    "start_time": "2023-03-02T04:52:21.716Z"
   },
   {
    "duration": 0,
    "start_time": "2023-03-02T04:52:21.717Z"
   },
   {
    "duration": 0,
    "start_time": "2023-03-02T04:52:21.718Z"
   },
   {
    "duration": 0,
    "start_time": "2023-03-02T04:52:21.720Z"
   },
   {
    "duration": 0,
    "start_time": "2023-03-02T04:52:21.721Z"
   },
   {
    "duration": 0,
    "start_time": "2023-03-02T04:52:21.722Z"
   },
   {
    "duration": 0,
    "start_time": "2023-03-02T04:52:21.723Z"
   },
   {
    "duration": 0,
    "start_time": "2023-03-02T04:52:21.724Z"
   },
   {
    "duration": 0,
    "start_time": "2023-03-02T04:52:21.786Z"
   },
   {
    "duration": 0,
    "start_time": "2023-03-02T04:52:21.789Z"
   },
   {
    "duration": 0,
    "start_time": "2023-03-02T04:52:21.790Z"
   },
   {
    "duration": 1592,
    "start_time": "2023-03-02T09:17:39.519Z"
   },
   {
    "duration": 3,
    "start_time": "2023-03-02T09:17:41.113Z"
   },
   {
    "duration": 459,
    "start_time": "2023-03-02T09:17:41.117Z"
   },
   {
    "duration": 93,
    "start_time": "2023-03-02T09:17:41.578Z"
   },
   {
    "duration": 20,
    "start_time": "2023-03-02T09:17:41.673Z"
   },
   {
    "duration": 3,
    "start_time": "2023-03-02T09:17:41.695Z"
   },
   {
    "duration": 49,
    "start_time": "2023-03-02T09:17:41.699Z"
   },
   {
    "duration": 29,
    "start_time": "2023-03-02T09:17:41.750Z"
   },
   {
    "duration": 4,
    "start_time": "2023-03-02T09:17:41.780Z"
   },
   {
    "duration": 704,
    "start_time": "2023-03-02T09:17:41.787Z"
   },
   {
    "duration": 60,
    "start_time": "2023-03-02T09:17:42.492Z"
   },
   {
    "duration": 4,
    "start_time": "2023-03-02T09:17:42.554Z"
   },
   {
    "duration": 865,
    "start_time": "2023-03-02T09:17:42.559Z"
   },
   {
    "duration": 10,
    "start_time": "2023-03-02T09:17:43.426Z"
   },
   {
    "duration": 32,
    "start_time": "2023-03-02T09:17:43.437Z"
   },
   {
    "duration": 3,
    "start_time": "2023-03-02T09:17:43.471Z"
   },
   {
    "duration": 699,
    "start_time": "2023-03-02T09:17:43.475Z"
   },
   {
    "duration": 12,
    "start_time": "2023-03-02T09:17:44.176Z"
   },
   {
    "duration": 721,
    "start_time": "2023-03-02T09:17:44.189Z"
   },
   {
    "duration": 24,
    "start_time": "2023-03-02T09:17:44.912Z"
   },
   {
    "duration": 413,
    "start_time": "2023-03-02T09:17:44.937Z"
   },
   {
    "duration": 1412,
    "start_time": "2023-03-02T09:17:45.352Z"
   },
   {
    "duration": 2868,
    "start_time": "2023-03-02T09:17:46.767Z"
   },
   {
    "duration": 0,
    "start_time": "2023-03-02T09:17:49.638Z"
   },
   {
    "duration": 0,
    "start_time": "2023-03-02T09:17:49.639Z"
   },
   {
    "duration": 0,
    "start_time": "2023-03-02T09:17:49.648Z"
   },
   {
    "duration": 0,
    "start_time": "2023-03-02T09:17:49.649Z"
   },
   {
    "duration": 0,
    "start_time": "2023-03-02T09:17:49.650Z"
   },
   {
    "duration": 0,
    "start_time": "2023-03-02T09:17:49.651Z"
   },
   {
    "duration": 0,
    "start_time": "2023-03-02T09:17:49.652Z"
   },
   {
    "duration": 0,
    "start_time": "2023-03-02T09:17:49.653Z"
   },
   {
    "duration": 1,
    "start_time": "2023-03-02T09:17:49.654Z"
   },
   {
    "duration": 0,
    "start_time": "2023-03-02T09:17:49.656Z"
   },
   {
    "duration": 0,
    "start_time": "2023-03-02T09:17:49.657Z"
   },
   {
    "duration": 0,
    "start_time": "2023-03-02T09:17:49.659Z"
   },
   {
    "duration": 0,
    "start_time": "2023-03-02T09:17:49.660Z"
   },
   {
    "duration": 0,
    "start_time": "2023-03-02T09:17:49.661Z"
   },
   {
    "duration": 0,
    "start_time": "2023-03-02T09:17:49.662Z"
   },
   {
    "duration": 0,
    "start_time": "2023-03-02T09:17:49.663Z"
   },
   {
    "duration": 0,
    "start_time": "2023-03-02T09:17:49.664Z"
   },
   {
    "duration": 0,
    "start_time": "2023-03-02T09:17:49.665Z"
   },
   {
    "duration": 0,
    "start_time": "2023-03-02T09:17:49.666Z"
   },
   {
    "duration": 0,
    "start_time": "2023-03-02T09:17:49.668Z"
   },
   {
    "duration": 0,
    "start_time": "2023-03-02T09:17:49.668Z"
   },
   {
    "duration": 0,
    "start_time": "2023-03-02T09:17:49.669Z"
   },
   {
    "duration": 0,
    "start_time": "2023-03-02T09:17:49.670Z"
   },
   {
    "duration": 0,
    "start_time": "2023-03-02T09:17:49.672Z"
   },
   {
    "duration": 0,
    "start_time": "2023-03-02T09:17:49.673Z"
   },
   {
    "duration": 0,
    "start_time": "2023-03-02T09:17:49.674Z"
   },
   {
    "duration": 0,
    "start_time": "2023-03-02T09:17:49.676Z"
   },
   {
    "duration": 0,
    "start_time": "2023-03-02T09:17:49.678Z"
   },
   {
    "duration": 0,
    "start_time": "2023-03-02T09:17:49.679Z"
   },
   {
    "duration": 0,
    "start_time": "2023-03-02T09:17:49.681Z"
   },
   {
    "duration": 0,
    "start_time": "2023-03-02T09:17:49.682Z"
   },
   {
    "duration": 0,
    "start_time": "2023-03-02T09:17:49.683Z"
   },
   {
    "duration": 0,
    "start_time": "2023-03-02T09:17:49.685Z"
   },
   {
    "duration": 0,
    "start_time": "2023-03-02T09:17:49.686Z"
   },
   {
    "duration": 0,
    "start_time": "2023-03-02T09:17:49.687Z"
   },
   {
    "duration": 0,
    "start_time": "2023-03-02T09:17:49.688Z"
   },
   {
    "duration": 0,
    "start_time": "2023-03-02T09:17:49.749Z"
   },
   {
    "duration": 0,
    "start_time": "2023-03-02T09:17:49.751Z"
   },
   {
    "duration": 0,
    "start_time": "2023-03-02T09:17:49.752Z"
   },
   {
    "duration": 2579,
    "start_time": "2023-03-02T09:24:36.571Z"
   },
   {
    "duration": 345,
    "start_time": "2023-03-02T09:24:56.393Z"
   },
   {
    "duration": 2690,
    "start_time": "2023-03-02T09:25:15.546Z"
   },
   {
    "duration": 1568,
    "start_time": "2023-03-03T08:36:08.855Z"
   },
   {
    "duration": 8,
    "start_time": "2023-03-03T08:36:16.599Z"
   },
   {
    "duration": 492,
    "start_time": "2023-03-03T08:36:17.813Z"
   },
   {
    "duration": 105,
    "start_time": "2023-03-03T08:36:20.370Z"
   },
   {
    "duration": 27,
    "start_time": "2023-03-03T08:36:21.570Z"
   },
   {
    "duration": 3,
    "start_time": "2023-03-03T08:36:22.097Z"
   },
   {
    "duration": 34,
    "start_time": "2023-03-03T08:36:22.372Z"
   },
   {
    "duration": 28,
    "start_time": "2023-03-03T08:36:23.109Z"
   },
   {
    "duration": 5,
    "start_time": "2023-03-03T08:36:26.613Z"
   },
   {
    "duration": 701,
    "start_time": "2023-03-03T08:36:29.907Z"
   },
   {
    "duration": 6,
    "start_time": "2023-03-03T08:38:34.445Z"
   },
   {
    "duration": 8,
    "start_time": "2023-03-03T08:38:36.310Z"
   },
   {
    "duration": 1420,
    "start_time": "2023-03-03T08:38:43.357Z"
   },
   {
    "duration": 4,
    "start_time": "2023-03-03T08:39:15.457Z"
   },
   {
    "duration": 9,
    "start_time": "2023-03-03T08:39:16.099Z"
   },
   {
    "duration": 3,
    "start_time": "2023-03-03T08:39:16.513Z"
   },
   {
    "duration": 242,
    "start_time": "2023-03-03T08:39:17.072Z"
   },
   {
    "duration": 98,
    "start_time": "2023-03-03T08:39:18.542Z"
   },
   {
    "duration": 22,
    "start_time": "2023-03-03T08:39:19.254Z"
   },
   {
    "duration": 3,
    "start_time": "2023-03-03T08:39:19.454Z"
   },
   {
    "duration": 30,
    "start_time": "2023-03-03T08:39:19.646Z"
   },
   {
    "duration": 29,
    "start_time": "2023-03-03T08:39:20.247Z"
   },
   {
    "duration": 667,
    "start_time": "2023-03-03T08:39:21.278Z"
   },
   {
    "duration": 53,
    "start_time": "2023-03-03T08:39:58.271Z"
   },
   {
    "duration": 795,
    "start_time": "2023-03-03T08:39:58.469Z"
   },
   {
    "duration": 9,
    "start_time": "2023-03-03T08:39:59.266Z"
   },
   {
    "duration": 19,
    "start_time": "2023-03-03T08:39:59.831Z"
   },
   {
    "duration": 659,
    "start_time": "2023-03-03T08:40:01.607Z"
   },
   {
    "duration": 18,
    "start_time": "2023-03-03T08:40:02.291Z"
   },
   {
    "duration": 664,
    "start_time": "2023-03-03T08:40:04.301Z"
   },
   {
    "duration": 52,
    "start_time": "2023-03-03T08:42:27.700Z"
   },
   {
    "duration": 2,
    "start_time": "2023-03-03T08:42:57.446Z"
   },
   {
    "duration": 110,
    "start_time": "2023-03-03T08:44:31.154Z"
   },
   {
    "duration": 3444,
    "start_time": "2023-03-03T08:45:04.626Z"
   },
   {
    "duration": 18,
    "start_time": "2023-03-03T08:45:11.754Z"
   },
   {
    "duration": 7433,
    "start_time": "2023-03-03T08:45:32.442Z"
   },
   {
    "duration": 7617,
    "start_time": "2023-03-03T08:45:57.943Z"
   },
   {
    "duration": 5,
    "start_time": "2023-03-03T08:46:16.891Z"
   },
   {
    "duration": 7454,
    "start_time": "2023-03-03T08:46:42.783Z"
   },
   {
    "duration": 7034,
    "start_time": "2023-03-03T08:47:47.075Z"
   },
   {
    "duration": 7149,
    "start_time": "2023-03-03T08:48:39.869Z"
   },
   {
    "duration": 12,
    "start_time": "2023-03-03T08:51:46.514Z"
   },
   {
    "duration": 10,
    "start_time": "2023-03-03T08:55:11.838Z"
   },
   {
    "duration": 5,
    "start_time": "2023-03-03T08:55:18.308Z"
   },
   {
    "duration": 5,
    "start_time": "2023-03-03T08:55:31.574Z"
   },
   {
    "duration": 4,
    "start_time": "2023-03-03T08:56:13.559Z"
   },
   {
    "duration": 34,
    "start_time": "2023-03-03T08:56:41.204Z"
   },
   {
    "duration": 30,
    "start_time": "2023-03-03T08:57:07.904Z"
   },
   {
    "duration": 12,
    "start_time": "2023-03-03T08:57:31.253Z"
   },
   {
    "duration": 29,
    "start_time": "2023-03-03T08:57:37.134Z"
   },
   {
    "duration": 41,
    "start_time": "2023-03-03T08:57:40.177Z"
   },
   {
    "duration": 38,
    "start_time": "2023-03-03T08:57:46.425Z"
   },
   {
    "duration": 33,
    "start_time": "2023-03-03T08:57:53.032Z"
   },
   {
    "duration": 53,
    "start_time": "2023-03-03T08:59:08.973Z"
   },
   {
    "duration": 82,
    "start_time": "2023-03-03T08:59:16.970Z"
   },
   {
    "duration": 57,
    "start_time": "2023-03-03T08:59:40.009Z"
   },
   {
    "duration": 72,
    "start_time": "2023-03-03T08:59:54.950Z"
   },
   {
    "duration": 51,
    "start_time": "2023-03-03T09:00:17.120Z"
   },
   {
    "duration": 109,
    "start_time": "2023-03-03T09:00:25.729Z"
   },
   {
    "duration": 8,
    "start_time": "2023-03-03T09:00:30.417Z"
   },
   {
    "duration": 6,
    "start_time": "2023-03-03T09:00:46.921Z"
   },
   {
    "duration": 5,
    "start_time": "2023-03-03T09:00:58.308Z"
   },
   {
    "duration": 9,
    "start_time": "2023-03-03T09:01:25.562Z"
   },
   {
    "duration": 7,
    "start_time": "2023-03-03T09:01:32.769Z"
   },
   {
    "duration": 4,
    "start_time": "2023-03-03T09:05:09.755Z"
   },
   {
    "duration": 29,
    "start_time": "2023-03-03T09:05:12.659Z"
   },
   {
    "duration": 45,
    "start_time": "2023-03-03T09:05:23.488Z"
   },
   {
    "duration": 22,
    "start_time": "2023-03-03T09:05:30.012Z"
   },
   {
    "duration": 30,
    "start_time": "2023-03-03T09:05:37.206Z"
   },
   {
    "duration": 12,
    "start_time": "2023-03-03T09:07:12.887Z"
   },
   {
    "duration": 12,
    "start_time": "2023-03-03T09:07:16.558Z"
   },
   {
    "duration": 6,
    "start_time": "2023-03-03T09:07:18.467Z"
   },
   {
    "duration": 7,
    "start_time": "2023-03-03T09:07:36.060Z"
   },
   {
    "duration": 11,
    "start_time": "2023-03-03T09:07:47.491Z"
   },
   {
    "duration": 8,
    "start_time": "2023-03-03T09:07:58.980Z"
   },
   {
    "duration": 17,
    "start_time": "2023-03-03T09:08:33.780Z"
   },
   {
    "duration": 25,
    "start_time": "2023-03-03T09:08:43.277Z"
   },
   {
    "duration": 43,
    "start_time": "2023-03-03T09:08:48.753Z"
   },
   {
    "duration": 40,
    "start_time": "2023-03-03T09:08:53.412Z"
   },
   {
    "duration": 49,
    "start_time": "2023-03-03T09:08:57.788Z"
   },
   {
    "duration": 16,
    "start_time": "2023-03-03T09:09:00.348Z"
   },
   {
    "duration": 31,
    "start_time": "2023-03-03T09:10:00.628Z"
   },
   {
    "duration": 40,
    "start_time": "2023-03-03T09:10:56.923Z"
   },
   {
    "duration": 5,
    "start_time": "2023-03-03T09:11:31.877Z"
   },
   {
    "duration": 5,
    "start_time": "2023-03-03T09:11:34.863Z"
   },
   {
    "duration": 6,
    "start_time": "2023-03-03T09:11:42.463Z"
   },
   {
    "duration": 5,
    "start_time": "2023-03-03T09:11:45.860Z"
   },
   {
    "duration": 19,
    "start_time": "2023-03-03T09:12:00.919Z"
   },
   {
    "duration": 9,
    "start_time": "2023-03-03T09:12:52.713Z"
   },
   {
    "duration": 4,
    "start_time": "2023-03-03T09:12:54.416Z"
   },
   {
    "duration": 5,
    "start_time": "2023-03-03T09:13:02.069Z"
   },
   {
    "duration": 18,
    "start_time": "2023-03-03T09:14:17.803Z"
   },
   {
    "duration": 43,
    "start_time": "2023-03-03T09:14:23.223Z"
   },
   {
    "duration": 38,
    "start_time": "2023-03-03T09:14:27.710Z"
   },
   {
    "duration": 14,
    "start_time": "2023-03-03T09:14:31.249Z"
   },
   {
    "duration": 10,
    "start_time": "2023-03-03T09:14:55.087Z"
   },
   {
    "duration": 14,
    "start_time": "2023-03-03T09:16:05.453Z"
   },
   {
    "duration": 40,
    "start_time": "2023-03-03T09:16:11.032Z"
   },
   {
    "duration": 25,
    "start_time": "2023-03-03T09:17:33.423Z"
   },
   {
    "duration": 29,
    "start_time": "2023-03-03T09:17:42.033Z"
   },
   {
    "duration": 28,
    "start_time": "2023-03-03T09:17:51.434Z"
   },
   {
    "duration": 66,
    "start_time": "2023-03-03T09:17:54.984Z"
   },
   {
    "duration": 52,
    "start_time": "2023-03-03T09:18:00.089Z"
   },
   {
    "duration": 33,
    "start_time": "2023-03-03T09:18:08.369Z"
   },
   {
    "duration": 69,
    "start_time": "2023-03-03T09:18:36.592Z"
   },
   {
    "duration": 57,
    "start_time": "2023-03-03T09:18:50.217Z"
   },
   {
    "duration": 59,
    "start_time": "2023-03-03T09:18:54.016Z"
   },
   {
    "duration": 53,
    "start_time": "2023-03-03T09:19:03.297Z"
   },
   {
    "duration": 49,
    "start_time": "2023-03-03T09:19:06.976Z"
   },
   {
    "duration": 26,
    "start_time": "2023-03-03T09:19:08.855Z"
   },
   {
    "duration": 28,
    "start_time": "2023-03-03T09:19:42.088Z"
   },
   {
    "duration": 33,
    "start_time": "2023-03-03T09:20:09.979Z"
   },
   {
    "duration": 50,
    "start_time": "2023-03-03T09:20:16.298Z"
   },
   {
    "duration": 19,
    "start_time": "2023-03-03T09:20:19.930Z"
   },
   {
    "duration": 37,
    "start_time": "2023-03-03T09:20:22.217Z"
   },
   {
    "duration": 97,
    "start_time": "2023-03-03T09:20:28.937Z"
   },
   {
    "duration": 110,
    "start_time": "2023-03-03T09:20:33.554Z"
   },
   {
    "duration": 157,
    "start_time": "2023-03-03T09:20:52.024Z"
   },
   {
    "duration": 163,
    "start_time": "2023-03-03T09:20:55.825Z"
   },
   {
    "duration": 126,
    "start_time": "2023-03-03T09:21:59.122Z"
   },
   {
    "duration": 123,
    "start_time": "2023-03-03T09:22:06.412Z"
   },
   {
    "duration": 98,
    "start_time": "2023-03-03T09:22:13.428Z"
   },
   {
    "duration": 152,
    "start_time": "2023-03-03T09:22:22.258Z"
   },
   {
    "duration": 13,
    "start_time": "2023-03-03T09:22:34.711Z"
   },
   {
    "duration": 16,
    "start_time": "2023-03-03T09:22:46.884Z"
   },
   {
    "duration": 17,
    "start_time": "2023-03-03T09:26:09.091Z"
   },
   {
    "duration": 24,
    "start_time": "2023-03-03T09:26:16.580Z"
   },
   {
    "duration": 5,
    "start_time": "2023-03-03T09:26:21.124Z"
   },
   {
    "duration": 15,
    "start_time": "2023-03-03T09:26:43.413Z"
   },
   {
    "duration": 12,
    "start_time": "2023-03-03T09:27:00.347Z"
   },
   {
    "duration": 13,
    "start_time": "2023-03-03T09:27:06.876Z"
   },
   {
    "duration": 5,
    "start_time": "2023-03-03T09:27:13.357Z"
   },
   {
    "duration": 35,
    "start_time": "2023-03-03T09:27:22.828Z"
   },
   {
    "duration": 10,
    "start_time": "2023-03-03T09:27:50.612Z"
   },
   {
    "duration": 5,
    "start_time": "2023-03-03T09:27:54.708Z"
   },
   {
    "duration": 10,
    "start_time": "2023-03-03T09:28:06.869Z"
   },
   {
    "duration": 11,
    "start_time": "2023-03-03T09:28:09.220Z"
   },
   {
    "duration": 7,
    "start_time": "2023-03-03T09:28:17.651Z"
   },
   {
    "duration": 35,
    "start_time": "2023-03-03T09:28:23.718Z"
   },
   {
    "duration": 49,
    "start_time": "2023-03-03T09:28:31.815Z"
   },
   {
    "duration": 35,
    "start_time": "2023-03-03T09:28:37.372Z"
   },
   {
    "duration": 76,
    "start_time": "2023-03-03T09:28:50.807Z"
   },
   {
    "duration": 84,
    "start_time": "2023-03-03T09:29:00.677Z"
   },
   {
    "duration": 1480,
    "start_time": "2023-03-03T09:29:20.224Z"
   },
   {
    "duration": 11,
    "start_time": "2023-03-03T09:29:21.708Z"
   },
   {
    "duration": 2,
    "start_time": "2023-03-03T09:29:23.013Z"
   },
   {
    "duration": 257,
    "start_time": "2023-03-03T09:29:23.261Z"
   },
   {
    "duration": 31,
    "start_time": "2023-03-03T09:29:31.717Z"
   },
   {
    "duration": 83,
    "start_time": "2023-03-03T09:29:36.784Z"
   },
   {
    "duration": 62,
    "start_time": "2023-03-03T09:29:40.581Z"
   },
   {
    "duration": 55,
    "start_time": "2023-03-03T09:29:46.974Z"
   },
   {
    "duration": 95,
    "start_time": "2023-03-03T09:29:52.156Z"
   },
   {
    "duration": 23,
    "start_time": "2023-03-03T09:30:10.009Z"
   },
   {
    "duration": 3,
    "start_time": "2023-03-03T09:30:10.165Z"
   },
   {
    "duration": 41,
    "start_time": "2023-03-03T09:30:10.311Z"
   },
   {
    "duration": 42,
    "start_time": "2023-03-03T09:30:13.804Z"
   },
   {
    "duration": 880,
    "start_time": "2023-03-03T09:30:18.201Z"
   },
   {
    "duration": 70,
    "start_time": "2023-03-03T09:30:19.083Z"
   },
   {
    "duration": 914,
    "start_time": "2023-03-03T09:30:19.155Z"
   },
   {
    "duration": 7,
    "start_time": "2023-03-03T09:30:20.071Z"
   },
   {
    "duration": 30,
    "start_time": "2023-03-03T09:30:20.080Z"
   },
   {
    "duration": 689,
    "start_time": "2023-03-03T09:30:20.125Z"
   },
   {
    "duration": 14,
    "start_time": "2023-03-03T09:30:20.816Z"
   },
   {
    "duration": 642,
    "start_time": "2023-03-03T09:30:21.021Z"
   },
   {
    "duration": 8217,
    "start_time": "2023-03-03T09:30:22.443Z"
   },
   {
    "duration": 12,
    "start_time": "2023-03-03T09:30:30.662Z"
   },
   {
    "duration": 42,
    "start_time": "2023-03-03T09:30:30.676Z"
   },
   {
    "duration": 33,
    "start_time": "2023-03-03T09:30:30.721Z"
   },
   {
    "duration": 1521,
    "start_time": "2023-03-03T09:31:00.632Z"
   },
   {
    "duration": 9,
    "start_time": "2023-03-03T09:31:02.155Z"
   },
   {
    "duration": 76,
    "start_time": "2023-03-03T09:31:02.166Z"
   },
   {
    "duration": 263,
    "start_time": "2023-03-03T09:31:02.423Z"
   },
   {
    "duration": 102,
    "start_time": "2023-03-03T09:31:04.477Z"
   },
   {
    "duration": 59,
    "start_time": "2023-03-03T09:31:13.550Z"
   },
   {
    "duration": 28,
    "start_time": "2023-03-03T09:31:44.256Z"
   },
   {
    "duration": 72,
    "start_time": "2023-03-03T09:31:49.384Z"
   },
   {
    "duration": 61,
    "start_time": "2023-03-03T09:31:52.223Z"
   },
   {
    "duration": 38,
    "start_time": "2023-03-03T09:32:20.262Z"
   },
   {
    "duration": 29,
    "start_time": "2023-03-03T09:32:28.794Z"
   },
   {
    "duration": 71,
    "start_time": "2023-03-03T09:32:53.863Z"
   },
   {
    "duration": 38,
    "start_time": "2023-03-03T09:32:57.730Z"
   },
   {
    "duration": 20,
    "start_time": "2023-03-03T09:33:44.719Z"
   },
   {
    "duration": 3,
    "start_time": "2023-03-03T09:33:45.229Z"
   },
   {
    "duration": 31,
    "start_time": "2023-03-03T09:33:45.260Z"
   },
   {
    "duration": 50,
    "start_time": "2023-03-03T09:33:45.357Z"
   },
   {
    "duration": 759,
    "start_time": "2023-03-03T09:33:45.520Z"
   },
   {
    "duration": 5,
    "start_time": "2023-03-03T09:34:01.244Z"
   },
   {
    "duration": 59,
    "start_time": "2023-03-03T09:34:01.251Z"
   },
   {
    "duration": 30,
    "start_time": "2023-03-03T09:34:01.312Z"
   },
   {
    "duration": 276,
    "start_time": "2023-03-03T09:34:01.344Z"
   },
   {
    "duration": 103,
    "start_time": "2023-03-03T09:34:01.623Z"
   },
   {
    "duration": 13,
    "start_time": "2023-03-03T09:34:01.727Z"
   },
   {
    "duration": 26,
    "start_time": "2023-03-03T09:34:01.742Z"
   },
   {
    "duration": 57,
    "start_time": "2023-03-03T09:34:01.770Z"
   },
   {
    "duration": 31,
    "start_time": "2023-03-03T09:34:01.829Z"
   },
   {
    "duration": 656,
    "start_time": "2023-03-03T09:34:01.861Z"
   },
   {
    "duration": 52,
    "start_time": "2023-03-03T09:34:02.519Z"
   },
   {
    "duration": 898,
    "start_time": "2023-03-03T09:34:02.572Z"
   },
   {
    "duration": 9,
    "start_time": "2023-03-03T09:34:03.472Z"
   },
   {
    "duration": 33,
    "start_time": "2023-03-03T09:34:03.493Z"
   },
   {
    "duration": 713,
    "start_time": "2023-03-03T09:34:03.527Z"
   },
   {
    "duration": 11,
    "start_time": "2023-03-03T09:34:04.242Z"
   },
   {
    "duration": 646,
    "start_time": "2023-03-03T09:34:04.255Z"
   },
   {
    "duration": 7552,
    "start_time": "2023-03-03T09:34:04.904Z"
   },
   {
    "duration": 11,
    "start_time": "2023-03-03T09:34:12.458Z"
   },
   {
    "duration": 11,
    "start_time": "2023-03-03T09:34:12.471Z"
   },
   {
    "duration": 14,
    "start_time": "2023-03-03T09:34:12.484Z"
   },
   {
    "duration": 114,
    "start_time": "2023-03-03T09:34:12.503Z"
   },
   {
    "duration": 0,
    "start_time": "2023-03-03T09:34:12.618Z"
   },
   {
    "duration": 14,
    "start_time": "2023-03-03T09:34:18.064Z"
   },
   {
    "duration": 20,
    "start_time": "2023-03-03T09:34:23.080Z"
   },
   {
    "duration": 71,
    "start_time": "2023-03-03T09:35:03.057Z"
   },
   {
    "duration": 4,
    "start_time": "2023-03-03T09:36:39.721Z"
   },
   {
    "duration": 9,
    "start_time": "2023-03-03T09:36:46.937Z"
   },
   {
    "duration": 248,
    "start_time": "2023-03-03T09:37:30.776Z"
   },
   {
    "duration": 184,
    "start_time": "2023-03-03T09:37:49.770Z"
   },
   {
    "duration": 123,
    "start_time": "2023-03-03T09:38:26.052Z"
   },
   {
    "duration": 84,
    "start_time": "2023-03-03T09:38:45.058Z"
   },
   {
    "duration": 61,
    "start_time": "2023-03-03T09:38:52.954Z"
   },
   {
    "duration": 160,
    "start_time": "2023-03-03T09:38:58.309Z"
   },
   {
    "duration": 128,
    "start_time": "2023-03-03T09:39:10.218Z"
   },
   {
    "duration": 41,
    "start_time": "2023-03-03T09:39:15.530Z"
   },
   {
    "duration": 279,
    "start_time": "2023-03-03T09:40:11.553Z"
   },
   {
    "duration": 276,
    "start_time": "2023-03-03T09:40:35.172Z"
   },
   {
    "duration": 42,
    "start_time": "2023-03-03T09:45:26.870Z"
   },
   {
    "duration": 91,
    "start_time": "2023-03-03T09:45:39.263Z"
   },
   {
    "duration": 80,
    "start_time": "2023-03-03T09:45:51.236Z"
   },
   {
    "duration": 71,
    "start_time": "2023-03-03T09:45:54.905Z"
   },
   {
    "duration": 87,
    "start_time": "2023-03-03T09:45:58.222Z"
   },
   {
    "duration": 117,
    "start_time": "2023-03-03T09:46:08.478Z"
   },
   {
    "duration": 105,
    "start_time": "2023-03-03T09:46:13.611Z"
   },
   {
    "duration": 119,
    "start_time": "2023-03-03T09:46:21.654Z"
   },
   {
    "duration": 41,
    "start_time": "2023-03-03T09:46:28.759Z"
   },
   {
    "duration": 395,
    "start_time": "2023-03-03T09:46:34.839Z"
   },
   {
    "duration": 1131,
    "start_time": "2023-03-03T09:46:39.785Z"
   },
   {
    "duration": 2562,
    "start_time": "2023-03-03T09:46:50.806Z"
   },
   {
    "duration": 2625,
    "start_time": "2023-03-03T09:49:10.087Z"
   },
   {
    "duration": 2808,
    "start_time": "2023-03-03T09:49:32.806Z"
   },
   {
    "duration": 2655,
    "start_time": "2023-03-03T09:49:42.565Z"
   },
   {
    "duration": 3073,
    "start_time": "2023-03-03T09:50:04.099Z"
   },
   {
    "duration": 1043,
    "start_time": "2023-03-03T09:50:09.864Z"
   },
   {
    "duration": 1293,
    "start_time": "2023-03-03T09:50:23.136Z"
   },
   {
    "duration": 5076,
    "start_time": "2023-03-03T09:52:31.604Z"
   },
   {
    "duration": 3330,
    "start_time": "2023-03-03T09:52:45.908Z"
   },
   {
    "duration": 3024,
    "start_time": "2023-03-03T09:52:58.633Z"
   },
   {
    "duration": 2873,
    "start_time": "2023-03-03T09:54:00.998Z"
   },
   {
    "duration": 2797,
    "start_time": "2023-03-03T09:54:11.563Z"
   },
   {
    "duration": 2929,
    "start_time": "2023-03-03T09:54:48.108Z"
   },
   {
    "duration": 3165,
    "start_time": "2023-03-03T09:54:54.478Z"
   },
   {
    "duration": 3295,
    "start_time": "2023-03-03T09:55:05.874Z"
   },
   {
    "duration": 1477,
    "start_time": "2023-03-03T09:56:08.563Z"
   },
   {
    "duration": 3595,
    "start_time": "2023-03-03T09:56:34.645Z"
   },
   {
    "duration": 178,
    "start_time": "2023-03-03T09:58:50.470Z"
   },
   {
    "duration": 178,
    "start_time": "2023-03-03T09:58:53.491Z"
   },
   {
    "duration": 136,
    "start_time": "2023-03-03T09:58:54.868Z"
   },
   {
    "duration": 21,
    "start_time": "2023-03-03T09:58:55.062Z"
   },
   {
    "duration": 19,
    "start_time": "2023-03-03T09:58:55.875Z"
   },
   {
    "duration": 22,
    "start_time": "2023-03-03T09:58:56.258Z"
   },
   {
    "duration": 27,
    "start_time": "2023-03-03T09:58:57.245Z"
   },
   {
    "duration": 125,
    "start_time": "2023-03-03T09:58:57.818Z"
   },
   {
    "duration": 16,
    "start_time": "2023-03-03T09:58:58.865Z"
   },
   {
    "duration": 10,
    "start_time": "2023-03-03T09:58:59.132Z"
   },
   {
    "duration": 356,
    "start_time": "2023-03-03T09:58:59.363Z"
   },
   {
    "duration": 308,
    "start_time": "2023-03-03T09:59:16.365Z"
   },
   {
    "duration": 250,
    "start_time": "2023-03-03T09:59:19.164Z"
   },
   {
    "duration": 227,
    "start_time": "2023-03-03T10:00:56.692Z"
   },
   {
    "duration": 201,
    "start_time": "2023-03-03T10:00:57.220Z"
   },
   {
    "duration": 143,
    "start_time": "2023-03-03T10:00:57.630Z"
   },
   {
    "duration": 22,
    "start_time": "2023-03-03T10:00:59.828Z"
   },
   {
    "duration": 32,
    "start_time": "2023-03-03T10:01:42.813Z"
   },
   {
    "duration": 19,
    "start_time": "2023-03-03T10:01:52.153Z"
   },
   {
    "duration": 28,
    "start_time": "2023-03-03T10:02:03.612Z"
   },
   {
    "duration": 205,
    "start_time": "2023-03-03T10:02:33.413Z"
   },
   {
    "duration": 28,
    "start_time": "2023-03-03T10:02:49.669Z"
   },
   {
    "duration": 13,
    "start_time": "2023-03-03T10:02:55.592Z"
   },
   {
    "duration": 250,
    "start_time": "2023-03-03T10:02:56.304Z"
   },
   {
    "duration": 12,
    "start_time": "2023-03-03T10:03:14.801Z"
   },
   {
    "duration": 212,
    "start_time": "2023-03-03T10:03:15.251Z"
   },
   {
    "duration": 29,
    "start_time": "2023-03-03T10:04:12.709Z"
   },
   {
    "duration": 17,
    "start_time": "2023-03-03T10:04:18.366Z"
   },
   {
    "duration": 28,
    "start_time": "2023-03-03T10:04:24.056Z"
   },
   {
    "duration": 5,
    "start_time": "2023-03-03T10:04:27.661Z"
   },
   {
    "duration": 19,
    "start_time": "2023-03-03T10:04:33.408Z"
   },
   {
    "duration": 34,
    "start_time": "2023-03-03T10:04:37.479Z"
   },
   {
    "duration": 26,
    "start_time": "2023-03-03T10:06:07.382Z"
   },
   {
    "duration": 22,
    "start_time": "2023-03-03T10:06:42.729Z"
   },
   {
    "duration": 21,
    "start_time": "2023-03-03T10:06:52.994Z"
   },
   {
    "duration": 15,
    "start_time": "2023-03-03T10:07:00.056Z"
   },
   {
    "duration": 13,
    "start_time": "2023-03-03T10:08:13.104Z"
   },
   {
    "duration": 38,
    "start_time": "2023-03-03T10:09:25.179Z"
   },
   {
    "duration": 18,
    "start_time": "2023-03-03T10:09:51.363Z"
   },
   {
    "duration": 17,
    "start_time": "2023-03-03T10:10:12.963Z"
   },
   {
    "duration": 4,
    "start_time": "2023-03-03T10:10:22.821Z"
   },
   {
    "duration": 5,
    "start_time": "2023-03-03T10:10:31.963Z"
   },
   {
    "duration": 27,
    "start_time": "2023-03-03T10:11:01.207Z"
   },
   {
    "duration": 6,
    "start_time": "2023-03-03T10:11:07.928Z"
   },
   {
    "duration": 5,
    "start_time": "2023-03-03T10:11:39.064Z"
   },
   {
    "duration": 15,
    "start_time": "2023-03-03T10:11:51.565Z"
   },
   {
    "duration": 5,
    "start_time": "2023-03-03T10:11:54.977Z"
   },
   {
    "duration": 4,
    "start_time": "2023-03-03T10:16:18.432Z"
   },
   {
    "duration": 14,
    "start_time": "2023-03-03T10:16:18.438Z"
   },
   {
    "duration": 21,
    "start_time": "2023-03-03T10:16:18.453Z"
   },
   {
    "duration": 278,
    "start_time": "2023-03-03T10:16:18.476Z"
   },
   {
    "duration": 104,
    "start_time": "2023-03-03T10:16:18.756Z"
   },
   {
    "duration": 15,
    "start_time": "2023-03-03T10:16:18.862Z"
   },
   {
    "duration": 4,
    "start_time": "2023-03-03T10:16:18.894Z"
   },
   {
    "duration": 35,
    "start_time": "2023-03-03T10:16:18.905Z"
   },
   {
    "duration": 28,
    "start_time": "2023-03-03T10:16:18.943Z"
   },
   {
    "duration": 704,
    "start_time": "2023-03-03T10:16:18.972Z"
   },
   {
    "duration": 67,
    "start_time": "2023-03-03T10:16:19.678Z"
   },
   {
    "duration": 894,
    "start_time": "2023-03-03T10:16:19.747Z"
   },
   {
    "duration": 6,
    "start_time": "2023-03-03T10:16:20.642Z"
   },
   {
    "duration": 34,
    "start_time": "2023-03-03T10:16:20.649Z"
   },
   {
    "duration": 706,
    "start_time": "2023-03-03T10:16:20.685Z"
   },
   {
    "duration": 18,
    "start_time": "2023-03-03T10:16:21.392Z"
   },
   {
    "duration": 657,
    "start_time": "2023-03-03T10:16:21.412Z"
   },
   {
    "duration": 7936,
    "start_time": "2023-03-03T10:16:22.071Z"
   },
   {
    "duration": 14,
    "start_time": "2023-03-03T10:16:30.013Z"
   },
   {
    "duration": 14,
    "start_time": "2023-03-03T10:16:30.029Z"
   },
   {
    "duration": 7,
    "start_time": "2023-03-03T10:16:30.045Z"
   },
   {
    "duration": 15,
    "start_time": "2023-03-03T10:16:30.053Z"
   },
   {
    "duration": 24,
    "start_time": "2023-03-03T10:16:30.070Z"
   },
   {
    "duration": 302,
    "start_time": "2023-03-03T10:16:30.101Z"
   },
   {
    "duration": 98,
    "start_time": "2023-03-03T10:16:30.407Z"
   },
   {
    "duration": 455,
    "start_time": "2023-03-03T10:16:30.508Z"
   },
   {
    "duration": 1600,
    "start_time": "2023-03-03T10:16:30.965Z"
   },
   {
    "duration": 3731,
    "start_time": "2023-03-03T10:16:32.566Z"
   },
   {
    "duration": 253,
    "start_time": "2023-03-03T10:16:36.302Z"
   },
   {
    "duration": 271,
    "start_time": "2023-03-03T10:16:36.557Z"
   },
   {
    "duration": 155,
    "start_time": "2023-03-03T10:16:36.829Z"
   },
   {
    "duration": 28,
    "start_time": "2023-03-03T10:16:36.985Z"
   },
   {
    "duration": 60,
    "start_time": "2023-03-03T10:16:37.015Z"
   },
   {
    "duration": 33,
    "start_time": "2023-03-03T10:16:37.077Z"
   },
   {
    "duration": 28,
    "start_time": "2023-03-03T10:16:37.116Z"
   },
   {
    "duration": 136,
    "start_time": "2023-03-03T10:16:37.145Z"
   },
   {
    "duration": 39,
    "start_time": "2023-03-03T10:16:37.283Z"
   },
   {
    "duration": 14,
    "start_time": "2023-03-03T10:16:37.324Z"
   },
   {
    "duration": 334,
    "start_time": "2023-03-03T10:16:37.340Z"
   },
   {
    "duration": 58,
    "start_time": "2023-03-03T10:16:37.676Z"
   },
   {
    "duration": 19,
    "start_time": "2023-03-03T10:16:37.736Z"
   },
   {
    "duration": 62,
    "start_time": "2023-03-03T10:16:37.757Z"
   },
   {
    "duration": 6,
    "start_time": "2023-03-03T10:16:37.821Z"
   },
   {
    "duration": 25,
    "start_time": "2023-03-03T10:16:37.829Z"
   },
   {
    "duration": 29,
    "start_time": "2023-03-03T10:16:37.856Z"
   },
   {
    "duration": 18,
    "start_time": "2023-03-03T10:16:37.887Z"
   },
   {
    "duration": 1527,
    "start_time": "2023-03-03T10:16:47.369Z"
   },
   {
    "duration": 9,
    "start_time": "2023-03-03T10:16:48.902Z"
   },
   {
    "duration": 28,
    "start_time": "2023-03-03T10:16:48.912Z"
   },
   {
    "duration": 278,
    "start_time": "2023-03-03T10:16:48.941Z"
   },
   {
    "duration": 109,
    "start_time": "2023-03-03T10:16:49.221Z"
   },
   {
    "duration": 28,
    "start_time": "2023-03-03T10:16:49.332Z"
   },
   {
    "duration": 4,
    "start_time": "2023-03-03T10:16:49.362Z"
   },
   {
    "duration": 62,
    "start_time": "2023-03-03T10:16:49.367Z"
   },
   {
    "duration": 29,
    "start_time": "2023-03-03T10:16:49.431Z"
   },
   {
    "duration": 688,
    "start_time": "2023-03-03T10:16:49.462Z"
   },
   {
    "duration": 95,
    "start_time": "2023-03-03T10:16:50.152Z"
   },
   {
    "duration": 861,
    "start_time": "2023-03-03T10:16:50.249Z"
   },
   {
    "duration": 7,
    "start_time": "2023-03-03T10:16:51.112Z"
   },
   {
    "duration": 20,
    "start_time": "2023-03-03T10:16:51.124Z"
   },
   {
    "duration": 691,
    "start_time": "2023-03-03T10:16:51.146Z"
   },
   {
    "duration": 12,
    "start_time": "2023-03-03T10:16:51.839Z"
   },
   {
    "duration": 697,
    "start_time": "2023-03-03T10:16:51.853Z"
   },
   {
    "duration": 8001,
    "start_time": "2023-03-03T10:16:52.552Z"
   },
   {
    "duration": 13,
    "start_time": "2023-03-03T10:17:00.555Z"
   },
   {
    "duration": 52,
    "start_time": "2023-03-03T10:17:00.570Z"
   },
   {
    "duration": 63,
    "start_time": "2023-03-03T10:17:00.624Z"
   },
   {
    "duration": 78,
    "start_time": "2023-03-03T10:17:00.689Z"
   },
   {
    "duration": 35,
    "start_time": "2023-03-03T10:17:00.770Z"
   },
   {
    "duration": 364,
    "start_time": "2023-03-03T10:17:00.816Z"
   },
   {
    "duration": 138,
    "start_time": "2023-03-03T10:17:01.182Z"
   },
   {
    "duration": 531,
    "start_time": "2023-03-03T10:17:01.323Z"
   },
   {
    "duration": 1264,
    "start_time": "2023-03-03T10:17:01.856Z"
   },
   {
    "duration": 3652,
    "start_time": "2023-03-03T10:17:03.123Z"
   },
   {
    "duration": 268,
    "start_time": "2023-03-03T10:17:06.778Z"
   },
   {
    "duration": 214,
    "start_time": "2023-03-03T10:17:07.047Z"
   },
   {
    "duration": 167,
    "start_time": "2023-03-03T10:17:07.262Z"
   },
   {
    "duration": 20,
    "start_time": "2023-03-03T10:17:07.431Z"
   },
   {
    "duration": 40,
    "start_time": "2023-03-03T10:17:07.453Z"
   },
   {
    "duration": 33,
    "start_time": "2023-03-03T10:17:07.496Z"
   },
   {
    "duration": 27,
    "start_time": "2023-03-03T10:17:07.531Z"
   },
   {
    "duration": 176,
    "start_time": "2023-03-03T10:17:07.559Z"
   },
   {
    "duration": 17,
    "start_time": "2023-03-03T10:17:07.738Z"
   },
   {
    "duration": 12,
    "start_time": "2023-03-03T10:17:07.757Z"
   },
   {
    "duration": 321,
    "start_time": "2023-03-03T10:17:07.770Z"
   },
   {
    "duration": 43,
    "start_time": "2023-03-03T10:17:08.093Z"
   },
   {
    "duration": 17,
    "start_time": "2023-03-03T10:17:08.140Z"
   },
   {
    "duration": 69,
    "start_time": "2023-03-03T10:17:08.159Z"
   },
   {
    "duration": 4,
    "start_time": "2023-03-03T10:17:08.230Z"
   },
   {
    "duration": 157,
    "start_time": "2023-03-03T10:17:08.235Z"
   },
   {
    "duration": 45,
    "start_time": "2023-03-03T10:17:08.394Z"
   },
   {
    "duration": 16,
    "start_time": "2023-03-03T10:17:08.441Z"
   },
   {
    "duration": 7,
    "start_time": "2023-03-03T10:17:08.460Z"
   },
   {
    "duration": 36,
    "start_time": "2023-03-03T10:17:35.665Z"
   },
   {
    "duration": 37,
    "start_time": "2023-03-03T10:17:40.288Z"
   },
   {
    "duration": 5,
    "start_time": "2023-03-03T10:17:55.495Z"
   },
   {
    "duration": 50,
    "start_time": "2023-03-03T10:21:24.878Z"
   },
   {
    "duration": 10,
    "start_time": "2023-03-03T10:21:30.109Z"
   },
   {
    "duration": 1589,
    "start_time": "2023-03-03T10:22:23.471Z"
   },
   {
    "duration": 9,
    "start_time": "2023-03-03T10:22:25.062Z"
   },
   {
    "duration": 60,
    "start_time": "2023-03-03T10:22:25.073Z"
   },
   {
    "duration": 287,
    "start_time": "2023-03-03T10:22:25.134Z"
   },
   {
    "duration": 117,
    "start_time": "2023-03-03T10:22:25.425Z"
   },
   {
    "duration": 48,
    "start_time": "2023-03-03T10:22:25.544Z"
   },
   {
    "duration": 5,
    "start_time": "2023-03-03T10:22:25.595Z"
   },
   {
    "duration": 68,
    "start_time": "2023-03-03T10:22:25.607Z"
   },
   {
    "duration": 48,
    "start_time": "2023-03-03T10:22:25.678Z"
   },
   {
    "duration": 1007,
    "start_time": "2023-03-03T10:22:25.728Z"
   },
   {
    "duration": 65,
    "start_time": "2023-03-03T10:22:26.736Z"
   },
   {
    "duration": 962,
    "start_time": "2023-03-03T10:22:26.803Z"
   },
   {
    "duration": 7,
    "start_time": "2023-03-03T10:22:27.767Z"
   },
   {
    "duration": 42,
    "start_time": "2023-03-03T10:22:27.800Z"
   },
   {
    "duration": 760,
    "start_time": "2023-03-03T10:22:27.844Z"
   },
   {
    "duration": 14,
    "start_time": "2023-03-03T10:22:28.606Z"
   },
   {
    "duration": 716,
    "start_time": "2023-03-03T10:22:28.623Z"
   },
   {
    "duration": 8812,
    "start_time": "2023-03-03T10:22:29.340Z"
   },
   {
    "duration": 46,
    "start_time": "2023-03-03T10:22:38.154Z"
   },
   {
    "duration": 28,
    "start_time": "2023-03-03T10:22:38.203Z"
   },
   {
    "duration": 4,
    "start_time": "2023-03-03T10:22:38.233Z"
   },
   {
    "duration": 14,
    "start_time": "2023-03-03T10:22:38.239Z"
   },
   {
    "duration": 16,
    "start_time": "2023-03-03T10:22:38.255Z"
   },
   {
    "duration": 414,
    "start_time": "2023-03-03T10:22:38.273Z"
   },
   {
    "duration": 107,
    "start_time": "2023-03-03T10:22:38.693Z"
   },
   {
    "duration": 545,
    "start_time": "2023-03-03T10:22:38.802Z"
   },
   {
    "duration": 1351,
    "start_time": "2023-03-03T10:22:39.349Z"
   },
   {
    "duration": 3627,
    "start_time": "2023-03-03T10:22:40.705Z"
   },
   {
    "duration": 222,
    "start_time": "2023-03-03T10:22:44.333Z"
   },
   {
    "duration": 221,
    "start_time": "2023-03-03T10:22:44.556Z"
   },
   {
    "duration": 167,
    "start_time": "2023-03-03T10:22:44.779Z"
   },
   {
    "duration": 21,
    "start_time": "2023-03-03T10:22:44.948Z"
   },
   {
    "duration": 47,
    "start_time": "2023-03-03T10:22:44.971Z"
   },
   {
    "duration": 22,
    "start_time": "2023-03-03T10:22:45.021Z"
   },
   {
    "duration": 26,
    "start_time": "2023-03-03T10:22:45.045Z"
   },
   {
    "duration": 167,
    "start_time": "2023-03-03T10:22:45.073Z"
   },
   {
    "duration": 16,
    "start_time": "2023-03-03T10:22:45.242Z"
   },
   {
    "duration": 11,
    "start_time": "2023-03-03T10:22:45.260Z"
   },
   {
    "duration": 308,
    "start_time": "2023-03-03T10:22:45.273Z"
   },
   {
    "duration": 47,
    "start_time": "2023-03-03T10:22:45.582Z"
   },
   {
    "duration": 16,
    "start_time": "2023-03-03T10:22:45.633Z"
   },
   {
    "duration": 64,
    "start_time": "2023-03-03T10:22:45.650Z"
   },
   {
    "duration": 6,
    "start_time": "2023-03-03T10:22:45.717Z"
   },
   {
    "duration": 150,
    "start_time": "2023-03-03T10:22:45.725Z"
   },
   {
    "duration": 50,
    "start_time": "2023-03-03T10:22:45.878Z"
   },
   {
    "duration": 20,
    "start_time": "2023-03-03T10:22:45.930Z"
   },
   {
    "duration": 5,
    "start_time": "2023-03-03T10:22:45.951Z"
   },
   {
    "duration": 62,
    "start_time": "2023-03-03T10:22:45.958Z"
   },
   {
    "duration": 37,
    "start_time": "2023-03-03T10:23:41.263Z"
   },
   {
    "duration": 138,
    "start_time": "2023-03-03T10:26:36.184Z"
   },
   {
    "duration": 7,
    "start_time": "2023-03-03T10:26:39.866Z"
   },
   {
    "duration": 124,
    "start_time": "2023-03-03T10:26:47.817Z"
   },
   {
    "duration": 147,
    "start_time": "2023-03-03T10:26:53.171Z"
   },
   {
    "duration": 107,
    "start_time": "2023-03-03T10:26:57.972Z"
   },
   {
    "duration": 99,
    "start_time": "2023-03-03T10:27:05.636Z"
   },
   {
    "duration": 113,
    "start_time": "2023-03-03T10:27:22.984Z"
   },
   {
    "duration": 118,
    "start_time": "2023-03-03T10:28:08.172Z"
   },
   {
    "duration": 130,
    "start_time": "2023-03-03T10:28:18.826Z"
   },
   {
    "duration": 130,
    "start_time": "2023-03-03T10:28:41.090Z"
   }
  ],
  "kernelspec": {
   "display_name": "Python 3 (ipykernel)",
   "language": "python",
   "name": "python3"
  },
  "language_info": {
   "codemirror_mode": {
    "name": "ipython",
    "version": 3
   },
   "file_extension": ".py",
   "mimetype": "text/x-python",
   "name": "python",
   "nbconvert_exporter": "python",
   "pygments_lexer": "ipython3",
   "version": "3.9.5"
  },
  "toc": {
   "base_numbering": 1,
   "nav_menu": {},
   "number_sections": true,
   "sideBar": true,
   "skip_h1_title": true,
   "title_cell": "Table of Contents",
   "title_sidebar": "Contents",
   "toc_cell": false,
   "toc_position": {},
   "toc_section_display": true,
   "toc_window_display": false
  },
  "vscode": {
   "interpreter": {
    "hash": "97ffb4e95d87c2f399d0e262204949903b2664ce68048a5555d3df4fa9745104"
   }
  }
 },
 "nbformat": 4,
 "nbformat_minor": 2
}
